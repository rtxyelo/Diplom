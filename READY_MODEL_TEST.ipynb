{
  "nbformat": 4,
  "nbformat_minor": 0,
  "metadata": {
    "colab": {
      "name": "READY MODEL TEST.ipynb",
      "provenance": [],
      "collapsed_sections": []
    },
    "kernelspec": {
      "name": "python3",
      "display_name": "Python 3"
    },
    "language_info": {
      "name": "python"
    },
    "accelerator": "GPU"
  },
  "cells": [
    {
      "cell_type": "code",
      "execution_count": null,
      "metadata": {
        "id": "agj3R5KQ9gSH"
      },
      "outputs": [],
      "source": [
        ""
      ]
    },
    {
      "cell_type": "markdown",
      "source": [
        "# Test model "
      ],
      "metadata": {
        "id": "qEhxxBQp9ifb"
      }
    },
    {
      "cell_type": "code",
      "source": [
        "# Connect to google drive\n",
        "from google.colab import drive\n",
        "drive.mount('/content/drive')"
      ],
      "metadata": {
        "colab": {
          "base_uri": "https://localhost:8080/"
        },
        "id": "VBobObU49he9",
        "outputId": "4324543f-b37d-4305-afdf-5002f2f49c20"
      },
      "execution_count": null,
      "outputs": [
        {
          "output_type": "stream",
          "name": "stdout",
          "text": [
            "Mounted at /content/drive\n"
          ]
        }
      ]
    },
    {
      "cell_type": "code",
      "source": [
        "# Import libraries\n",
        "import numpy as np\n",
        "import pandas as pd\n",
        "\n",
        "import tensorflow as tf\n",
        "from tensorflow import keras\n",
        "from tensorflow.keras.preprocessing.sequence import pad_sequences\n",
        "from tensorflow.keras.preprocessing.text import Tokenizer\n",
        "import pickle\n",
        "\n",
        "import string\n",
        "import re\n",
        "import nltk\n",
        "nltk.download('stopwords')\n",
        "nltk.download('punkt')\n",
        "from nltk.corpus import stopwords\n",
        "from nltk import word_tokenize\n",
        "from string import punctuation\n",
        "from nltk.stem.snowball import SnowballStemmer \n",
        "from pymystem3 import Mystem\n",
        "mystem = Mystem() \n",
        "\n",
        "\n",
        "russian_stopwords = stopwords.words(\"russian\")\n",
        "russian_stopwords.extend(['…', '«', '»', '...', 'т.д.', 'т', 'д'])\n",
        "stemmer = SnowballStemmer(\"russian\")"
      ],
      "metadata": {
        "colab": {
          "base_uri": "https://localhost:8080/"
        },
        "id": "sD_IX-w49hhU",
        "outputId": "aa56f865-9af3-45b3-da06-1d1d9bcaedb7"
      },
      "execution_count": null,
      "outputs": [
        {
          "output_type": "stream",
          "name": "stdout",
          "text": [
            "[nltk_data] Downloading package stopwords to /root/nltk_data...\n",
            "[nltk_data]   Unzipping corpora/stopwords.zip.\n",
            "[nltk_data] Downloading package punkt to /root/nltk_data...\n",
            "[nltk_data]   Unzipping tokenizers/punkt.zip.\n"
          ]
        },
        {
          "output_type": "stream",
          "name": "stderr",
          "text": [
            "Installing mystem to /root/.local/bin/mystem from http://download.cdn.yandex.net/mystem/mystem-3.1-linux-64bit.tar.gz\n"
          ]
        }
      ]
    },
    {
      "cell_type": "code",
      "source": [
        "# Text clean function\n",
        "def clean_text(text, remove_sw=True, remove_stem=True, remove_lemm=False):\n",
        "    # Text to lower index\n",
        "    text = text.lower()\n",
        "\n",
        "    # Remove punkruation and numbers from the text\n",
        "    remove_punkt_digets = ''\n",
        "    for char in text:\n",
        "        if char not in string.punctuation and not char.isdigit():\n",
        "            remove_punkt_digets += char\n",
        "        else:\n",
        "            remove_punkt_digets += ' '\n",
        "\n",
        "    # Remove multiple spaces from the text\n",
        "    text = re.sub(r'\\s+', ' ', remove_punkt_digets, flags=re.I)\n",
        "\n",
        "    # Remove stopwords from the text (optional)\n",
        "    if remove_sw:\n",
        "        clean_text = ''\n",
        "        tokens = word_tokenize(text)  # tokenize text string\n",
        "        for token in tokens:\n",
        "            if token not in russian_stopwords and token != ' ':\n",
        "                clean_text = clean_text + ' ' + token\n",
        "        text = clean_text.strip()\n",
        "\n",
        "    # Stemming   \n",
        "    if remove_stem:\n",
        "      stemmed_tokens = []\n",
        "      tokens = word_tokenize(text) # tokenize text string\n",
        "      for token in tokens:\n",
        "        stemmed_tokens.append(stemmer.stem(token)) \n",
        "      text = \" \".join(stemmed_tokens)\n",
        "      text = text.strip()\n",
        "\n",
        "    # Lemmtization \n",
        "    if remove_lemm:\n",
        "      lemmed_tokens = []\n",
        "      tokens = word_tokenize(text) # tokenize text string\n",
        "      for token in tokens:\n",
        "        lemmed_tokens.append(mystem.lemmatize(token)[0])\n",
        "      text = \" \".join(lemmed_tokens)\n",
        "      text = text.strip()\n",
        "\n",
        "    return text"
      ],
      "metadata": {
        "id": "q3NbEmpx_8DP"
      },
      "execution_count": null,
      "outputs": []
    },
    {
      "cell_type": "code",
      "source": [
        "# Load the pretrained tokenizer\n",
        "with open('/content/drive/MyDrive/tokenizer/tokenizer.pickle', 'rb') as handle:\n",
        "    tokenizer = pickle.load(handle)"
      ],
      "metadata": {
        "id": "eFb5xMrMMFaA"
      },
      "execution_count": null,
      "outputs": []
    },
    {
      "cell_type": "code",
      "source": [
        "#tokenizer.word_index"
      ],
      "metadata": {
        "id": "UGl5QzVfeD4U"
      },
      "execution_count": null,
      "outputs": []
    },
    {
      "cell_type": "code",
      "source": [
        "# Dictionary of labels to predict\n",
        "labels_dict = {0: 'Бывший СССР', \n",
        "              1: 'Из жизни', \n",
        "              2: 'Интернет и СМИ', \n",
        "              3: 'Культура', \n",
        "              4: 'Мир', \n",
        "              5: 'Наука и техника', \n",
        "              6: 'Россия', \n",
        "              7: 'Силовые структуры', \n",
        "              8: 'Спорт', \n",
        "              9: 'Экономика'}"
      ],
      "metadata": {
        "id": "0f_W_wQOMS6W"
      },
      "execution_count": null,
      "outputs": []
    },
    {
      "cell_type": "markdown",
      "source": [
        "### Load the train model and testing on random article"
      ],
      "metadata": {
        "id": "K785VcPH7qBS"
      }
    },
    {
      "cell_type": "code",
      "source": [
        "# Import pretarined CNN model  \n",
        "file_path = \"/content/drive/MyDrive/best_model/model_best_val.h5\"  \n",
        "# It can be used to reconstruct the model identically.\n",
        "reconstructed_model = keras.models.load_model(file_path)"
      ],
      "metadata": {
        "id": "dhJoBzkg9hs9"
      },
      "execution_count": null,
      "outputs": []
    },
    {
      "cell_type": "code",
      "source": [
        "# Check model structure\n",
        "reconstructed_model.summary()"
      ],
      "metadata": {
        "colab": {
          "base_uri": "https://localhost:8080/"
        },
        "id": "cuo1QmzP9hxT",
        "outputId": "0dec32f5-f343-4d5d-8a38-da139a4c72bb"
      },
      "execution_count": null,
      "outputs": [
        {
          "output_type": "stream",
          "name": "stdout",
          "text": [
            "Model: \"sequential_4\"\n",
            "_________________________________________________________________\n",
            " Layer (type)                Output Shape              Param #   \n",
            "=================================================================\n",
            " embedding_4 (Embedding)     (None, 500, 200)          50000000  \n",
            "                                                                 \n",
            " conv1d_8 (Conv1D)           (None, 498, 16)           9616      \n",
            "                                                                 \n",
            " batch_normalization_8 (Batc  (None, 498, 16)          64        \n",
            " hNormalization)                                                 \n",
            "                                                                 \n",
            " max_pooling1d_8 (MaxPooling  (None, 249, 16)          0         \n",
            " 1D)                                                             \n",
            "                                                                 \n",
            " dropout_12 (Dropout)        (None, 249, 16)           0         \n",
            "                                                                 \n",
            " conv1d_9 (Conv1D)           (None, 247, 32)           1568      \n",
            "                                                                 \n",
            " batch_normalization_9 (Batc  (None, 247, 32)          128       \n",
            " hNormalization)                                                 \n",
            "                                                                 \n",
            " max_pooling1d_9 (MaxPooling  (None, 123, 32)          0         \n",
            " 1D)                                                             \n",
            "                                                                 \n",
            " dropout_13 (Dropout)        (None, 123, 32)           0         \n",
            "                                                                 \n",
            " flatten_4 (Flatten)         (None, 3936)              0         \n",
            "                                                                 \n",
            " dense_8 (Dense)             (None, 64)                251968    \n",
            "                                                                 \n",
            " dropout_14 (Dropout)        (None, 64)                0         \n",
            "                                                                 \n",
            " dense_9 (Dense)             (None, 10)                650       \n",
            "                                                                 \n",
            "=================================================================\n",
            "Total params: 50,263,994\n",
            "Trainable params: 50,263,898\n",
            "Non-trainable params: 96\n",
            "_________________________________________________________________\n"
          ]
        }
      ]
    },
    {
      "cell_type": "code",
      "source": [
        "# Text of the article\n",
        "news_article = 'Директор Государственного музея изобразительных искусств \\\n",
        "имени Пушкина Ирина Антонова названа лауреатом за 2000 год премии имени \\\n",
        "Шостаковича, учрежденной  Международным благотворительным фондом Юрия \\\n",
        "Башмета в 1994 году. Премия  вручается раз в год одному человеку за \\\n",
        "выдающиеся достижения в области искусства на  протяжении всей жизни. \\\n",
        "До сих пор ее лауреатами становились исключительно музыканты: скрипачи \\\n",
        "Гидон Кремер и Анна-Софи Муттер, виолончелистка Наталия Гутман, \\\n",
        "вокалисты  Томас Квастхофф (бас-баритон) и Ольга Бородина (меццо-сопрано), \\\n",
        "дирижер, художественный руководитель Мариинского театра  Валерий \\\n",
        "Гергиев. Церемония вручения премии имени Шостаковича Ирине Антоновой \\\n",
        "состоится 14 мая. Денежное наполнение премии составляет 25 тысяч долларов. \\\n",
        "Это самая большая из российских \"культурных\" премий.'"
      ],
      "metadata": {
        "id": "qcO3bTuu_gT0"
      },
      "execution_count": null,
      "outputs": []
    },
    {
      "cell_type": "code",
      "source": [
        "news_article2 = 'На берлинской международной авиационно-космической выставке \"ИЛА-2006\" Россия продемонстрирует новейший истребитель МиГ-29М (МиГ-35), сообщает пресс-служба ФСВТС России. МиГ-29М, разработка которого началась в середине 80-х годов XX века, является последней и наиболее совершенной модификацией платформы МиГ-29. Истребитель имеет цифровую электродистанционную систему управления, оснащен двигателями с изменяемым вектором тяги, новейшей системой управления огнем, включающей в себя усовершенствованную оптико-локационную станцию, позволяющую обнаруживать воздушные цели на значительном расстоянии не выдавая себя работой РЛС, и новейший радар, позволяющий обнаруживать различные типы воздушных, наземных и морских целей, в том числе построенных с применением технологий \"Стелс\". Истребитель будет способен применять все новейшие средства авиационного поражения, разработанные для машин фронтовой авиации, в том числе ракеты воздух-воздух РВВ-АЕ и воздух-земля Х-59М \"Овод\". По сравнению с МиГ-29 серий 9-12 и 9-13, состоящих сейчас на вооружении ВВС России, МиГ-29М имеет повышенную дальность полета - за счет более экономичных двигателей и наличия системы дозаправки в воздухе, большую бомбовую нагрузку за счет увеличения числа узлов подвески и более высокую маневренность. Также новый \"МиГ\" оснащен \"интеллектуальной кабиной\" с жидкокристаллическими панелями на приборной доске и нашлемной системой целеуказания. В конструкции планера истребителя применены радиопоглощающие материалы, снижающие его заметность для радаров противника. Выставка \"ILA-2006\" является одним из крупнейших авиационных форумов в мире. В нынешнем году она будет проводиться в восьмой раз.'"
      ],
      "metadata": {
        "id": "Pbl0pA0Genuc"
      },
      "execution_count": null,
      "outputs": []
    },
    {
      "cell_type": "code",
      "source": [
        "#                 Predict\n",
        "def label_predict(text):\n",
        "  # Clean text\n",
        "  clean_article = clean_text(text)\n",
        "\n",
        "  # Transform text to pad sequence\n",
        "  seq = tokenizer.texts_to_sequences([clean_article])\n",
        "  padded = pad_sequences(seq, maxlen=500, value=0.0,\n",
        "                         padding='post', truncating='post')\n",
        "\n",
        "  # Eval predict label\n",
        "  pred = reconstructed_model.predict(padded)\n",
        "\n",
        "  # Label name\n",
        "  predicted_label = labels_dict[np.argmax(pred[0])]\n",
        "\n",
        "  print(f'Predicted label is: {predicted_label}')"
      ],
      "metadata": {
        "id": "LWB7znKa_gWU"
      },
      "execution_count": null,
      "outputs": []
    },
    {
      "cell_type": "code",
      "source": [
        "label_predict(news_article)"
      ],
      "metadata": {
        "colab": {
          "base_uri": "https://localhost:8080/"
        },
        "id": "dMEgOWFafPNs",
        "outputId": "5145e93c-a4eb-478a-c04d-b75dd25e220b"
      },
      "execution_count": null,
      "outputs": [
        {
          "output_type": "stream",
          "name": "stdout",
          "text": [
            "Predicted label is: Культура\n"
          ]
        }
      ]
    },
    {
      "cell_type": "code",
      "source": [
        "label_predict(news_article2)"
      ],
      "metadata": {
        "colab": {
          "base_uri": "https://localhost:8080/"
        },
        "id": "PsO-GlHvfPQs",
        "outputId": "5f71455f-e89e-4594-e7ca-70ae7c803612"
      },
      "execution_count": null,
      "outputs": [
        {
          "output_type": "stream",
          "name": "stdout",
          "text": [
            "Product category id: 5\n",
            "Predicted label is: Наука и техника\n"
          ]
        }
      ]
    },
    {
      "cell_type": "code",
      "source": [
        ""
      ],
      "metadata": {
        "id": "8pmh0DTbfzMV"
      },
      "execution_count": null,
      "outputs": []
    },
    {
      "cell_type": "code",
      "source": [
        "df_res = pd.read_csv('/content/drive/MyDrive/lenta_parser/lenta_parser.csv')"
      ],
      "metadata": {
        "id": "Z0GItI2TfzR0"
      },
      "execution_count": null,
      "outputs": []
    },
    {
      "cell_type": "code",
      "source": [
        "df_res"
      ],
      "metadata": {
        "colab": {
          "base_uri": "https://localhost:8080/",
          "height": 641
        },
        "id": "fknfsqzwlmJO",
        "outputId": "789997ed-cb4b-4d95-c309-bdee9c92f2a0"
      },
      "execution_count": null,
      "outputs": [
        {
          "output_type": "execute_result",
          "data": {
            "text/plain": [
              "                                                 Title  \\\n",
              "0    Самый удаленный от Земли зонд начал присылать ...   \n",
              "1    Германия и Италия разрешили открывать счета в ...   \n",
              "2    Названа причина остановки производства вакцин ...   \n",
              "3    Назван способ определить ложный звонок «из пол...   \n",
              "4    В России напомнили о провокации продовольствен...   \n",
              "..                                                 ...   \n",
              "192  Создан эффективный способ лечения смертоносной...   \n",
              "193  Семья американцев умерла при загадочных обстоя...   \n",
              "194  Повара посоветовали необычный способ усилить в...   \n",
              "195      Путин поручил оценить антироссийские меры ВТО   \n",
              "196  Командир бригады ВСУ Волына покинул «Азовсталь...   \n",
              "\n",
              "                                           Description  \\\n",
              "0    Национальное управление по аэронавтике и иссле...   \n",
              "1    Власти Германии и Италии разрешили своим компа...   \n",
              "2    Замдиректора по научной работе ЦНИИ эпидемиоло...   \n",
              "3    Заслуженный юрист России Иван Соловьев рассказ...   \n",
              "4    Первый заместитель постоянного представителя Р...   \n",
              "..                                                 ...   \n",
              "192  Ученые Женской больницы Бригама в Бостоне созд...   \n",
              "193  Американская семья отправилась в отпуск на рос...   \n",
              "194  Повара посоветовали натирать посуду чесноком д...   \n",
              "195  Российский лидер Владимир Путин поручил правит...   \n",
              "196  Командир 36-й бригады морской пехоты Вооруженн...   \n",
              "\n",
              "                                                 Links  \\\n",
              "0              https://lenta.ru/news/2022/05/21/nasa_/   \n",
              "1                https://lenta.ru/news/2022/05/21/gas/   \n",
              "2    https://lenta.ru/news/2022/05/21/proizvodstvo_...   \n",
              "3               https://lenta.ru/news/2022/05/21/call/   \n",
              "4              https://lenta.ru/news/2022/05/21/zapad/   \n",
              "..                                                 ...   \n",
              "192      https://lenta.ru/news/2022/05/19/celltherapy/   \n",
              "193      https://lenta.ru/news/2022/05/20/familydeath/   \n",
              "194          https://lenta.ru/news/2022/05/20/chesnok/   \n",
              "195     https://lenta.ru/news/2022/05/20/putin_analiz/   \n",
              "196     https://lenta.ru/news/2022/05/20/vol_azovstal/   \n",
              "\n",
              "                    Publication Date  \n",
              "0    Sat, 21 May 2022 01:39:21 +0300  \n",
              "1    Sat, 21 May 2022 01:38:26 +0300  \n",
              "2    Sat, 21 May 2022 01:35:08 +0300  \n",
              "3    Sat, 21 May 2022 01:33:00 +0300  \n",
              "4    Sat, 21 May 2022 01:23:49 +0300  \n",
              "..                               ...  \n",
              "192  Fri, 20 May 2022 16:30:00 +0300  \n",
              "193  Fri, 20 May 2022 16:30:00 +0300  \n",
              "194  Fri, 20 May 2022 16:19:00 +0300  \n",
              "195  Fri, 20 May 2022 16:15:24 +0300  \n",
              "196  Fri, 20 May 2022 16:15:00 +0300  \n",
              "\n",
              "[197 rows x 4 columns]"
            ],
            "text/html": [
              "\n",
              "  <div id=\"df-ce624d16-3f9c-4025-bf3d-3b6fe7cdb0c5\">\n",
              "    <div class=\"colab-df-container\">\n",
              "      <div>\n",
              "<style scoped>\n",
              "    .dataframe tbody tr th:only-of-type {\n",
              "        vertical-align: middle;\n",
              "    }\n",
              "\n",
              "    .dataframe tbody tr th {\n",
              "        vertical-align: top;\n",
              "    }\n",
              "\n",
              "    .dataframe thead th {\n",
              "        text-align: right;\n",
              "    }\n",
              "</style>\n",
              "<table border=\"1\" class=\"dataframe\">\n",
              "  <thead>\n",
              "    <tr style=\"text-align: right;\">\n",
              "      <th></th>\n",
              "      <th>Title</th>\n",
              "      <th>Description</th>\n",
              "      <th>Links</th>\n",
              "      <th>Publication Date</th>\n",
              "    </tr>\n",
              "  </thead>\n",
              "  <tbody>\n",
              "    <tr>\n",
              "      <th>0</th>\n",
              "      <td>Самый удаленный от Земли зонд начал присылать ...</td>\n",
              "      <td>Национальное управление по аэронавтике и иссле...</td>\n",
              "      <td>https://lenta.ru/news/2022/05/21/nasa_/</td>\n",
              "      <td>Sat, 21 May 2022 01:39:21 +0300</td>\n",
              "    </tr>\n",
              "    <tr>\n",
              "      <th>1</th>\n",
              "      <td>Германия и Италия разрешили открывать счета в ...</td>\n",
              "      <td>Власти Германии и Италии разрешили своим компа...</td>\n",
              "      <td>https://lenta.ru/news/2022/05/21/gas/</td>\n",
              "      <td>Sat, 21 May 2022 01:38:26 +0300</td>\n",
              "    </tr>\n",
              "    <tr>\n",
              "      <th>2</th>\n",
              "      <td>Названа причина остановки производства вакцин ...</td>\n",
              "      <td>Замдиректора по научной работе ЦНИИ эпидемиоло...</td>\n",
              "      <td>https://lenta.ru/news/2022/05/21/proizvodstvo_...</td>\n",
              "      <td>Sat, 21 May 2022 01:35:08 +0300</td>\n",
              "    </tr>\n",
              "    <tr>\n",
              "      <th>3</th>\n",
              "      <td>Назван способ определить ложный звонок «из пол...</td>\n",
              "      <td>Заслуженный юрист России Иван Соловьев рассказ...</td>\n",
              "      <td>https://lenta.ru/news/2022/05/21/call/</td>\n",
              "      <td>Sat, 21 May 2022 01:33:00 +0300</td>\n",
              "    </tr>\n",
              "    <tr>\n",
              "      <th>4</th>\n",
              "      <td>В России напомнили о провокации продовольствен...</td>\n",
              "      <td>Первый заместитель постоянного представителя Р...</td>\n",
              "      <td>https://lenta.ru/news/2022/05/21/zapad/</td>\n",
              "      <td>Sat, 21 May 2022 01:23:49 +0300</td>\n",
              "    </tr>\n",
              "    <tr>\n",
              "      <th>...</th>\n",
              "      <td>...</td>\n",
              "      <td>...</td>\n",
              "      <td>...</td>\n",
              "      <td>...</td>\n",
              "    </tr>\n",
              "    <tr>\n",
              "      <th>192</th>\n",
              "      <td>Создан эффективный способ лечения смертоносной...</td>\n",
              "      <td>Ученые Женской больницы Бригама в Бостоне созд...</td>\n",
              "      <td>https://lenta.ru/news/2022/05/19/celltherapy/</td>\n",
              "      <td>Fri, 20 May 2022 16:30:00 +0300</td>\n",
              "    </tr>\n",
              "    <tr>\n",
              "      <th>193</th>\n",
              "      <td>Семья американцев умерла при загадочных обстоя...</td>\n",
              "      <td>Американская семья отправилась в отпуск на рос...</td>\n",
              "      <td>https://lenta.ru/news/2022/05/20/familydeath/</td>\n",
              "      <td>Fri, 20 May 2022 16:30:00 +0300</td>\n",
              "    </tr>\n",
              "    <tr>\n",
              "      <th>194</th>\n",
              "      <td>Повара посоветовали необычный способ усилить в...</td>\n",
              "      <td>Повара посоветовали натирать посуду чесноком д...</td>\n",
              "      <td>https://lenta.ru/news/2022/05/20/chesnok/</td>\n",
              "      <td>Fri, 20 May 2022 16:19:00 +0300</td>\n",
              "    </tr>\n",
              "    <tr>\n",
              "      <th>195</th>\n",
              "      <td>Путин поручил оценить антироссийские меры ВТО</td>\n",
              "      <td>Российский лидер Владимир Путин поручил правит...</td>\n",
              "      <td>https://lenta.ru/news/2022/05/20/putin_analiz/</td>\n",
              "      <td>Fri, 20 May 2022 16:15:24 +0300</td>\n",
              "    </tr>\n",
              "    <tr>\n",
              "      <th>196</th>\n",
              "      <td>Командир бригады ВСУ Волына покинул «Азовсталь...</td>\n",
              "      <td>Командир 36-й бригады морской пехоты Вооруженн...</td>\n",
              "      <td>https://lenta.ru/news/2022/05/20/vol_azovstal/</td>\n",
              "      <td>Fri, 20 May 2022 16:15:00 +0300</td>\n",
              "    </tr>\n",
              "  </tbody>\n",
              "</table>\n",
              "<p>197 rows × 4 columns</p>\n",
              "</div>\n",
              "      <button class=\"colab-df-convert\" onclick=\"convertToInteractive('df-ce624d16-3f9c-4025-bf3d-3b6fe7cdb0c5')\"\n",
              "              title=\"Convert this dataframe to an interactive table.\"\n",
              "              style=\"display:none;\">\n",
              "        \n",
              "  <svg xmlns=\"http://www.w3.org/2000/svg\" height=\"24px\"viewBox=\"0 0 24 24\"\n",
              "       width=\"24px\">\n",
              "    <path d=\"M0 0h24v24H0V0z\" fill=\"none\"/>\n",
              "    <path d=\"M18.56 5.44l.94 2.06.94-2.06 2.06-.94-2.06-.94-.94-2.06-.94 2.06-2.06.94zm-11 1L8.5 8.5l.94-2.06 2.06-.94-2.06-.94L8.5 2.5l-.94 2.06-2.06.94zm10 10l.94 2.06.94-2.06 2.06-.94-2.06-.94-.94-2.06-.94 2.06-2.06.94z\"/><path d=\"M17.41 7.96l-1.37-1.37c-.4-.4-.92-.59-1.43-.59-.52 0-1.04.2-1.43.59L10.3 9.45l-7.72 7.72c-.78.78-.78 2.05 0 2.83L4 21.41c.39.39.9.59 1.41.59.51 0 1.02-.2 1.41-.59l7.78-7.78 2.81-2.81c.8-.78.8-2.07 0-2.86zM5.41 20L4 18.59l7.72-7.72 1.47 1.35L5.41 20z\"/>\n",
              "  </svg>\n",
              "      </button>\n",
              "      \n",
              "  <style>\n",
              "    .colab-df-container {\n",
              "      display:flex;\n",
              "      flex-wrap:wrap;\n",
              "      gap: 12px;\n",
              "    }\n",
              "\n",
              "    .colab-df-convert {\n",
              "      background-color: #E8F0FE;\n",
              "      border: none;\n",
              "      border-radius: 50%;\n",
              "      cursor: pointer;\n",
              "      display: none;\n",
              "      fill: #1967D2;\n",
              "      height: 32px;\n",
              "      padding: 0 0 0 0;\n",
              "      width: 32px;\n",
              "    }\n",
              "\n",
              "    .colab-df-convert:hover {\n",
              "      background-color: #E2EBFA;\n",
              "      box-shadow: 0px 1px 2px rgba(60, 64, 67, 0.3), 0px 1px 3px 1px rgba(60, 64, 67, 0.15);\n",
              "      fill: #174EA6;\n",
              "    }\n",
              "\n",
              "    [theme=dark] .colab-df-convert {\n",
              "      background-color: #3B4455;\n",
              "      fill: #D2E3FC;\n",
              "    }\n",
              "\n",
              "    [theme=dark] .colab-df-convert:hover {\n",
              "      background-color: #434B5C;\n",
              "      box-shadow: 0px 1px 3px 1px rgba(0, 0, 0, 0.15);\n",
              "      filter: drop-shadow(0px 1px 2px rgba(0, 0, 0, 0.3));\n",
              "      fill: #FFFFFF;\n",
              "    }\n",
              "  </style>\n",
              "\n",
              "      <script>\n",
              "        const buttonEl =\n",
              "          document.querySelector('#df-ce624d16-3f9c-4025-bf3d-3b6fe7cdb0c5 button.colab-df-convert');\n",
              "        buttonEl.style.display =\n",
              "          google.colab.kernel.accessAllowed ? 'block' : 'none';\n",
              "\n",
              "        async function convertToInteractive(key) {\n",
              "          const element = document.querySelector('#df-ce624d16-3f9c-4025-bf3d-3b6fe7cdb0c5');\n",
              "          const dataTable =\n",
              "            await google.colab.kernel.invokeFunction('convertToInteractive',\n",
              "                                                     [key], {});\n",
              "          if (!dataTable) return;\n",
              "\n",
              "          const docLinkHtml = 'Like what you see? Visit the ' +\n",
              "            '<a target=\"_blank\" href=https://colab.research.google.com/notebooks/data_table.ipynb>data table notebook</a>'\n",
              "            + ' to learn more about interactive tables.';\n",
              "          element.innerHTML = '';\n",
              "          dataTable['output_type'] = 'display_data';\n",
              "          await google.colab.output.renderOutput(dataTable, element);\n",
              "          const docLink = document.createElement('div');\n",
              "          docLink.innerHTML = docLinkHtml;\n",
              "          element.appendChild(docLink);\n",
              "        }\n",
              "      </script>\n",
              "    </div>\n",
              "  </div>\n",
              "  "
            ]
          },
          "metadata": {},
          "execution_count": 15
        }
      ]
    },
    {
      "cell_type": "code",
      "source": [
        "classified_news = pd.DataFrame(columns=['text', 'topic'])\n",
        "predicted_articles = []\n",
        "predicted_labels = []\n",
        "for article in df_res['Description']:\n",
        "  # Clean text\n",
        "  clean_article = clean_text(article)\n",
        "\n",
        "  # Transform text to pad sequence\n",
        "  seq = tokenizer.texts_to_sequences([clean_article])\n",
        "  padded = pad_sequences(seq, maxlen=500, padding='post', truncating='post')  \n",
        "\n",
        "  # Eval predict label\n",
        "  pred = reconstructed_model.predict(padded)\n",
        "\n",
        "  # Label name\n",
        "  predicted_label = labels_dict[np.argmax(pred[0])]\n",
        "\n",
        "  predicted_articles.append(article)\n",
        "  predicted_labels.append(predicted_label)\n",
        "\n",
        "classified_news['text'] = predicted_articles\n",
        "classified_news['topic'] = predicted_labels"
      ],
      "metadata": {
        "id": "iFBC6nqFlmLu"
      },
      "execution_count": null,
      "outputs": []
    },
    {
      "cell_type": "code",
      "source": [
        "classified_news"
      ],
      "metadata": {
        "colab": {
          "base_uri": "https://localhost:8080/",
          "height": 3971
        },
        "id": "dUcj-ohflmOg",
        "outputId": "e2154300-61d0-451c-e330-b71567c784ee"
      },
      "execution_count": null,
      "outputs": [
        {
          "output_type": "execute_result",
          "data": {
            "text/plain": [
              "                                                  text            topic\n",
              "0    Национальное управление по аэронавтике и иссле...  Наука и техника\n",
              "1    Власти Германии и Италии разрешили своим компа...           Россия\n",
              "2    Замдиректора по научной работе ЦНИИ эпидемиоло...  Наука и техника\n",
              "3    Заслуженный юрист России Иван Соловьев рассказ...  Наука и техника\n",
              "4    Первый заместитель постоянного представителя Р...  Наука и техника\n",
              "..                                                 ...              ...\n",
              "192  Ученые Женской больницы Бригама в Бостоне созд...  Наука и техника\n",
              "193  Американская семья отправилась в отпуск на рос...  Наука и техника\n",
              "194  Повара посоветовали натирать посуду чесноком д...         Культура\n",
              "195  Российский лидер Владимир Путин поручил правит...        Экономика\n",
              "196  Командир 36-й бригады морской пехоты Вооруженн...      Бывший СССР\n",
              "\n",
              "[197 rows x 2 columns]"
            ],
            "text/html": [
              "\n",
              "  <div id=\"df-cbbe7a67-05ac-47f2-84c4-65b1a48c7788\">\n",
              "    <div class=\"colab-df-container\">\n",
              "      <div>\n",
              "<style scoped>\n",
              "    .dataframe tbody tr th:only-of-type {\n",
              "        vertical-align: middle;\n",
              "    }\n",
              "\n",
              "    .dataframe tbody tr th {\n",
              "        vertical-align: top;\n",
              "    }\n",
              "\n",
              "    .dataframe thead th {\n",
              "        text-align: right;\n",
              "    }\n",
              "</style>\n",
              "<table border=\"1\" class=\"dataframe\">\n",
              "  <thead>\n",
              "    <tr style=\"text-align: right;\">\n",
              "      <th></th>\n",
              "      <th>text</th>\n",
              "      <th>topic</th>\n",
              "    </tr>\n",
              "  </thead>\n",
              "  <tbody>\n",
              "    <tr>\n",
              "      <th>0</th>\n",
              "      <td>Национальное управление по аэронавтике и иссле...</td>\n",
              "      <td>Наука и техника</td>\n",
              "    </tr>\n",
              "    <tr>\n",
              "      <th>1</th>\n",
              "      <td>Власти Германии и Италии разрешили своим компа...</td>\n",
              "      <td>Россия</td>\n",
              "    </tr>\n",
              "    <tr>\n",
              "      <th>2</th>\n",
              "      <td>Замдиректора по научной работе ЦНИИ эпидемиоло...</td>\n",
              "      <td>Наука и техника</td>\n",
              "    </tr>\n",
              "    <tr>\n",
              "      <th>3</th>\n",
              "      <td>Заслуженный юрист России Иван Соловьев рассказ...</td>\n",
              "      <td>Наука и техника</td>\n",
              "    </tr>\n",
              "    <tr>\n",
              "      <th>4</th>\n",
              "      <td>Первый заместитель постоянного представителя Р...</td>\n",
              "      <td>Наука и техника</td>\n",
              "    </tr>\n",
              "    <tr>\n",
              "      <th>...</th>\n",
              "      <td>...</td>\n",
              "      <td>...</td>\n",
              "    </tr>\n",
              "    <tr>\n",
              "      <th>192</th>\n",
              "      <td>Ученые Женской больницы Бригама в Бостоне созд...</td>\n",
              "      <td>Наука и техника</td>\n",
              "    </tr>\n",
              "    <tr>\n",
              "      <th>193</th>\n",
              "      <td>Американская семья отправилась в отпуск на рос...</td>\n",
              "      <td>Наука и техника</td>\n",
              "    </tr>\n",
              "    <tr>\n",
              "      <th>194</th>\n",
              "      <td>Повара посоветовали натирать посуду чесноком д...</td>\n",
              "      <td>Культура</td>\n",
              "    </tr>\n",
              "    <tr>\n",
              "      <th>195</th>\n",
              "      <td>Российский лидер Владимир Путин поручил правит...</td>\n",
              "      <td>Экономика</td>\n",
              "    </tr>\n",
              "    <tr>\n",
              "      <th>196</th>\n",
              "      <td>Командир 36-й бригады морской пехоты Вооруженн...</td>\n",
              "      <td>Бывший СССР</td>\n",
              "    </tr>\n",
              "  </tbody>\n",
              "</table>\n",
              "<p>197 rows × 2 columns</p>\n",
              "</div>\n",
              "      <button class=\"colab-df-convert\" onclick=\"convertToInteractive('df-cbbe7a67-05ac-47f2-84c4-65b1a48c7788')\"\n",
              "              title=\"Convert this dataframe to an interactive table.\"\n",
              "              style=\"display:none;\">\n",
              "        \n",
              "  <svg xmlns=\"http://www.w3.org/2000/svg\" height=\"24px\"viewBox=\"0 0 24 24\"\n",
              "       width=\"24px\">\n",
              "    <path d=\"M0 0h24v24H0V0z\" fill=\"none\"/>\n",
              "    <path d=\"M18.56 5.44l.94 2.06.94-2.06 2.06-.94-2.06-.94-.94-2.06-.94 2.06-2.06.94zm-11 1L8.5 8.5l.94-2.06 2.06-.94-2.06-.94L8.5 2.5l-.94 2.06-2.06.94zm10 10l.94 2.06.94-2.06 2.06-.94-2.06-.94-.94-2.06-.94 2.06-2.06.94z\"/><path d=\"M17.41 7.96l-1.37-1.37c-.4-.4-.92-.59-1.43-.59-.52 0-1.04.2-1.43.59L10.3 9.45l-7.72 7.72c-.78.78-.78 2.05 0 2.83L4 21.41c.39.39.9.59 1.41.59.51 0 1.02-.2 1.41-.59l7.78-7.78 2.81-2.81c.8-.78.8-2.07 0-2.86zM5.41 20L4 18.59l7.72-7.72 1.47 1.35L5.41 20z\"/>\n",
              "  </svg>\n",
              "      </button>\n",
              "      \n",
              "  <style>\n",
              "    .colab-df-container {\n",
              "      display:flex;\n",
              "      flex-wrap:wrap;\n",
              "      gap: 12px;\n",
              "    }\n",
              "\n",
              "    .colab-df-convert {\n",
              "      background-color: #E8F0FE;\n",
              "      border: none;\n",
              "      border-radius: 50%;\n",
              "      cursor: pointer;\n",
              "      display: none;\n",
              "      fill: #1967D2;\n",
              "      height: 32px;\n",
              "      padding: 0 0 0 0;\n",
              "      width: 32px;\n",
              "    }\n",
              "\n",
              "    .colab-df-convert:hover {\n",
              "      background-color: #E2EBFA;\n",
              "      box-shadow: 0px 1px 2px rgba(60, 64, 67, 0.3), 0px 1px 3px 1px rgba(60, 64, 67, 0.15);\n",
              "      fill: #174EA6;\n",
              "    }\n",
              "\n",
              "    [theme=dark] .colab-df-convert {\n",
              "      background-color: #3B4455;\n",
              "      fill: #D2E3FC;\n",
              "    }\n",
              "\n",
              "    [theme=dark] .colab-df-convert:hover {\n",
              "      background-color: #434B5C;\n",
              "      box-shadow: 0px 1px 3px 1px rgba(0, 0, 0, 0.15);\n",
              "      filter: drop-shadow(0px 1px 2px rgba(0, 0, 0, 0.3));\n",
              "      fill: #FFFFFF;\n",
              "    }\n",
              "  </style>\n",
              "\n",
              "      <script>\n",
              "        const buttonEl =\n",
              "          document.querySelector('#df-cbbe7a67-05ac-47f2-84c4-65b1a48c7788 button.colab-df-convert');\n",
              "        buttonEl.style.display =\n",
              "          google.colab.kernel.accessAllowed ? 'block' : 'none';\n",
              "\n",
              "        async function convertToInteractive(key) {\n",
              "          const element = document.querySelector('#df-cbbe7a67-05ac-47f2-84c4-65b1a48c7788');\n",
              "          const dataTable =\n",
              "            await google.colab.kernel.invokeFunction('convertToInteractive',\n",
              "                                                     [key], {});\n",
              "          if (!dataTable) return;\n",
              "\n",
              "          const docLinkHtml = 'Like what you see? Visit the ' +\n",
              "            '<a target=\"_blank\" href=https://colab.research.google.com/notebooks/data_table.ipynb>data table notebook</a>'\n",
              "            + ' to learn more about interactive tables.';\n",
              "          element.innerHTML = '';\n",
              "          dataTable['output_type'] = 'display_data';\n",
              "          await google.colab.output.renderOutput(dataTable, element);\n",
              "          const docLink = document.createElement('div');\n",
              "          docLink.innerHTML = docLinkHtml;\n",
              "          element.appendChild(docLink);\n",
              "        }\n",
              "      </script>\n",
              "    </div>\n",
              "  </div>\n",
              "  "
            ]
          },
          "metadata": {},
          "execution_count": 17
        }
      ]
    },
    {
      "cell_type": "code",
      "source": [
        "classified_news['topic'].unique()"
      ],
      "metadata": {
        "id": "LO9AvnaPlmRG",
        "colab": {
          "base_uri": "https://localhost:8080/"
        },
        "outputId": "ce209df5-5ada-43c7-e567-cb15e34be5c2"
      },
      "execution_count": null,
      "outputs": [
        {
          "output_type": "execute_result",
          "data": {
            "text/plain": [
              "array(['Наука и техника', 'Россия', 'Силовые структуры', 'Из жизни',\n",
              "       'Бывший СССР', 'Экономика', 'Мир', 'Спорт', 'Культура',\n",
              "       'Интернет и СМИ'], dtype=object)"
            ]
          },
          "metadata": {},
          "execution_count": 21
        }
      ]
    },
    {
      "cell_type": "code",
      "source": [
        ""
      ],
      "metadata": {
        "id": "EDc2HievlmTk"
      },
      "execution_count": null,
      "outputs": []
    },
    {
      "cell_type": "code",
      "source": [
        ""
      ],
      "metadata": {
        "id": "JeHiF7fmlmWI"
      },
      "execution_count": null,
      "outputs": []
    },
    {
      "cell_type": "code",
      "source": [
        ""
      ],
      "metadata": {
        "id": "ydYxMvv_lmYf"
      },
      "execution_count": null,
      "outputs": []
    },
    {
      "cell_type": "code",
      "source": [
        ""
      ],
      "metadata": {
        "id": "xizxxh1Xlma_"
      },
      "execution_count": null,
      "outputs": []
    },
    {
      "cell_type": "code",
      "source": [
        ""
      ],
      "metadata": {
        "id": "GjVP2KwMlmdL"
      },
      "execution_count": null,
      "outputs": []
    },
    {
      "cell_type": "code",
      "source": [
        ""
      ],
      "metadata": {
        "id": "YaeUOgM5lmfU"
      },
      "execution_count": null,
      "outputs": []
    },
    {
      "cell_type": "code",
      "source": [
        ""
      ],
      "metadata": {
        "id": "QwxLAvHBlmic"
      },
      "execution_count": null,
      "outputs": []
    },
    {
      "cell_type": "markdown",
      "source": [
        "# Test tflite model"
      ],
      "metadata": {
        "id": "J1ZztzabjIyV"
      }
    },
    {
      "cell_type": "code",
      "source": [
        "# Covert to .tflite\n",
        "converter = tf.lite.TFLiteConverter.from_saved_model(file_path2)\n",
        "tflite_model = converter.convert()"
      ],
      "metadata": {
        "colab": {
          "base_uri": "https://localhost:8080/"
        },
        "id": "OrauvSMrjGg7",
        "outputId": "20ff058a-f1f4-42bf-e481-839ae9776564"
      },
      "execution_count": null,
      "outputs": [
        {
          "output_type": "stream",
          "name": "stderr",
          "text": [
            "WARNING:absl:Buffer deduplication procedure will be skipped when flatbuffer library is not properly loaded\n"
          ]
        }
      ]
    },
    {
      "cell_type": "code",
      "source": [
        "import pathlib\n",
        "\n",
        "# Save tflite model\n",
        "tflite_model_file = pathlib.Path('model.tflite')\n",
        "tflite_model_file.write_bytes(tflite_model)"
      ],
      "metadata": {
        "colab": {
          "base_uri": "https://localhost:8080/"
        },
        "id": "mPukbYFzjGmD",
        "outputId": "295b5419-c723-4972-ee1e-1d2747e47d47"
      },
      "execution_count": null,
      "outputs": [
        {
          "output_type": "execute_result",
          "data": {
            "text/plain": [
              "76928292"
            ]
          },
          "metadata": {},
          "execution_count": 148
        }
      ]
    },
    {
      "cell_type": "code",
      "source": [
        "# Load saved model to interpreter\n",
        "interpreter = tf.lite.Interpreter(model_content=tflite_model)\n",
        "interpreter.allocate_tensors()"
      ],
      "metadata": {
        "id": "w5RBGXA3jHDz"
      },
      "execution_count": null,
      "outputs": []
    },
    {
      "cell_type": "code",
      "source": [
        "# Look at details for understand format of input data\n",
        "input_details = interpreter.get_input_details()\n",
        "output_details = interpreter.get_output_details()\n",
        "print(input_details)\n",
        "print()\n",
        "print(output_details)"
      ],
      "metadata": {
        "colab": {
          "base_uri": "https://localhost:8080/"
        },
        "id": "3nSy2GfhjHGd",
        "outputId": "97836dee-aa5c-4c03-b01e-7eb35b43e98d"
      },
      "execution_count": null,
      "outputs": [
        {
          "output_type": "stream",
          "name": "stdout",
          "text": [
            "[{'name': 'serving_default_embedding_5_input:0', 'index': 0, 'shape': array([  1, 200], dtype=int32), 'shape_signature': array([ -1, 200], dtype=int32), 'dtype': <class 'numpy.float32'>, 'quantization': (0.0, 0), 'quantization_parameters': {'scales': array([], dtype=float32), 'zero_points': array([], dtype=int32), 'quantized_dimension': 0}, 'sparsity_parameters': {}}]\n",
            "\n",
            "[{'name': 'StatefulPartitionedCall:0', 'index': 18, 'shape': array([ 1, 10], dtype=int32), 'shape_signature': array([-1, 10], dtype=int32), 'dtype': <class 'numpy.float32'>, 'quantization': (0.0, 0), 'quantization_parameters': {'scales': array([], dtype=float32), 'zero_points': array([], dtype=int32), 'quantized_dimension': 0}, 'sparsity_parameters': {}}]\n"
          ]
        }
      ]
    },
    {
      "cell_type": "code",
      "source": [
        "# We look at input_details 'shape': array([  1, 200] and 'dtype': <class 'numpy.float32'>\n",
        "# Use padded (it's our transform text with shape(1, 200)), exactly what is needed\n",
        "to_predict = np.array([[padded]], dtype=np.float32)\n",
        "print(to_predict)"
      ],
      "metadata": {
        "colab": {
          "base_uri": "https://localhost:8080/"
        },
        "id": "JRocBi5BjHIs",
        "outputId": "2532bdce-c9db-46c4-eec9-ab5a1d34a213"
      },
      "execution_count": null,
      "outputs": [
        {
          "output_type": "stream",
          "name": "stdout",
          "text": [
            "[[[[1.36000e+04 5.20340e+04 1.13600e+03 1.07000e+02 5.35200e+03\n",
            "    1.06400e+03 1.86640e+04 4.97900e+04 1.47000e+02 7.28000e+02\n",
            "    5.47900e+03 2.09410e+04 1.00025e+05 2.57140e+04 6.50300e+03\n",
            "    5.72000e+02 6.18000e+02 1.27100e+03 3.66100e+03 7.40700e+03\n",
            "    5.40000e+02 1.55100e+03 3.40000e+01 7.80000e+01 5.80000e+01\n",
            "    1.02200e+03 5.32400e+03 8.99800e+03 1.10640e+04 8.93710e+04\n",
            "    6.90000e+01 7.22000e+02 2.29000e+02 1.90000e+02 1.02200e+03\n",
            "    2.55750e+04 5.83170e+04 6.20000e+01 1.00000e+00 1.70320e+04\n",
            "    2.21310e+04 9.93000e+02 8.53600e+04 1.06400e+03 3.29360e+04\n",
            "    5.02000e+03 3.50200e+03 8.93710e+04 2.21000e+03 1.90820e+04\n",
            "    5.40000e+02 1.00030e+04 2.19430e+04 7.86000e+02 4.33800e+03\n",
            "    1.19330e+04 1.46600e+03 9.42600e+03 6.39500e+03 4.51000e+02\n",
            "    6.18000e+02 5.17000e+02 4.40000e+02 1.23300e+03 1.27900e+03\n",
            "    6.00000e+01 8.59000e+02 8.71000e+02 1.64000e+03 1.95840e+04\n",
            "    1.63750e+04 9.95800e+03 1.49200e+03 6.27800e+03 2.96000e+02\n",
            "    5.09000e+02 1.46000e+02 5.30200e+03 1.17520e+04 2.63370e+04\n",
            "    3.40000e+01 4.40000e+01 7.80000e+01 1.06400e+03 5.66000e+02\n",
            "    3.60700e+03 1.00000e+00 1.06640e+04 1.37600e+03 4.97000e+03\n",
            "    3.46400e+03 1.64640e+04 4.09000e+02 1.10529e+05 1.01220e+04\n",
            "    4.31000e+02 6.95600e+03 4.22440e+04 3.05000e+02 1.20000e+01\n",
            "    3.10600e+03 5.05100e+03 3.29360e+04 1.00000e+00 1.06474e+05\n",
            "    4.99600e+03 6.82700e+03 1.30600e+04 1.00000e+00 6.28830e+04\n",
            "    8.93710e+04 4.00000e+00 1.62100e+03 9.00000e+00 1.55000e+02\n",
            "    2.14530e+04 3.00000e+01 1.00510e+04 1.11640e+04 3.78000e+02\n",
            "    1.52500e+03 4.40000e+01 1.09290e+04 3.21800e+03 3.05000e+02\n",
            "    1.63000e+03 1.32659e+05 9.46060e+04 9.00000e+01 3.20400e+03\n",
            "    1.48000e+02 6.50000e+01 5.88500e+03 1.17000e+02 3.44500e+03\n",
            "    4.95000e+02 1.52500e+03 2.69400e+03 1.82900e+03 3.00000e+01\n",
            "    3.45900e+03 1.20200e+03 1.00000e+02 2.14530e+04 2.43000e+02\n",
            "    1.13858e+05 4.46700e+03 1.59020e+04 8.79960e+04 4.49000e+02\n",
            "    4.90680e+04 3.71300e+03 4.35000e+03 1.20200e+03 4.52000e+02\n",
            "    3.64000e+02 3.31000e+02 2.77400e+03 1.50000e+01 6.13100e+03\n",
            "    3.13680e+04 5.19000e+03 1.60000e+01 8.18340e+04 0.00000e+00\n",
            "    0.00000e+00 0.00000e+00 0.00000e+00 0.00000e+00 0.00000e+00\n",
            "    0.00000e+00 0.00000e+00 0.00000e+00 0.00000e+00 0.00000e+00\n",
            "    0.00000e+00 0.00000e+00 0.00000e+00 0.00000e+00 0.00000e+00\n",
            "    0.00000e+00 0.00000e+00 0.00000e+00 0.00000e+00 0.00000e+00\n",
            "    0.00000e+00 0.00000e+00 0.00000e+00 0.00000e+00 0.00000e+00\n",
            "    0.00000e+00 0.00000e+00 0.00000e+00 0.00000e+00 0.00000e+00\n",
            "    0.00000e+00 0.00000e+00 0.00000e+00 0.00000e+00 0.00000e+00]]]]\n"
          ]
        }
      ]
    },
    {
      "cell_type": "code",
      "source": [
        "# to_predict have shape(1, 1, 1, 200), but we need a shape(1, 200), (look input_details 'shape')\n",
        "# So, we just take to_predict[0][0]\n",
        "to_predict.shape"
      ],
      "metadata": {
        "colab": {
          "base_uri": "https://localhost:8080/"
        },
        "id": "fo-bDStTzkro",
        "outputId": "bf8f8b52-6a06-445d-e2f6-40e0d48c0cb5"
      },
      "execution_count": null,
      "outputs": [
        {
          "output_type": "execute_result",
          "data": {
            "text/plain": [
              "(1, 1, 1, 200)"
            ]
          },
          "metadata": {},
          "execution_count": 144
        }
      ]
    },
    {
      "cell_type": "code",
      "source": [
        "# Set an input tensor and call the interpreter\n",
        "interpreter.set_tensor(input_details[0]['index'], to_predict[0][0])\n",
        "interpreter.invoke()"
      ],
      "metadata": {
        "id": "oIYrF0KYjHLD"
      },
      "execution_count": null,
      "outputs": []
    },
    {
      "cell_type": "code",
      "source": [
        "# Get a result tensor\n",
        "tflite_results = interpreter.get_tensor(output_details[0]['index'])\n",
        "print(tflite_results)"
      ],
      "metadata": {
        "colab": {
          "base_uri": "https://localhost:8080/"
        },
        "id": "gSU1oGiljHUN",
        "outputId": "8cd6f9c8-57cf-44ee-9bed-ceb729c8c936"
      },
      "execution_count": null,
      "outputs": [
        {
          "output_type": "stream",
          "name": "stdout",
          "text": [
            "[[2.1825507e-04 7.5461329e-03 2.4342681e-03 9.8625529e-01 1.5844185e-03\n",
            "  2.5005580e-04 1.5650622e-03 1.0665232e-04 3.2020907e-05 7.8833200e-06]]\n"
          ]
        }
      ]
    },
    {
      "cell_type": "code",
      "source": [
        "# The model return shape(1, 10) vector\n",
        "tflite_results.shape"
      ],
      "metadata": {
        "colab": {
          "base_uri": "https://localhost:8080/"
        },
        "id": "cbeLJ2AsjHWX",
        "outputId": "2905384c-b8c2-4cb6-bb27-861d9c356c12"
      },
      "execution_count": null,
      "outputs": [
        {
          "output_type": "execute_result",
          "data": {
            "text/plain": [
              "(1, 10)"
            ]
          },
          "metadata": {},
          "execution_count": 142
        }
      ]
    },
    {
      "cell_type": "code",
      "source": [
        "# To predict the label take a max value of vector\n",
        "predict_label = np.argmax(tflite_results[0])"
      ],
      "metadata": {
        "id": "TBH-Jn1YjHYf"
      },
      "execution_count": null,
      "outputs": []
    },
    {
      "cell_type": "code",
      "source": [
        "print(f'Product category id: {predict_label}')\n",
        "print(f'Predicted label is: {labels_dict[predict_label]}')"
      ],
      "metadata": {
        "colab": {
          "base_uri": "https://localhost:8080/"
        },
        "id": "yjrO6IckjHac",
        "outputId": "76bccdc8-8cbc-4f2e-adcc-cb3c90223325"
      },
      "execution_count": null,
      "outputs": [
        {
          "output_type": "stream",
          "name": "stdout",
          "text": [
            "Product category id: 3\n",
            "Predicted label is: Культура\n"
          ]
        }
      ]
    },
    {
      "cell_type": "code",
      "source": [
        ""
      ],
      "metadata": {
        "id": "fXr0q0jYjHcs"
      },
      "execution_count": null,
      "outputs": []
    },
    {
      "cell_type": "code",
      "source": [
        ""
      ],
      "metadata": {
        "id": "x5pJMl-qjHfD"
      },
      "execution_count": null,
      "outputs": []
    }
  ]
}