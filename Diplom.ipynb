{
  "cells": [
    {
      "cell_type": "code",
      "execution_count": null,
      "metadata": {
        "id": "NSDlFE4BDJ16"
      },
      "outputs": [],
      "source": [
        ""
      ]
    },
    {
      "cell_type": "markdown",
      "metadata": {
        "id": "4tXAtomsDkIF"
      },
      "source": [
        "# Text classification"
      ]
    },
    {
      "cell_type": "markdown",
      "metadata": {
        "id": "gsO24z4PpgEa"
      },
      "source": [
        "### import libs and data"
      ]
    },
    {
      "cell_type": "code",
      "execution_count": null,
      "metadata": {
        "id": "-C4NKGi_DjKt",
        "colab": {
          "base_uri": "https://localhost:8080/"
        },
        "outputId": "35918622-fe14-4824-e638-d5a6a32511e5"
      },
      "outputs": [
        {
          "output_type": "stream",
          "name": "stdout",
          "text": [
            "Mounted at /content/drive\n"
          ]
        }
      ],
      "source": [
        "from google.colab import drive\n",
        "drive.mount('/content/drive')"
      ]
    },
    {
      "cell_type": "code",
      "execution_count": null,
      "metadata": {
        "colab": {
          "base_uri": "https://localhost:8080/"
        },
        "id": "8oh_MZeGDKsu",
        "outputId": "e5de9c0f-9fd1-4bbf-c2fa-b1ff8dfbab4f"
      },
      "outputs": [
        {
          "output_type": "stream",
          "name": "stdout",
          "text": [
            "[nltk_data] Downloading package stopwords to /root/nltk_data...\n",
            "[nltk_data]   Unzipping corpora/stopwords.zip.\n",
            "[nltk_data] Downloading package punkt to /root/nltk_data...\n",
            "[nltk_data]   Unzipping tokenizers/punkt.zip.\n",
            "2.8.2\n"
          ]
        }
      ],
      "source": [
        "import numpy as np\n",
        "import pandas as pd\n",
        "\n",
        "import tensorflow as tf\n",
        "from tensorflow import keras\n",
        "from tensorflow.keras.preprocessing.text import Tokenizer\n",
        "from tensorflow.keras.preprocessing.sequence import pad_sequences\n",
        "from tensorflow.keras import Sequential\n",
        "from tensorflow.keras.layers import Flatten, Dense, Embedding, Conv1D, Dropout, GlobalMaxPooling1D, BatchNormalization, MaxPooling1D\n",
        "from tensorflow.keras.callbacks import EarlyStopping, ReduceLROnPlateau, ModelCheckpoint\n",
        "\n",
        "from sklearn.metrics import accuracy_score, precision_score, recall_score, f1_score, confusion_matrix, classification_report\n",
        "from mlxtend.plotting import plot_confusion_matrix\n",
        "from sklearn.preprocessing import OneHotEncoder\n",
        "from sklearn.model_selection import train_test_split\n",
        "\n",
        "import re\n",
        "import nltk\n",
        "nltk.download('stopwords')\n",
        "nltk.download('punkt')\n",
        "from nltk.corpus import stopwords\n",
        "\n",
        "import matplotlib.pyplot as plt\n",
        "import seaborn as sns\n",
        "\n",
        "from tqdm.auto import tqdm, trange\n",
        "print(tf.__version__)"
      ]
    },
    {
      "cell_type": "markdown",
      "metadata": {
        "id": "B0yg9wZZlGYi"
      },
      "source": [
        "### Load data"
      ]
    },
    {
      "cell_type": "code",
      "execution_count": null,
      "metadata": {
        "colab": {
          "base_uri": "https://localhost:8080/"
        },
        "id": "QK1KdULaDKvE",
        "outputId": "3cc1362a-0896-47d0-a3ad-5812c29e9805"
      },
      "outputs": [
        {
          "output_type": "stream",
          "name": "stderr",
          "text": [
            "/usr/local/lib/python3.7/dist-packages/IPython/core/interactiveshell.py:2882: DtypeWarning: Columns (3) have mixed types.Specify dtype option on import or set low_memory=False.\n",
            "  exec(code_obj, self.user_global_ns, self.user_ns)\n"
          ]
        }
      ],
      "source": [
        "data = pd.read_csv('/content/drive/MyDrive/lenta_news/lenta-ru-news.csv')"
      ]
    },
    {
      "cell_type": "code",
      "execution_count": null,
      "metadata": {
        "id": "3iVtpOKc8Q_k"
      },
      "outputs": [],
      "source": [
        "data = data.drop(columns=['url', 'title', 'tags', 'date'])"
      ]
    },
    {
      "cell_type": "code",
      "execution_count": null,
      "metadata": {
        "colab": {
          "base_uri": "https://localhost:8080/"
        },
        "id": "SanH5EYXDOG2",
        "outputId": "0547d2a1-5678-4f74-88dc-8b77c24e69ae"
      },
      "outputs": [
        {
          "output_type": "execute_result",
          "data": {
            "text/plain": [
              "(800975, 2)"
            ]
          },
          "metadata": {},
          "execution_count": 5
        }
      ],
      "source": [
        "data.shape"
      ]
    },
    {
      "cell_type": "code",
      "execution_count": null,
      "metadata": {
        "id": "yz_ajbLeDOJP"
      },
      "outputs": [],
      "source": [
        "#data = data[:500000]"
      ]
    },
    {
      "cell_type": "code",
      "execution_count": null,
      "metadata": {
        "id": "Ac5gl9k0baj5"
      },
      "outputs": [],
      "source": [
        "# Drop rows with missing topics and texts\n",
        "data.dropna(subset=['topic'], inplace=True)\n",
        "data.dropna(subset=['text'], inplace=True)\n",
        "data.dropna(axis=0,inplace=True)"
      ]
    },
    {
      "cell_type": "code",
      "execution_count": null,
      "metadata": {
        "colab": {
          "base_uri": "https://localhost:8080/",
          "height": 424
        },
        "id": "Cw0Zg2PWdUAf",
        "outputId": "e47a3b1b-7a03-4158-855c-1d37b9642dd6"
      },
      "outputs": [
        {
          "output_type": "execute_result",
          "data": {
            "text/plain": [
              "                                                     text        topic\n",
              "0       Бои у Сопоцкина и Друскеник закончились отступ...   Библиотека\n",
              "1       Министерство народного просвещения, в виду про...   Библиотека\n",
              "2       Штабс-капитан П. Н. Нестеров на днях, увидев в...   Библиотека\n",
              "3       Фотограф-корреспондент Daily Mirror рассказыва...   Библиотека\n",
              "4       Лица, приехавшие в Варшаву из Люблина, передаю...   Библиотека\n",
              "...                                                   ...          ...\n",
              "739171  Протесты движения «желтых жилетов» в Париже сн...          Мир\n",
              "739172  Истребитель Су-27 разбился в Житомирской облас...  Бывший СССР\n",
              "739173  В Московском районе Санкт-Петербурга на продаж...          Дом\n",
              "739174  Швейцарский горнолыжник Марк Гизин неудачно пр...        Спорт\n",
              "739175  Президент России Владимир Путин рассказал, что...       Россия\n",
              "\n",
              "[738968 rows x 2 columns]"
            ],
            "text/html": [
              "\n",
              "  <div id=\"df-c1113061-15d2-4c17-bfbe-b5aaf06a62d7\">\n",
              "    <div class=\"colab-df-container\">\n",
              "      <div>\n",
              "<style scoped>\n",
              "    .dataframe tbody tr th:only-of-type {\n",
              "        vertical-align: middle;\n",
              "    }\n",
              "\n",
              "    .dataframe tbody tr th {\n",
              "        vertical-align: top;\n",
              "    }\n",
              "\n",
              "    .dataframe thead th {\n",
              "        text-align: right;\n",
              "    }\n",
              "</style>\n",
              "<table border=\"1\" class=\"dataframe\">\n",
              "  <thead>\n",
              "    <tr style=\"text-align: right;\">\n",
              "      <th></th>\n",
              "      <th>text</th>\n",
              "      <th>topic</th>\n",
              "    </tr>\n",
              "  </thead>\n",
              "  <tbody>\n",
              "    <tr>\n",
              "      <th>0</th>\n",
              "      <td>Бои у Сопоцкина и Друскеник закончились отступ...</td>\n",
              "      <td>Библиотека</td>\n",
              "    </tr>\n",
              "    <tr>\n",
              "      <th>1</th>\n",
              "      <td>Министерство народного просвещения, в виду про...</td>\n",
              "      <td>Библиотека</td>\n",
              "    </tr>\n",
              "    <tr>\n",
              "      <th>2</th>\n",
              "      <td>Штабс-капитан П. Н. Нестеров на днях, увидев в...</td>\n",
              "      <td>Библиотека</td>\n",
              "    </tr>\n",
              "    <tr>\n",
              "      <th>3</th>\n",
              "      <td>Фотограф-корреспондент Daily Mirror рассказыва...</td>\n",
              "      <td>Библиотека</td>\n",
              "    </tr>\n",
              "    <tr>\n",
              "      <th>4</th>\n",
              "      <td>Лица, приехавшие в Варшаву из Люблина, передаю...</td>\n",
              "      <td>Библиотека</td>\n",
              "    </tr>\n",
              "    <tr>\n",
              "      <th>...</th>\n",
              "      <td>...</td>\n",
              "      <td>...</td>\n",
              "    </tr>\n",
              "    <tr>\n",
              "      <th>739171</th>\n",
              "      <td>Протесты движения «желтых жилетов» в Париже сн...</td>\n",
              "      <td>Мир</td>\n",
              "    </tr>\n",
              "    <tr>\n",
              "      <th>739172</th>\n",
              "      <td>Истребитель Су-27 разбился в Житомирской облас...</td>\n",
              "      <td>Бывший СССР</td>\n",
              "    </tr>\n",
              "    <tr>\n",
              "      <th>739173</th>\n",
              "      <td>В Московском районе Санкт-Петербурга на продаж...</td>\n",
              "      <td>Дом</td>\n",
              "    </tr>\n",
              "    <tr>\n",
              "      <th>739174</th>\n",
              "      <td>Швейцарский горнолыжник Марк Гизин неудачно пр...</td>\n",
              "      <td>Спорт</td>\n",
              "    </tr>\n",
              "    <tr>\n",
              "      <th>739175</th>\n",
              "      <td>Президент России Владимир Путин рассказал, что...</td>\n",
              "      <td>Россия</td>\n",
              "    </tr>\n",
              "  </tbody>\n",
              "</table>\n",
              "<p>738968 rows × 2 columns</p>\n",
              "</div>\n",
              "      <button class=\"colab-df-convert\" onclick=\"convertToInteractive('df-c1113061-15d2-4c17-bfbe-b5aaf06a62d7')\"\n",
              "              title=\"Convert this dataframe to an interactive table.\"\n",
              "              style=\"display:none;\">\n",
              "        \n",
              "  <svg xmlns=\"http://www.w3.org/2000/svg\" height=\"24px\"viewBox=\"0 0 24 24\"\n",
              "       width=\"24px\">\n",
              "    <path d=\"M0 0h24v24H0V0z\" fill=\"none\"/>\n",
              "    <path d=\"M18.56 5.44l.94 2.06.94-2.06 2.06-.94-2.06-.94-.94-2.06-.94 2.06-2.06.94zm-11 1L8.5 8.5l.94-2.06 2.06-.94-2.06-.94L8.5 2.5l-.94 2.06-2.06.94zm10 10l.94 2.06.94-2.06 2.06-.94-2.06-.94-.94-2.06-.94 2.06-2.06.94z\"/><path d=\"M17.41 7.96l-1.37-1.37c-.4-.4-.92-.59-1.43-.59-.52 0-1.04.2-1.43.59L10.3 9.45l-7.72 7.72c-.78.78-.78 2.05 0 2.83L4 21.41c.39.39.9.59 1.41.59.51 0 1.02-.2 1.41-.59l7.78-7.78 2.81-2.81c.8-.78.8-2.07 0-2.86zM5.41 20L4 18.59l7.72-7.72 1.47 1.35L5.41 20z\"/>\n",
              "  </svg>\n",
              "      </button>\n",
              "      \n",
              "  <style>\n",
              "    .colab-df-container {\n",
              "      display:flex;\n",
              "      flex-wrap:wrap;\n",
              "      gap: 12px;\n",
              "    }\n",
              "\n",
              "    .colab-df-convert {\n",
              "      background-color: #E8F0FE;\n",
              "      border: none;\n",
              "      border-radius: 50%;\n",
              "      cursor: pointer;\n",
              "      display: none;\n",
              "      fill: #1967D2;\n",
              "      height: 32px;\n",
              "      padding: 0 0 0 0;\n",
              "      width: 32px;\n",
              "    }\n",
              "\n",
              "    .colab-df-convert:hover {\n",
              "      background-color: #E2EBFA;\n",
              "      box-shadow: 0px 1px 2px rgba(60, 64, 67, 0.3), 0px 1px 3px 1px rgba(60, 64, 67, 0.15);\n",
              "      fill: #174EA6;\n",
              "    }\n",
              "\n",
              "    [theme=dark] .colab-df-convert {\n",
              "      background-color: #3B4455;\n",
              "      fill: #D2E3FC;\n",
              "    }\n",
              "\n",
              "    [theme=dark] .colab-df-convert:hover {\n",
              "      background-color: #434B5C;\n",
              "      box-shadow: 0px 1px 3px 1px rgba(0, 0, 0, 0.15);\n",
              "      filter: drop-shadow(0px 1px 2px rgba(0, 0, 0, 0.3));\n",
              "      fill: #FFFFFF;\n",
              "    }\n",
              "  </style>\n",
              "\n",
              "      <script>\n",
              "        const buttonEl =\n",
              "          document.querySelector('#df-c1113061-15d2-4c17-bfbe-b5aaf06a62d7 button.colab-df-convert');\n",
              "        buttonEl.style.display =\n",
              "          google.colab.kernel.accessAllowed ? 'block' : 'none';\n",
              "\n",
              "        async function convertToInteractive(key) {\n",
              "          const element = document.querySelector('#df-c1113061-15d2-4c17-bfbe-b5aaf06a62d7');\n",
              "          const dataTable =\n",
              "            await google.colab.kernel.invokeFunction('convertToInteractive',\n",
              "                                                     [key], {});\n",
              "          if (!dataTable) return;\n",
              "\n",
              "          const docLinkHtml = 'Like what you see? Visit the ' +\n",
              "            '<a target=\"_blank\" href=https://colab.research.google.com/notebooks/data_table.ipynb>data table notebook</a>'\n",
              "            + ' to learn more about interactive tables.';\n",
              "          element.innerHTML = '';\n",
              "          dataTable['output_type'] = 'display_data';\n",
              "          await google.colab.output.renderOutput(dataTable, element);\n",
              "          const docLink = document.createElement('div');\n",
              "          docLink.innerHTML = docLinkHtml;\n",
              "          element.appendChild(docLink);\n",
              "        }\n",
              "      </script>\n",
              "    </div>\n",
              "  </div>\n",
              "  "
            ]
          },
          "metadata": {},
          "execution_count": 7
        }
      ],
      "source": [
        "data"
      ]
    },
    {
      "cell_type": "markdown",
      "metadata": {
        "id": "4pbh3NdCdi2n"
      },
      "source": [
        "### Выборка данных\n"
      ]
    },
    {
      "cell_type": "code",
      "execution_count": null,
      "metadata": {
        "colab": {
          "base_uri": "https://localhost:8080/"
        },
        "id": "2rEoAAg2DONt",
        "outputId": "1cb17c30-73f7-4bf3-e6f4-8f84ff793785"
      },
      "outputs": [
        {
          "output_type": "stream",
          "name": "stdout",
          "text": [
            "['Библиотека' 'Россия' 'Мир' 'Экономика' 'Интернет и СМИ' 'Спорт'\n",
            " 'Культура' 'Из жизни' 'Силовые структуры' 'Наука и техника' 'Бывший СССР'\n",
            " 'Дом' 'Сочи' 'ЧМ-2014' 'Путешествия' 'Ценности' 'Легпром' 'Бизнес'\n",
            " 'МедНовости' 'Оружие' '69-я параллель' 'Культпросвет ' 'Крым'] 23\n"
          ]
        }
      ],
      "source": [
        "print(data['topic'].unique(), len(data['topic'].unique()))"
      ]
    },
    {
      "cell_type": "code",
      "execution_count": null,
      "metadata": {
        "colab": {
          "base_uri": "https://localhost:8080/",
          "height": 369
        },
        "id": "9BdH6QTVdLI7",
        "outputId": "efe92453-2a20-49e4-b0a7-53aa7d2dda48"
      },
      "outputs": [
        {
          "output_type": "display_data",
          "data": {
            "text/plain": [
              "<Figure size 432x360 with 1 Axes>"
            ],
            "image/png": "[encoded data removed]"
          },
          "metadata": {}
        }
      ],
      "source": [
        "sns.set_style('whitegrid')\n",
        "plt.figure(figsize=(6, 5))\n",
        "ax = sns.countplot(x='topic', data=data)\n",
        "ax.set_xticklabels(ax.get_xticklabels(), rotation=40, ha=\"right\")\n",
        "plt.tight_layout()"
      ]
    },
    {
      "cell_type": "code",
      "execution_count": null,
      "metadata": {
        "id": "7qU3PR1rDOSG"
      },
      "outputs": [],
      "source": [
        "topics = ['Россия', 'Мир', 'Экономика', 'Интернет и СМИ', 'Спорт', 'Культура', \n",
        "          'Из жизни', 'Силовые структуры', 'Наука и техника', 'Бывший СССР']"
      ]
    },
    {
      "cell_type": "code",
      "execution_count": null,
      "metadata": {
        "colab": {
          "base_uri": "https://localhost:8080/"
        },
        "id": "B5S01XEUa4Kf",
        "outputId": "7468fc5e-dab3-4baa-e58e-2abaeaeb20f8"
      },
      "outputs": [
        {
          "output_type": "execute_result",
          "data": {
            "text/plain": [
              "(738968, 2)"
            ]
          },
          "metadata": {},
          "execution_count": 11
        }
      ],
      "source": [
        "data.shape"
      ]
    },
    {
      "cell_type": "code",
      "execution_count": null,
      "metadata": {
        "colab": {
          "base_uri": "https://localhost:8080/"
        },
        "id": "-6Sju_sTYDP_",
        "outputId": "2646c515-1407-4e1f-d456-750567813cfd"
      },
      "outputs": [
        {
          "output_type": "stream",
          "name": "stdout",
          "text": [
            "{'Россия': 160442, 'Мир': 136620, 'Экономика': 79528, 'Интернет и СМИ': 44663, 'Спорт': 64413, 'Культура': 53796, 'Из жизни': 27605, 'Силовые структуры': 19596, 'Наука и техника': 53136, 'Бывший СССР': 53402}\n"
          ]
        }
      ],
      "source": [
        "c = dict.fromkeys(topics, 0)\n",
        "for i in topics:\n",
        "  for j in data['topic']:\n",
        "    if j == i:\n",
        "      c[i] += 1\n",
        "print(c)"
      ]
    },
    {
      "cell_type": "code",
      "execution_count": null,
      "metadata": {
        "id": "e-fCfAT2DOeN"
      },
      "outputs": [],
      "source": [
        "news_in_cat_count = 19000"
      ]
    },
    {
      "cell_type": "code",
      "execution_count": null,
      "metadata": {
        "colab": {
          "base_uri": "https://localhost:8080/",
          "height": 49,
          "referenced_widgets": [
            "af6ee3f8317b4aa8b31ed019628afd1e",
            "14729b73f97a4b419aa29b7cbb7a0548",
            "2f2da6e986a64194893a6be8ce64201f",
            "438e1207fd8b470893836dd9a41018a2",
            "f9c2cbe9d6a6418b9c1be30d82ea436f",
            "e31f55cd37ab4a499b57f9c9bf78ba77",
            "8133be8005294129858c10d0f168c965",
            "4e8e4f0d5a924739aac6c28731fe2540",
            "90de67da9dbc48eda0bf6a1160152558",
            "3caf1b3fc82e41cf80f1b35aceb3329f",
            "e6661da968d04c0e9678107b0b42da2c"
          ]
        },
        "id": "dOCJidoLDOgl",
        "outputId": "18b5b371-11e9-4f74-9099-a09209f77bbe"
      },
      "outputs": [
        {
          "output_type": "display_data",
          "data": {
            "text/plain": [
              "  0%|          | 0/10 [00:00<?, ?it/s]"
            ],
            "application/vnd.jupyter.widget-view+json": {
              "version_major": 2,
              "version_minor": 0,
              "model_id": "af6ee3f8317b4aa8b31ed019628afd1e"
            }
          },
          "metadata": {}
        }
      ],
      "source": [
        "df_res = pd.DataFrame()\n",
        "\n",
        "for topic in tqdm(topics):\n",
        "    df_topic = data[data['topic'] == topic][:news_in_cat_count]\n",
        "    df_res = df_res.append(df_topic, ignore_index=True)"
      ]
    },
    {
      "cell_type": "code",
      "execution_count": null,
      "metadata": {
        "colab": {
          "base_uri": "https://localhost:8080/"
        },
        "id": "p92pXhPSDOi_",
        "outputId": "f1efa2f5-8f8f-407c-8991-2729cecaa7fd"
      },
      "outputs": [
        {
          "output_type": "execute_result",
          "data": {
            "text/plain": [
              "(190000, 2)"
            ]
          },
          "metadata": {},
          "execution_count": 15
        }
      ],
      "source": [
        "df_res.shape"
      ]
    },
    {
      "cell_type": "code",
      "execution_count": null,
      "metadata": {
        "colab": {
          "base_uri": "https://localhost:8080/",
          "height": 206
        },
        "id": "yJiAOMs3DOlF",
        "outputId": "5a6c9b2f-fee8-42e7-9699-0a6212743ca8"
      },
      "outputs": [
        {
          "output_type": "execute_result",
          "data": {
            "text/plain": [
              "                                                text   topic\n",
              "0  Как стало известно агентству Ассошиэйтед Пресс...  Россия\n",
              "1  В зале игровых автоматов в третьем ярусе подзе...  Россия\n",
              "2  Япония приняла решение разморозить кредиты Рос...  Россия\n",
              "3  В понедельник директор департамента внешних св...  Россия\n",
              "4  С 1 сентября на всей территории России вводитс...  Россия"
            ],
            "text/html": [
              "\n",
              "  <div id=\"df-e877da48-c8a8-47d6-b35c-30ae04997489\">\n",
              "    <div class=\"colab-df-container\">\n",
              "      <div>\n",
              "<style scoped>\n",
              "    .dataframe tbody tr th:only-of-type {\n",
              "        vertical-align: middle;\n",
              "    }\n",
              "\n",
              "    .dataframe tbody tr th {\n",
              "        vertical-align: top;\n",
              "    }\n",
              "\n",
              "    .dataframe thead th {\n",
              "        text-align: right;\n",
              "    }\n",
              "</style>\n",
              "<table border=\"1\" class=\"dataframe\">\n",
              "  <thead>\n",
              "    <tr style=\"text-align: right;\">\n",
              "      <th></th>\n",
              "      <th>text</th>\n",
              "      <th>topic</th>\n",
              "    </tr>\n",
              "  </thead>\n",
              "  <tbody>\n",
              "    <tr>\n",
              "      <th>0</th>\n",
              "      <td>Как стало известно агентству Ассошиэйтед Пресс...</td>\n",
              "      <td>Россия</td>\n",
              "    </tr>\n",
              "    <tr>\n",
              "      <th>1</th>\n",
              "      <td>В зале игровых автоматов в третьем ярусе подзе...</td>\n",
              "      <td>Россия</td>\n",
              "    </tr>\n",
              "    <tr>\n",
              "      <th>2</th>\n",
              "      <td>Япония приняла решение разморозить кредиты Рос...</td>\n",
              "      <td>Россия</td>\n",
              "    </tr>\n",
              "    <tr>\n",
              "      <th>3</th>\n",
              "      <td>В понедельник директор департамента внешних св...</td>\n",
              "      <td>Россия</td>\n",
              "    </tr>\n",
              "    <tr>\n",
              "      <th>4</th>\n",
              "      <td>С 1 сентября на всей территории России вводитс...</td>\n",
              "      <td>Россия</td>\n",
              "    </tr>\n",
              "  </tbody>\n",
              "</table>\n",
              "</div>\n",
              "      <button class=\"colab-df-convert\" onclick=\"convertToInteractive('df-e877da48-c8a8-47d6-b35c-30ae04997489')\"\n",
              "              title=\"Convert this dataframe to an interactive table.\"\n",
              "              style=\"display:none;\">\n",
              "        \n",
              "  <svg xmlns=\"http://www.w3.org/2000/svg\" height=\"24px\"viewBox=\"0 0 24 24\"\n",
              "       width=\"24px\">\n",
              "    <path d=\"M0 0h24v24H0V0z\" fill=\"none\"/>\n",
              "    <path d=\"M18.56 5.44l.94 2.06.94-2.06 2.06-.94-2.06-.94-.94-2.06-.94 2.06-2.06.94zm-11 1L8.5 8.5l.94-2.06 2.06-.94-2.06-.94L8.5 2.5l-.94 2.06-2.06.94zm10 10l.94 2.06.94-2.06 2.06-.94-2.06-.94-.94-2.06-.94 2.06-2.06.94z\"/><path d=\"M17.41 7.96l-1.37-1.37c-.4-.4-.92-.59-1.43-.59-.52 0-1.04.2-1.43.59L10.3 9.45l-7.72 7.72c-.78.78-.78 2.05 0 2.83L4 21.41c.39.39.9.59 1.41.59.51 0 1.02-.2 1.41-.59l7.78-7.78 2.81-2.81c.8-.78.8-2.07 0-2.86zM5.41 20L4 18.59l7.72-7.72 1.47 1.35L5.41 20z\"/>\n",
              "  </svg>\n",
              "      </button>\n",
              "      \n",
              "  <style>\n",
              "    .colab-df-container {\n",
              "      display:flex;\n",
              "      flex-wrap:wrap;\n",
              "      gap: 12px;\n",
              "    }\n",
              "\n",
              "    .colab-df-convert {\n",
              "      background-color: #E8F0FE;\n",
              "      border: none;\n",
              "      border-radius: 50%;\n",
              "      cursor: pointer;\n",
              "      display: none;\n",
              "      fill: #1967D2;\n",
              "      height: 32px;\n",
              "      padding: 0 0 0 0;\n",
              "      width: 32px;\n",
              "    }\n",
              "\n",
              "    .colab-df-convert:hover {\n",
              "      background-color: #E2EBFA;\n",
              "      box-shadow: 0px 1px 2px rgba(60, 64, 67, 0.3), 0px 1px 3px 1px rgba(60, 64, 67, 0.15);\n",
              "      fill: #174EA6;\n",
              "    }\n",
              "\n",
              "    [theme=dark] .colab-df-convert {\n",
              "      background-color: #3B4455;\n",
              "      fill: #D2E3FC;\n",
              "    }\n",
              "\n",
              "    [theme=dark] .colab-df-convert:hover {\n",
              "      background-color: #434B5C;\n",
              "      box-shadow: 0px 1px 3px 1px rgba(0, 0, 0, 0.15);\n",
              "      filter: drop-shadow(0px 1px 2px rgba(0, 0, 0, 0.3));\n",
              "      fill: #FFFFFF;\n",
              "    }\n",
              "  </style>\n",
              "\n",
              "      <script>\n",
              "        const buttonEl =\n",
              "          document.querySelector('#df-e877da48-c8a8-47d6-b35c-30ae04997489 button.colab-df-convert');\n",
              "        buttonEl.style.display =\n",
              "          google.colab.kernel.accessAllowed ? 'block' : 'none';\n",
              "\n",
              "        async function convertToInteractive(key) {\n",
              "          const element = document.querySelector('#df-e877da48-c8a8-47d6-b35c-30ae04997489');\n",
              "          const dataTable =\n",
              "            await google.colab.kernel.invokeFunction('convertToInteractive',\n",
              "                                                     [key], {});\n",
              "          if (!dataTable) return;\n",
              "\n",
              "          const docLinkHtml = 'Like what you see? Visit the ' +\n",
              "            '<a target=\"_blank\" href=https://colab.research.google.com/notebooks/data_table.ipynb>data table notebook</a>'\n",
              "            + ' to learn more about interactive tables.';\n",
              "          element.innerHTML = '';\n",
              "          dataTable['output_type'] = 'display_data';\n",
              "          await google.colab.output.renderOutput(dataTable, element);\n",
              "          const docLink = document.createElement('div');\n",
              "          docLink.innerHTML = docLinkHtml;\n",
              "          element.appendChild(docLink);\n",
              "        }\n",
              "      </script>\n",
              "    </div>\n",
              "  </div>\n",
              "  "
            ]
          },
          "metadata": {},
          "execution_count": 16
        }
      ],
      "source": [
        "df_res.head()"
      ]
    },
    {
      "cell_type": "markdown",
      "metadata": {
        "id": "62IhMy3JEjCv"
      },
      "source": [
        "### Предобработка данных"
      ]
    },
    {
      "cell_type": "code",
      "execution_count": null,
      "metadata": {
        "id": "RhoslEYxDOr8"
      },
      "outputs": [],
      "source": [
        "import string\n",
        "from nltk.stem import *\n",
        "from string import punctuation\n",
        "from nltk import word_tokenize\n",
        "\n",
        "def remove_punctuation(text):\n",
        "    return \"\".join([ch if ch not in string.punctuation else ' ' for ch in text])\n",
        "\n",
        "def remove_numbers(text):\n",
        "    return ''.join([i if not i.isdigit() else ' ' for i in text])\n",
        "\n",
        "def remove_multiple_spaces(text):\n",
        "\treturn re.sub(r'\\s+', ' ', text, flags=re.I)"
      ]
    },
    {
      "cell_type": "code",
      "execution_count": null,
      "metadata": {
        "id": "T0PAMLCrDOt_"
      },
      "outputs": [],
      "source": [
        "prep_text = [remove_multiple_spaces(remove_numbers(remove_punctuation(text.lower()))) for text in df_res['text']]"
      ]
    },
    {
      "cell_type": "code",
      "execution_count": null,
      "metadata": {
        "id": "O0DFUPTRDOyc"
      },
      "outputs": [],
      "source": [
        "df_res['text_prep'] = prep_text"
      ]
    },
    {
      "cell_type": "markdown",
      "metadata": {
        "id": "xvICa5PFhZO6"
      },
      "source": [
        "Stopwords"
      ]
    },
    {
      "cell_type": "code",
      "execution_count": null,
      "metadata": {
        "id": "S3u9sUgcS6Sr"
      },
      "outputs": [],
      "source": [
        "russian_stopwords = stopwords.words(\"russian\")\n",
        "russian_stopwords.extend(['…', '«', '»', '...', 'т.д.', 'т', 'д'])"
      ]
    },
    {
      "cell_type": "code",
      "execution_count": null,
      "metadata": {
        "colab": {
          "base_uri": "https://localhost:8080/",
          "height": 49,
          "referenced_widgets": [
            "98a71bdf84ec4b78a1ea820a5dfc9e59",
            "93728241cb6943179c3caf8a6ef83ae0",
            "7886f1422d974e3b87a9baae18a1c709",
            "78edb55778bd4f16a698476c5de5be40",
            "dfe0d68311d644279e316bf62eebb20a",
            "ac69cacd447d47edba3fc77fe2b0de96",
            "4e677bf2cade476086a3610f6a03b9a3",
            "d5b085d0ec004f3ba3a2c5252304e38a",
            "c1bf0db2d24e4b01bb0d2d7efcd9be47",
            "b2d413af2c65403c955dd9b472da57b6",
            "fb483565d3764b569a806230257e86e6"
          ]
        },
        "id": "CkqgHU56FZoO",
        "outputId": "2457599b-460b-4e55-ef3f-046f0ddfbc4e"
      },
      "outputs": [
        {
          "output_type": "display_data",
          "data": {
            "text/plain": [
              "  0%|          | 0/190000 [00:00<?, ?it/s]"
            ],
            "application/vnd.jupyter.widget-view+json": {
              "version_major": 2,
              "version_minor": 0,
              "model_id": "98a71bdf84ec4b78a1ea820a5dfc9e59"
            }
          },
          "metadata": {}
        }
      ],
      "source": [
        "\n",
        "sw_texts_list = []\n",
        "for text in tqdm(df_res['text_prep']):\n",
        "    tokens = word_tokenize(text)    \n",
        "    tokens = [token for token in tokens if token not in russian_stopwords and token != ' ']\n",
        "    text = \" \".join(tokens)\n",
        "    sw_texts_list.append(text)\n",
        "\n",
        "df_res['text_sw'] = sw_texts_list\n"
      ]
    },
    {
      "cell_type": "code",
      "execution_count": null,
      "metadata": {
        "id": "lav1RZI-6UGE"
      },
      "outputs": [],
      "source": [
        "df_res.replace('', np.nan, inplace=True)\n",
        "df_res.dropna(axis=0,inplace=True)"
      ]
    },
    {
      "cell_type": "code",
      "execution_count": null,
      "metadata": {
        "id": "Thy5c5lNE5bl"
      },
      "outputs": [],
      "source": [
        "df_res.to_csv('/content/drive/MyDrive/lenta_news/lenta-ru-news-sw.csv', index=False)"
      ]
    },
    {
      "cell_type": "code",
      "execution_count": null,
      "metadata": {
        "id": "YNVdN-octFeT"
      },
      "outputs": [],
      "source": [
        "df_res = pd.read_csv('/content/drive/MyDrive/lenta_news/lenta-ru-news-sw.csv')"
      ]
    },
    {
      "cell_type": "code",
      "execution_count": null,
      "metadata": {
        "colab": {
          "base_uri": "https://localhost:8080/",
          "height": 206
        },
        "id": "FTPthcXSE5gN",
        "outputId": "798a2f00-8362-4e64-bdd1-21c75e08ef76"
      },
      "outputs": [
        {
          "output_type": "execute_result",
          "data": {
            "text/plain": [
              "                                                text   topic  \\\n",
              "0  Как стало известно агентству Ассошиэйтед Пресс...  Россия   \n",
              "1  В зале игровых автоматов в третьем ярусе подзе...  Россия   \n",
              "2  Япония приняла решение разморозить кредиты Рос...  Россия   \n",
              "3  В понедельник директор департамента внешних св...  Россия   \n",
              "4  С 1 сентября на всей территории России вводитс...  Россия   \n",
              "\n",
              "                                           text_prep  \\\n",
              "0  как стало известно агентству ассошиэйтед пресс...   \n",
              "1  в зале игровых автоматов в третьем ярусе подзе...   \n",
              "2  япония приняла решение разморозить кредиты рос...   \n",
              "3  в понедельник директор департамента внешних св...   \n",
              "4  с сентября на всей территории россии вводится ...   \n",
              "\n",
              "                                             text_sw  \n",
              "0  стало известно агентству ассошиэйтед пресс эки...  \n",
              "1  зале игровых автоматов третьем ярусе подземног...  \n",
              "2  япония приняла решение разморозить кредиты рос...  \n",
              "3  понедельник директор департамента внешних связ...  \n",
              "4  сентября всей территории россии вводится новая...  "
            ],
            "text/html": [
              "\n",
              "  <div id=\"df-c1f93821-f484-408e-b640-6b35a44b176f\">\n",
              "    <div class=\"colab-df-container\">\n",
              "      <div>\n",
              "<style scoped>\n",
              "    .dataframe tbody tr th:only-of-type {\n",
              "        vertical-align: middle;\n",
              "    }\n",
              "\n",
              "    .dataframe tbody tr th {\n",
              "        vertical-align: top;\n",
              "    }\n",
              "\n",
              "    .dataframe thead th {\n",
              "        text-align: right;\n",
              "    }\n",
              "</style>\n",
              "<table border=\"1\" class=\"dataframe\">\n",
              "  <thead>\n",
              "    <tr style=\"text-align: right;\">\n",
              "      <th></th>\n",
              "      <th>text</th>\n",
              "      <th>topic</th>\n",
              "      <th>text_prep</th>\n",
              "      <th>text_sw</th>\n",
              "    </tr>\n",
              "  </thead>\n",
              "  <tbody>\n",
              "    <tr>\n",
              "      <th>0</th>\n",
              "      <td>Как стало известно агентству Ассошиэйтед Пресс...</td>\n",
              "      <td>Россия</td>\n",
              "      <td>как стало известно агентству ассошиэйтед пресс...</td>\n",
              "      <td>стало известно агентству ассошиэйтед пресс эки...</td>\n",
              "    </tr>\n",
              "    <tr>\n",
              "      <th>1</th>\n",
              "      <td>В зале игровых автоматов в третьем ярусе подзе...</td>\n",
              "      <td>Россия</td>\n",
              "      <td>в зале игровых автоматов в третьем ярусе подзе...</td>\n",
              "      <td>зале игровых автоматов третьем ярусе подземног...</td>\n",
              "    </tr>\n",
              "    <tr>\n",
              "      <th>2</th>\n",
              "      <td>Япония приняла решение разморозить кредиты Рос...</td>\n",
              "      <td>Россия</td>\n",
              "      <td>япония приняла решение разморозить кредиты рос...</td>\n",
              "      <td>япония приняла решение разморозить кредиты рос...</td>\n",
              "    </tr>\n",
              "    <tr>\n",
              "      <th>3</th>\n",
              "      <td>В понедельник директор департамента внешних св...</td>\n",
              "      <td>Россия</td>\n",
              "      <td>в понедельник директор департамента внешних св...</td>\n",
              "      <td>понедельник директор департамента внешних связ...</td>\n",
              "    </tr>\n",
              "    <tr>\n",
              "      <th>4</th>\n",
              "      <td>С 1 сентября на всей территории России вводитс...</td>\n",
              "      <td>Россия</td>\n",
              "      <td>с сентября на всей территории россии вводится ...</td>\n",
              "      <td>сентября всей территории россии вводится новая...</td>\n",
              "    </tr>\n",
              "  </tbody>\n",
              "</table>\n",
              "</div>\n",
              "      <button class=\"colab-df-convert\" onclick=\"convertToInteractive('df-c1f93821-f484-408e-b640-6b35a44b176f')\"\n",
              "              title=\"Convert this dataframe to an interactive table.\"\n",
              "              style=\"display:none;\">\n",
              "        \n",
              "  <svg xmlns=\"http://www.w3.org/2000/svg\" height=\"24px\"viewBox=\"0 0 24 24\"\n",
              "       width=\"24px\">\n",
              "    <path d=\"M0 0h24v24H0V0z\" fill=\"none\"/>\n",
              "    <path d=\"M18.56 5.44l.94 2.06.94-2.06 2.06-.94-2.06-.94-.94-2.06-.94 2.06-2.06.94zm-11 1L8.5 8.5l.94-2.06 2.06-.94-2.06-.94L8.5 2.5l-.94 2.06-2.06.94zm10 10l.94 2.06.94-2.06 2.06-.94-2.06-.94-.94-2.06-.94 2.06-2.06.94z\"/><path d=\"M17.41 7.96l-1.37-1.37c-.4-.4-.92-.59-1.43-.59-.52 0-1.04.2-1.43.59L10.3 9.45l-7.72 7.72c-.78.78-.78 2.05 0 2.83L4 21.41c.39.39.9.59 1.41.59.51 0 1.02-.2 1.41-.59l7.78-7.78 2.81-2.81c.8-.78.8-2.07 0-2.86zM5.41 20L4 18.59l7.72-7.72 1.47 1.35L5.41 20z\"/>\n",
              "  </svg>\n",
              "      </button>\n",
              "      \n",
              "  <style>\n",
              "    .colab-df-container {\n",
              "      display:flex;\n",
              "      flex-wrap:wrap;\n",
              "      gap: 12px;\n",
              "    }\n",
              "\n",
              "    .colab-df-convert {\n",
              "      background-color: #E8F0FE;\n",
              "      border: none;\n",
              "      border-radius: 50%;\n",
              "      cursor: pointer;\n",
              "      display: none;\n",
              "      fill: #1967D2;\n",
              "      height: 32px;\n",
              "      padding: 0 0 0 0;\n",
              "      width: 32px;\n",
              "    }\n",
              "\n",
              "    .colab-df-convert:hover {\n",
              "      background-color: #E2EBFA;\n",
              "      box-shadow: 0px 1px 2px rgba(60, 64, 67, 0.3), 0px 1px 3px 1px rgba(60, 64, 67, 0.15);\n",
              "      fill: #174EA6;\n",
              "    }\n",
              "\n",
              "    [theme=dark] .colab-df-convert {\n",
              "      background-color: #3B4455;\n",
              "      fill: #D2E3FC;\n",
              "    }\n",
              "\n",
              "    [theme=dark] .colab-df-convert:hover {\n",
              "      background-color: #434B5C;\n",
              "      box-shadow: 0px 1px 3px 1px rgba(0, 0, 0, 0.15);\n",
              "      filter: drop-shadow(0px 1px 2px rgba(0, 0, 0, 0.3));\n",
              "      fill: #FFFFFF;\n",
              "    }\n",
              "  </style>\n",
              "\n",
              "      <script>\n",
              "        const buttonEl =\n",
              "          document.querySelector('#df-c1f93821-f484-408e-b640-6b35a44b176f button.colab-df-convert');\n",
              "        buttonEl.style.display =\n",
              "          google.colab.kernel.accessAllowed ? 'block' : 'none';\n",
              "\n",
              "        async function convertToInteractive(key) {\n",
              "          const element = document.querySelector('#df-c1f93821-f484-408e-b640-6b35a44b176f');\n",
              "          const dataTable =\n",
              "            await google.colab.kernel.invokeFunction('convertToInteractive',\n",
              "                                                     [key], {});\n",
              "          if (!dataTable) return;\n",
              "\n",
              "          const docLinkHtml = 'Like what you see? Visit the ' +\n",
              "            '<a target=\"_blank\" href=https://colab.research.google.com/notebooks/data_table.ipynb>data table notebook</a>'\n",
              "            + ' to learn more about interactive tables.';\n",
              "          element.innerHTML = '';\n",
              "          dataTable['output_type'] = 'display_data';\n",
              "          await google.colab.output.renderOutput(dataTable, element);\n",
              "          const docLink = document.createElement('div');\n",
              "          docLink.innerHTML = docLinkHtml;\n",
              "          element.appendChild(docLink);\n",
              "        }\n",
              "      </script>\n",
              "    </div>\n",
              "  </div>\n",
              "  "
            ]
          },
          "metadata": {},
          "execution_count": 24
        }
      ],
      "source": [
        "df_res.head()"
      ]
    },
    {
      "cell_type": "code",
      "execution_count": null,
      "metadata": {
        "colab": {
          "base_uri": "https://localhost:8080/"
        },
        "id": "a-JabjPME5il",
        "outputId": "c14b94e7-cb7b-4adb-cb81-8e6637d451d2"
      },
      "outputs": [
        {
          "output_type": "stream",
          "name": "stdout",
          "text": [
            "<class 'pandas.core.frame.DataFrame'>\n",
            "Int64Index: 189999 entries, 0 to 189999\n",
            "Data columns (total 4 columns):\n",
            " #   Column     Non-Null Count   Dtype \n",
            "---  ------     --------------   ----- \n",
            " 0   text       189999 non-null  object\n",
            " 1   topic      189999 non-null  object\n",
            " 2   text_prep  189999 non-null  object\n",
            " 3   text_sw    189999 non-null  object\n",
            "dtypes: object(4)\n",
            "memory usage: 7.2+ MB\n"
          ]
        }
      ],
      "source": [
        "df_res.info()"
      ]
    },
    {
      "cell_type": "markdown",
      "metadata": {
        "id": "-V-XV3O2h6x4"
      },
      "source": [
        "Стемминг"
      ]
    },
    {
      "cell_type": "code",
      "execution_count": null,
      "metadata": {
        "colab": {
          "base_uri": "https://localhost:8080/",
          "height": 49,
          "referenced_widgets": [
            "1df3e48647f842df9f489466f8a30f92",
            "a3f65eddd4934a76ad74d26cf6f15627",
            "276b04423aad4af7a69a8e091bc2cbae",
            "12b4cd62fe5145409a57058a3401e990",
            "9f267dc4da5446649617a4dd1e7d6781",
            "507f41004d264075bca6583368f2006f",
            "127d52efd41043a8b23f7e7fe18c12b2",
            "b78c4c1b609e4d0eb1b21c6ecc2514a3",
            "659dcc476b904c12952de7f9cf1a6859",
            "24e38f7fb6c84337be5fb16bc29a88a1",
            "228f6a2421514ab8a8b3515b956130ae"
          ]
        },
        "id": "MpEf4XQsh7PQ",
        "outputId": "4d046189-bd66-4fb4-a73a-99253809c255"
      },
      "outputs": [
        {
          "output_type": "display_data",
          "data": {
            "text/plain": [
              "  0%|          | 0/189999 [00:00<?, ?it/s]"
            ],
            "application/vnd.jupyter.widget-view+json": {
              "version_major": 2,
              "version_minor": 0,
              "model_id": "1df3e48647f842df9f489466f8a30f92"
            }
          },
          "metadata": {}
        }
      ],
      "source": [
        "\n",
        "from nltk.stem.snowball import SnowballStemmer \n",
        "\n",
        "stemmer = SnowballStemmer(\"russian\")\n",
        "stemmed_texts_list = []\n",
        "for text in tqdm(df_res['text_sw']):\n",
        "    tokens = word_tokenize(text)    \n",
        "    stemmed_tokens = [stemmer.stem(token) for token in tokens if token not in russian_stopwords]\n",
        "    text = \" \".join(stemmed_tokens)\n",
        "    stemmed_texts_list.append(text)\n",
        "\n",
        "df_res['text_stem'] = stemmed_texts_list\n"
      ]
    },
    {
      "cell_type": "code",
      "execution_count": null,
      "metadata": {
        "id": "N3sgXooS9ABN"
      },
      "outputs": [],
      "source": [
        "# Drop rows with missing topics and texts\n",
        "df_res.dropna(subset=['topic'], inplace=True)\n",
        "df_res.dropna(subset=['text_stem'], inplace=True)\n",
        "df_res.replace('', np.nan, inplace=True)\n",
        "df_res.dropna(axis=0,inplace=True)"
      ]
    },
    {
      "cell_type": "code",
      "execution_count": null,
      "metadata": {
        "colab": {
          "base_uri": "https://localhost:8080/"
        },
        "id": "SUUP8xHU9Dkx",
        "outputId": "9eb6141a-881d-41da-ea25-532529703c67"
      },
      "outputs": [
        {
          "output_type": "stream",
          "name": "stdout",
          "text": [
            "<class 'pandas.core.frame.DataFrame'>\n",
            "Int64Index: 189999 entries, 0 to 189999\n",
            "Data columns (total 5 columns):\n",
            " #   Column     Non-Null Count   Dtype \n",
            "---  ------     --------------   ----- \n",
            " 0   text       189999 non-null  object\n",
            " 1   topic      189999 non-null  object\n",
            " 2   text_prep  189999 non-null  object\n",
            " 3   text_sw    189999 non-null  object\n",
            " 4   text_stem  189999 non-null  object\n",
            "dtypes: object(5)\n",
            "memory usage: 8.7+ MB\n"
          ]
        }
      ],
      "source": [
        "df_res.info()"
      ]
    },
    {
      "cell_type": "code",
      "execution_count": null,
      "metadata": {
        "id": "DExz1EgFslx_"
      },
      "outputs": [],
      "source": [
        "df_res.to_csv('/content/drive/MyDrive/lenta_news/lenta-ru-news-stem-sw.csv', index=False)"
      ]
    },
    {
      "cell_type": "code",
      "execution_count": null,
      "metadata": {
        "id": "qE8uLw9ismGe"
      },
      "outputs": [],
      "source": [
        "df_res = pd.read_csv('/content/drive/MyDrive/lenta_news/lenta-ru-news-stem-sw.csv') ########################################################################"
      ]
    },
    {
      "cell_type": "code",
      "execution_count": null,
      "metadata": {
        "colab": {
          "base_uri": "https://localhost:8080/",
          "height": 337
        },
        "id": "RBf6xVrzs6Is",
        "outputId": "8c1fbfe8-f9a9-4d64-9105-0bfd39f24049"
      },
      "outputs": [
        {
          "output_type": "execute_result",
          "data": {
            "text/plain": [
              "                                                text   topic  \\\n",
              "0  Как стало известно агентству Ассошиэйтед Пресс...  Россия   \n",
              "1  В зале игровых автоматов в третьем ярусе подзе...  Россия   \n",
              "2  Япония приняла решение разморозить кредиты Рос...  Россия   \n",
              "3  В понедельник директор департамента внешних св...  Россия   \n",
              "4  С 1 сентября на всей территории России вводитс...  Россия   \n",
              "\n",
              "                                           text_prep  \\\n",
              "0  как стало известно агентству ассошиэйтед пресс...   \n",
              "1  в зале игровых автоматов в третьем ярусе подзе...   \n",
              "2  япония приняла решение разморозить кредиты рос...   \n",
              "3  в понедельник директор департамента внешних св...   \n",
              "4  с сентября на всей территории россии вводится ...   \n",
              "\n",
              "                                             text_sw  \\\n",
              "0  стало известно агентству ассошиэйтед пресс эки...   \n",
              "1  зале игровых автоматов третьем ярусе подземног...   \n",
              "2  япония приняла решение разморозить кредиты рос...   \n",
              "3  понедельник директор департамента внешних связ...   \n",
              "4  сентября всей территории россии вводится новая...   \n",
              "\n",
              "                                           text_stem  \n",
              "0  стал известн агентств ассошиэйтед пресс экипаж...  \n",
              "1  зал игров автомат трет ярус подземн комплекс о...  \n",
              "2  япон приня решен размороз кредит росс сумм пол...  \n",
              "3  понедельник директор департамент внешн связ ме...  \n",
              "4  сентябр все территор росс ввод нов форм таможе...  "
            ],
            "text/html": [
              "\n",
              "  <div id=\"df-bc122c01-a9c9-4fe7-96e9-c18a3bbce341\">\n",
              "    <div class=\"colab-df-container\">\n",
              "      <div>\n",
              "<style scoped>\n",
              "    .dataframe tbody tr th:only-of-type {\n",
              "        vertical-align: middle;\n",
              "    }\n",
              "\n",
              "    .dataframe tbody tr th {\n",
              "        vertical-align: top;\n",
              "    }\n",
              "\n",
              "    .dataframe thead th {\n",
              "        text-align: right;\n",
              "    }\n",
              "</style>\n",
              "<table border=\"1\" class=\"dataframe\">\n",
              "  <thead>\n",
              "    <tr style=\"text-align: right;\">\n",
              "      <th></th>\n",
              "      <th>text</th>\n",
              "      <th>topic</th>\n",
              "      <th>text_prep</th>\n",
              "      <th>text_sw</th>\n",
              "      <th>text_stem</th>\n",
              "    </tr>\n",
              "  </thead>\n",
              "  <tbody>\n",
              "    <tr>\n",
              "      <th>0</th>\n",
              "      <td>Как стало известно агентству Ассошиэйтед Пресс...</td>\n",
              "      <td>Россия</td>\n",
              "      <td>как стало известно агентству ассошиэйтед пресс...</td>\n",
              "      <td>стало известно агентству ассошиэйтед пресс эки...</td>\n",
              "      <td>стал известн агентств ассошиэйтед пресс экипаж...</td>\n",
              "    </tr>\n",
              "    <tr>\n",
              "      <th>1</th>\n",
              "      <td>В зале игровых автоматов в третьем ярусе подзе...</td>\n",
              "      <td>Россия</td>\n",
              "      <td>в зале игровых автоматов в третьем ярусе подзе...</td>\n",
              "      <td>зале игровых автоматов третьем ярусе подземног...</td>\n",
              "      <td>зал игров автомат трет ярус подземн комплекс о...</td>\n",
              "    </tr>\n",
              "    <tr>\n",
              "      <th>2</th>\n",
              "      <td>Япония приняла решение разморозить кредиты Рос...</td>\n",
              "      <td>Россия</td>\n",
              "      <td>япония приняла решение разморозить кредиты рос...</td>\n",
              "      <td>япония приняла решение разморозить кредиты рос...</td>\n",
              "      <td>япон приня решен размороз кредит росс сумм пол...</td>\n",
              "    </tr>\n",
              "    <tr>\n",
              "      <th>3</th>\n",
              "      <td>В понедельник директор департамента внешних св...</td>\n",
              "      <td>Россия</td>\n",
              "      <td>в понедельник директор департамента внешних св...</td>\n",
              "      <td>понедельник директор департамента внешних связ...</td>\n",
              "      <td>понедельник директор департамент внешн связ ме...</td>\n",
              "    </tr>\n",
              "    <tr>\n",
              "      <th>4</th>\n",
              "      <td>С 1 сентября на всей территории России вводитс...</td>\n",
              "      <td>Россия</td>\n",
              "      <td>с сентября на всей территории россии вводится ...</td>\n",
              "      <td>сентября всей территории россии вводится новая...</td>\n",
              "      <td>сентябр все территор росс ввод нов форм таможе...</td>\n",
              "    </tr>\n",
              "  </tbody>\n",
              "</table>\n",
              "</div>\n",
              "      <button class=\"colab-df-convert\" onclick=\"convertToInteractive('df-bc122c01-a9c9-4fe7-96e9-c18a3bbce341')\"\n",
              "              title=\"Convert this dataframe to an interactive table.\"\n",
              "              style=\"display:none;\">\n",
              "        \n",
              "  <svg xmlns=\"http://www.w3.org/2000/svg\" height=\"24px\"viewBox=\"0 0 24 24\"\n",
              "       width=\"24px\">\n",
              "    <path d=\"M0 0h24v24H0V0z\" fill=\"none\"/>\n",
              "    <path d=\"M18.56 5.44l.94 2.06.94-2.06 2.06-.94-2.06-.94-.94-2.06-.94 2.06-2.06.94zm-11 1L8.5 8.5l.94-2.06 2.06-.94-2.06-.94L8.5 2.5l-.94 2.06-2.06.94zm10 10l.94 2.06.94-2.06 2.06-.94-2.06-.94-.94-2.06-.94 2.06-2.06.94z\"/><path d=\"M17.41 7.96l-1.37-1.37c-.4-.4-.92-.59-1.43-.59-.52 0-1.04.2-1.43.59L10.3 9.45l-7.72 7.72c-.78.78-.78 2.05 0 2.83L4 21.41c.39.39.9.59 1.41.59.51 0 1.02-.2 1.41-.59l7.78-7.78 2.81-2.81c.8-.78.8-2.07 0-2.86zM5.41 20L4 18.59l7.72-7.72 1.47 1.35L5.41 20z\"/>\n",
              "  </svg>\n",
              "      </button>\n",
              "      \n",
              "  <style>\n",
              "    .colab-df-container {\n",
              "      display:flex;\n",
              "      flex-wrap:wrap;\n",
              "      gap: 12px;\n",
              "    }\n",
              "\n",
              "    .colab-df-convert {\n",
              "      background-color: #E8F0FE;\n",
              "      border: none;\n",
              "      border-radius: 50%;\n",
              "      cursor: pointer;\n",
              "      display: none;\n",
              "      fill: #1967D2;\n",
              "      height: 32px;\n",
              "      padding: 0 0 0 0;\n",
              "      width: 32px;\n",
              "    }\n",
              "\n",
              "    .colab-df-convert:hover {\n",
              "      background-color: #E2EBFA;\n",
              "      box-shadow: 0px 1px 2px rgba(60, 64, 67, 0.3), 0px 1px 3px 1px rgba(60, 64, 67, 0.15);\n",
              "      fill: #174EA6;\n",
              "    }\n",
              "\n",
              "    [theme=dark] .colab-df-convert {\n",
              "      background-color: #3B4455;\n",
              "      fill: #D2E3FC;\n",
              "    }\n",
              "\n",
              "    [theme=dark] .colab-df-convert:hover {\n",
              "      background-color: #434B5C;\n",
              "      box-shadow: 0px 1px 3px 1px rgba(0, 0, 0, 0.15);\n",
              "      filter: drop-shadow(0px 1px 2px rgba(0, 0, 0, 0.3));\n",
              "      fill: #FFFFFF;\n",
              "    }\n",
              "  </style>\n",
              "\n",
              "      <script>\n",
              "        const buttonEl =\n",
              "          document.querySelector('#df-bc122c01-a9c9-4fe7-96e9-c18a3bbce341 button.colab-df-convert');\n",
              "        buttonEl.style.display =\n",
              "          google.colab.kernel.accessAllowed ? 'block' : 'none';\n",
              "\n",
              "        async function convertToInteractive(key) {\n",
              "          const element = document.querySelector('#df-bc122c01-a9c9-4fe7-96e9-c18a3bbce341');\n",
              "          const dataTable =\n",
              "            await google.colab.kernel.invokeFunction('convertToInteractive',\n",
              "                                                     [key], {});\n",
              "          if (!dataTable) return;\n",
              "\n",
              "          const docLinkHtml = 'Like what you see? Visit the ' +\n",
              "            '<a target=\"_blank\" href=https://colab.research.google.com/notebooks/data_table.ipynb>data table notebook</a>'\n",
              "            + ' to learn more about interactive tables.';\n",
              "          element.innerHTML = '';\n",
              "          dataTable['output_type'] = 'display_data';\n",
              "          await google.colab.output.renderOutput(dataTable, element);\n",
              "          const docLink = document.createElement('div');\n",
              "          docLink.innerHTML = docLinkHtml;\n",
              "          element.appendChild(docLink);\n",
              "        }\n",
              "      </script>\n",
              "    </div>\n",
              "  </div>\n",
              "  "
            ]
          },
          "metadata": {},
          "execution_count": 5
        }
      ],
      "source": [
        "df_res.head()"
      ]
    },
    {
      "cell_type": "code",
      "execution_count": null,
      "metadata": {
        "colab": {
          "base_uri": "https://localhost:8080/"
        },
        "id": "MQbNhEy3s77n",
        "outputId": "eef1d2ac-b1d4-4340-e12d-8f7db5f4c0a4"
      },
      "outputs": [
        {
          "output_type": "stream",
          "name": "stdout",
          "text": [
            "<class 'pandas.core.frame.DataFrame'>\n",
            "RangeIndex: 189999 entries, 0 to 189998\n",
            "Data columns (total 5 columns):\n",
            " #   Column     Non-Null Count   Dtype \n",
            "---  ------     --------------   ----- \n",
            " 0   text       189999 non-null  object\n",
            " 1   topic      189999 non-null  object\n",
            " 2   text_prep  189999 non-null  object\n",
            " 3   text_sw    189999 non-null  object\n",
            " 4   text_stem  189999 non-null  object\n",
            "dtypes: object(5)\n",
            "memory usage: 7.2+ MB\n"
          ]
        }
      ],
      "source": [
        "df_res.info()"
      ]
    },
    {
      "cell_type": "markdown",
      "metadata": {
        "id": "Z39inF-diWoa"
      },
      "source": [
        "Лемматизация"
      ]
    },
    {
      "cell_type": "code",
      "execution_count": null,
      "metadata": {
        "id": "ZHfZ-sZjE5nN"
      },
      "outputs": [],
      "source": [
        "from pymystem3 import Mystem\n",
        "mystem = Mystem() \n",
        "\n",
        "lemm_texts_list = []\n",
        "for text in tqdm(df_res['text_stem']):\n",
        "    text_lem = mystem.lemmatize(text)\n",
        "    tokens = [token for token in text_lem if token != ' ' and token not in russian_stopwords]\n",
        "    text = \" \".join(tokens)\n",
        "    lemm_texts_list.append(text)\n",
        "\n",
        "df_res['text_lemm'] = lemm_texts_list\n"
      ]
    },
    {
      "cell_type": "code",
      "execution_count": null,
      "metadata": {
        "id": "3e9C-nxy9GO5"
      },
      "outputs": [],
      "source": [
        "# Drop rows with missing topics and texts\n",
        "df_res.dropna(subset=['topic'], inplace=True)\n",
        "df_res.dropna(subset=['text_lemm'], inplace=True)\n",
        "df_res.replace('', np.nan, inplace=True)\n",
        "df_res.dropna(axis=0,inplace=True)"
      ]
    },
    {
      "cell_type": "code",
      "execution_count": null,
      "metadata": {
        "id": "UniuYvqH9Gvp"
      },
      "outputs": [],
      "source": [
        "df_res.info()"
      ]
    },
    {
      "cell_type": "code",
      "execution_count": null,
      "metadata": {
        "id": "OpKAFfkVE5pl"
      },
      "outputs": [],
      "source": [
        "df_res.to_csv('/content/drive/MyDrive/lenta_news/lenta-ru-news-lemm-stem-sw.csv', index=False)  # full ready data"
      ]
    },
    {
      "cell_type": "code",
      "execution_count": null,
      "metadata": {
        "id": "kOQn1O60E5r-"
      },
      "outputs": [],
      "source": [
        "df_res = pd.read_csv('/content/drive/MyDrive/lenta_news/lenta-ru-news-lemm-stem-sw.csv')"
      ]
    },
    {
      "cell_type": "code",
      "execution_count": null,
      "metadata": {
        "colab": {
          "base_uri": "https://localhost:8080/",
          "height": 337
        },
        "id": "ikBPcqfvtTR4",
        "outputId": "7f76bf72-7565-41fd-bd35-9c6191ca2881"
      },
      "outputs": [
        {
          "data": {
            "text/html": [
              "\n",
              "  <div id=\"df-9b3d3237-d9ce-4a29-93e4-8e99ed236715\">\n",
              "    <div class=\"colab-df-container\">\n",
              "      <div>\n",
              "<style scoped>\n",
              "    .dataframe tbody tr th:only-of-type {\n",
              "        vertical-align: middle;\n",
              "    }\n",
              "\n",
              "    .dataframe tbody tr th {\n",
              "        vertical-align: top;\n",
              "    }\n",
              "\n",
              "    .dataframe thead th {\n",
              "        text-align: right;\n",
              "    }\n",
              "</style>\n",
              "<table border=\"1\" class=\"dataframe\">\n",
              "  <thead>\n",
              "    <tr style=\"text-align: right;\">\n",
              "      <th></th>\n",
              "      <th>text</th>\n",
              "      <th>topic</th>\n",
              "      <th>text_prep</th>\n",
              "      <th>text_sw</th>\n",
              "      <th>text_stem</th>\n",
              "    </tr>\n",
              "  </thead>\n",
              "  <tbody>\n",
              "    <tr>\n",
              "      <th>0</th>\n",
              "      <td>Как стало известно агентству Ассошиэйтед Пресс...</td>\n",
              "      <td>Россия</td>\n",
              "      <td>как стало известно агентству ассошиэйтед пресс...</td>\n",
              "      <td>стало известно агентству ассошиэйтед пресс эки...</td>\n",
              "      <td>стал известн агентств ассошиэйтед пресс экипаж...</td>\n",
              "    </tr>\n",
              "    <tr>\n",
              "      <th>1</th>\n",
              "      <td>В зале игровых автоматов в третьем ярусе подзе...</td>\n",
              "      <td>Россия</td>\n",
              "      <td>в зале игровых автоматов в третьем ярусе подзе...</td>\n",
              "      <td>зале игровых автоматов третьем ярусе подземног...</td>\n",
              "      <td>зал игров автомат трет ярус подземн комплекс о...</td>\n",
              "    </tr>\n",
              "    <tr>\n",
              "      <th>2</th>\n",
              "      <td>Япония приняла решение разморозить кредиты Рос...</td>\n",
              "      <td>Россия</td>\n",
              "      <td>япония приняла решение разморозить кредиты рос...</td>\n",
              "      <td>япония приняла решение разморозить кредиты рос...</td>\n",
              "      <td>япон приня решен размороз кредит росс сумм пол...</td>\n",
              "    </tr>\n",
              "    <tr>\n",
              "      <th>3</th>\n",
              "      <td>В понедельник директор департамента внешних св...</td>\n",
              "      <td>Россия</td>\n",
              "      <td>в понедельник директор департамента внешних св...</td>\n",
              "      <td>понедельник директор департамента внешних связ...</td>\n",
              "      <td>понедельник директор департамент внешн связ ме...</td>\n",
              "    </tr>\n",
              "    <tr>\n",
              "      <th>4</th>\n",
              "      <td>С 1 сентября на всей территории России вводитс...</td>\n",
              "      <td>Россия</td>\n",
              "      <td>с сентября на всей территории россии вводится ...</td>\n",
              "      <td>сентября всей территории россии вводится новая...</td>\n",
              "      <td>сентябр все территор росс ввод нов форм таможе...</td>\n",
              "    </tr>\n",
              "  </tbody>\n",
              "</table>\n",
              "</div>\n",
              "      <button class=\"colab-df-convert\" onclick=\"convertToInteractive('df-9b3d3237-d9ce-4a29-93e4-8e99ed236715')\"\n",
              "              title=\"Convert this dataframe to an interactive table.\"\n",
              "              style=\"display:none;\">\n",
              "        \n",
              "  <svg xmlns=\"http://www.w3.org/2000/svg\" height=\"24px\"viewBox=\"0 0 24 24\"\n",
              "       width=\"24px\">\n",
              "    <path d=\"M0 0h24v24H0V0z\" fill=\"none\"/>\n",
              "    <path d=\"M18.56 5.44l.94 2.06.94-2.06 2.06-.94-2.06-.94-.94-2.06-.94 2.06-2.06.94zm-11 1L8.5 8.5l.94-2.06 2.06-.94-2.06-.94L8.5 2.5l-.94 2.06-2.06.94zm10 10l.94 2.06.94-2.06 2.06-.94-2.06-.94-.94-2.06-.94 2.06-2.06.94z\"/><path d=\"M17.41 7.96l-1.37-1.37c-.4-.4-.92-.59-1.43-.59-.52 0-1.04.2-1.43.59L10.3 9.45l-7.72 7.72c-.78.78-.78 2.05 0 2.83L4 21.41c.39.39.9.59 1.41.59.51 0 1.02-.2 1.41-.59l7.78-7.78 2.81-2.81c.8-.78.8-2.07 0-2.86zM5.41 20L4 18.59l7.72-7.72 1.47 1.35L5.41 20z\"/>\n",
              "  </svg>\n",
              "      </button>\n",
              "      \n",
              "  <style>\n",
              "    .colab-df-container {\n",
              "      display:flex;\n",
              "      flex-wrap:wrap;\n",
              "      gap: 12px;\n",
              "    }\n",
              "\n",
              "    .colab-df-convert {\n",
              "      background-color: #E8F0FE;\n",
              "      border: none;\n",
              "      border-radius: 50%;\n",
              "      cursor: pointer;\n",
              "      display: none;\n",
              "      fill: #1967D2;\n",
              "      height: 32px;\n",
              "      padding: 0 0 0 0;\n",
              "      width: 32px;\n",
              "    }\n",
              "\n",
              "    .colab-df-convert:hover {\n",
              "      background-color: #E2EBFA;\n",
              "      box-shadow: 0px 1px 2px rgba(60, 64, 67, 0.3), 0px 1px 3px 1px rgba(60, 64, 67, 0.15);\n",
              "      fill: #174EA6;\n",
              "    }\n",
              "\n",
              "    [theme=dark] .colab-df-convert {\n",
              "      background-color: #3B4455;\n",
              "      fill: #D2E3FC;\n",
              "    }\n",
              "\n",
              "    [theme=dark] .colab-df-convert:hover {\n",
              "      background-color: #434B5C;\n",
              "      box-shadow: 0px 1px 3px 1px rgba(0, 0, 0, 0.15);\n",
              "      filter: drop-shadow(0px 1px 2px rgba(0, 0, 0, 0.3));\n",
              "      fill: #FFFFFF;\n",
              "    }\n",
              "  </style>\n",
              "\n",
              "      <script>\n",
              "        const buttonEl =\n",
              "          document.querySelector('#df-9b3d3237-d9ce-4a29-93e4-8e99ed236715 button.colab-df-convert');\n",
              "        buttonEl.style.display =\n",
              "          google.colab.kernel.accessAllowed ? 'block' : 'none';\n",
              "\n",
              "        async function convertToInteractive(key) {\n",
              "          const element = document.querySelector('#df-9b3d3237-d9ce-4a29-93e4-8e99ed236715');\n",
              "          const dataTable =\n",
              "            await google.colab.kernel.invokeFunction('convertToInteractive',\n",
              "                                                     [key], {});\n",
              "          if (!dataTable) return;\n",
              "\n",
              "          const docLinkHtml = 'Like what you see? Visit the ' +\n",
              "            '<a target=\"_blank\" href=https://colab.research.google.com/notebooks/data_table.ipynb>data table notebook</a>'\n",
              "            + ' to learn more about interactive tables.';\n",
              "          element.innerHTML = '';\n",
              "          dataTable['output_type'] = 'display_data';\n",
              "          await google.colab.output.renderOutput(dataTable, element);\n",
              "          const docLink = document.createElement('div');\n",
              "          docLink.innerHTML = docLinkHtml;\n",
              "          element.appendChild(docLink);\n",
              "        }\n",
              "      </script>\n",
              "    </div>\n",
              "  </div>\n",
              "  "
            ],
            "text/plain": [
              "                                                text   topic  \\\n",
              "0  Как стало известно агентству Ассошиэйтед Пресс...  Россия   \n",
              "1  В зале игровых автоматов в третьем ярусе подзе...  Россия   \n",
              "2  Япония приняла решение разморозить кредиты Рос...  Россия   \n",
              "3  В понедельник директор департамента внешних св...  Россия   \n",
              "4  С 1 сентября на всей территории России вводитс...  Россия   \n",
              "\n",
              "                                           text_prep  \\\n",
              "0  как стало известно агентству ассошиэйтед пресс...   \n",
              "1  в зале игровых автоматов в третьем ярусе подзе...   \n",
              "2  япония приняла решение разморозить кредиты рос...   \n",
              "3  в понедельник директор департамента внешних св...   \n",
              "4  с сентября на всей территории россии вводится ...   \n",
              "\n",
              "                                             text_sw  \\\n",
              "0  стало известно агентству ассошиэйтед пресс эки...   \n",
              "1  зале игровых автоматов третьем ярусе подземног...   \n",
              "2  япония приняла решение разморозить кредиты рос...   \n",
              "3  понедельник директор департамента внешних связ...   \n",
              "4  сентября всей территории россии вводится новая...   \n",
              "\n",
              "                                           text_stem  \n",
              "0  стал известн агентств ассошиэйтед пресс экипаж...  \n",
              "1  зал игров автомат трет ярус подземн комплекс о...  \n",
              "2  япон приня решен размороз кредит росс сумм пол...  \n",
              "3  понедельник директор департамент внешн связ ме...  \n",
              "4  сентябр все территор росс ввод нов форм таможе...  "
            ]
          },
          "execution_count": 9,
          "metadata": {},
          "output_type": "execute_result"
        }
      ],
      "source": [
        "df_res.head()"
      ]
    },
    {
      "cell_type": "code",
      "execution_count": null,
      "metadata": {
        "id": "AxQauhSttO7y"
      },
      "outputs": [],
      "source": [
        "df_res.info()"
      ]
    },
    {
      "cell_type": "markdown",
      "metadata": {
        "id": "unjUTSJ0i8Ys"
      },
      "source": [
        "### Split the data into training and test sets"
      ]
    },
    {
      "cell_type": "code",
      "execution_count": null,
      "metadata": {
        "id": "iBoWySp0pHAb"
      },
      "outputs": [],
      "source": [
        "X = df_res['text_stem'].fillna(\"\")\n",
        "y = df_res['topic'].values"
      ]
    },
    {
      "cell_type": "code",
      "execution_count": null,
      "metadata": {
        "id": "DQ6_2UhjE58O"
      },
      "outputs": [],
      "source": [
        "from sklearn.model_selection import train_test_split\n",
        "\n",
        "X_train, X_test, y_train, y_test = train_test_split(X, y, test_size=0.1, random_state = 42)"
      ]
    },
    {
      "cell_type": "code",
      "execution_count": null,
      "metadata": {
        "colab": {
          "base_uri": "https://localhost:8080/"
        },
        "id": "pVO2UO6nKKPN",
        "outputId": "86661e70-ec3e-4c97-ec75-835ecd45c4c1"
      },
      "outputs": [
        {
          "output_type": "stream",
          "name": "stdout",
          "text": [
            "(170999,) (19000,)\n",
            "(170999,) (19000,)\n"
          ]
        }
      ],
      "source": [
        "print(X_train.shape,X_test.shape)\n",
        "print(y_train.shape,y_test.shape)"
      ]
    },
    {
      "cell_type": "markdown",
      "metadata": {
        "id": "xhBI0QXel1Vy"
      },
      "source": [
        "### Vectorize the Text Corpus\n",
        "\n",
        "\n",
        "\n",
        "1.   ***fit_on_texts*** Updates internal vocabulary based on a list of texts. This method creates the vocabulary index based on word frequency. So if you give it something like, \"The cat sat on the mat.\" It will create a dictionary s.t. word_index[\"the\"] = 1; word_index[\"cat\"] = 2 it is word -> index dictionary so every word gets a unique integer value. 0 is reserved for padding. So lower integer means more frequent word (often the first few are stop words because they appear a lot).\n",
        "2.   ***texts_to_sequences*** Transforms each text in texts to a sequence of integers. So it basically takes each word in the text and replaces it with its corresponding integer value from the word_index dictionary. Nothing more, nothing less, certainly no magic involved.\n",
        "\n",
        "Why don't combine them? Because you almost always fit once and convert to sequences many times. You will fit on your training corpus once and use that exact same word_index dictionary at train / eval / testing / prediction time to convert actual text into sequences to feed them to the network. So it makes sense to keep those methods separate\n"
      ]
    },
    {
      "cell_type": "markdown",
      "metadata": {
        "id": "oyWuQRWupsWp"
      },
      "source": [
        "Set Hyperparameters"
      ]
    },
    {
      "cell_type": "code",
      "execution_count": null,
      "metadata": {
        "id": "piu0bxwwpqW6"
      },
      "outputs": [],
      "source": [
        "# The maximum number of words to be used. (most frequent)\n",
        "vocab_size = 250000\n",
        "\n",
        "# Dimension of the dense embedding.\n",
        "embedding_dim = 300\n",
        "\n",
        "# Max number of words in each complaint.\n",
        "max_length = 500"
      ]
    },
    {
      "cell_type": "code",
      "execution_count": null,
      "metadata": {
        "colab": {
          "base_uri": "https://localhost:8080/"
        },
        "id": "sH2FtnuXjhuG",
        "outputId": "5cde81a8-8729-40ed-9b47-7faa1f33d426"
      },
      "outputs": [
        {
          "output_type": "execute_result",
          "data": {
            "text/plain": [
              "72816     социальн сет одноклассник сдела платн использо...\n",
              "81869     победител лиг чемпион сезон стал португальск п...\n",
              "163481    компан raytheon farnborough представ систем на...\n",
              "139618    фотограф компонент устройств помощ котор взорв...\n",
              "71919     компан googl сотруднича продавц программн обес...\n",
              "                                ...                        \n",
              "119879    эрик джонсон eric johnson летн гражданин сша м...\n",
              "103694    правительств австрийск республик призна аккуму...\n",
              "131932    западн сми сообщ беремен амал аламуддин невест...\n",
              "146867    мещанск суд москв приговор двум год колон штра...\n",
              "121958    британск военнослужа наход ночн патрул замет к...\n",
              "Name: text_stem, Length: 170999, dtype: object"
            ]
          },
          "metadata": {},
          "execution_count": 8
        }
      ],
      "source": [
        "X_train"
      ]
    },
    {
      "cell_type": "code",
      "execution_count": null,
      "metadata": {
        "colab": {
          "base_uri": "https://localhost:8080/"
        },
        "id": "s6XI9ee7E6DV",
        "outputId": "73787994-5745-4c7d-8558-971bd8c3ecd9"
      },
      "outputs": [
        {
          "output_type": "stream",
          "name": "stdout",
          "text": [
            "Found 243041 unique tokens.\n"
          ]
        },
        {
          "output_type": "execute_result",
          "data": {
            "text/plain": [
              "{'<OOV>': 1,\n",
              " 'год': 2,\n",
              " 'заяв': 10,\n",
              " 'компан': 9,\n",
              " 'котор': 3,\n",
              " 'росс': 6,\n",
              " 'сво': 7,\n",
              " 'сообща': 4,\n",
              " 'такж': 8,\n",
              " 'эт': 5}"
            ]
          },
          "metadata": {},
          "execution_count": 9
        }
      ],
      "source": [
        "tokenizer = Tokenizer(num_words=vocab_size, oov_token='<OOV>')\n",
        "\n",
        "tokenizer.fit_on_texts(X_train)\n",
        "\n",
        "word_index = tokenizer.word_index\n",
        "print('Found %s unique tokens.' % len(word_index))\n",
        "dict(list(word_index.items())[0:10])"
      ]
    },
    {
      "cell_type": "code",
      "execution_count": null,
      "metadata": {
        "colab": {
          "base_uri": "https://localhost:8080/"
        },
        "id": "UjWPDiOYmxAp",
        "outputId": "d88bd2a3-e4af-45e5-dd59-10ecd9ad252f"
      },
      "outputs": [
        {
          "output_type": "stream",
          "name": "stdout",
          "text": [
            "Shape of data tensor: (170999, 500)\n",
            "Shape of data tensor: (19000, 500)\n"
          ]
        }
      ],
      "source": [
        "train_seq = tokenizer.texts_to_sequences(X_train)\n",
        "train_padded = pad_sequences(train_seq, maxlen=max_length, value=0.0,\n",
        "                             padding='post', truncating='post')\n",
        "\n",
        "validation_seq = tokenizer.texts_to_sequences(X_test)\n",
        "validation_padded = pad_sequences(validation_seq, maxlen=max_length, padding='post', truncating='post')\n",
        "\n",
        "print('Shape of data tensor:', train_padded.shape)\n",
        "print('Shape of data tensor:', validation_padded.shape)"
      ]
    },
    {
      "cell_type": "code",
      "source": [
        "import pickle\n",
        "\n",
        "# saving\n",
        "with open('/content/drive/MyDrive/tokenizer/tokenizer.pickle', 'wb') as handle:\n",
        "    pickle.dump(tokenizer, handle, protocol=pickle.HIGHEST_PROTOCOL)"
      ],
      "metadata": {
        "id": "SmSZuiMna9xM"
      },
      "execution_count": null,
      "outputs": []
    },
    {
      "cell_type": "markdown",
      "metadata": {
        "id": "dQnqqFSfm7Ca"
      },
      "source": [
        "### One Hot Encode the topics"
      ]
    },
    {
      "cell_type": "code",
      "execution_count": null,
      "metadata": {
        "id": "RxFljYz1mxWk"
      },
      "outputs": [],
      "source": [
        "encode = OneHotEncoder()\n",
        "\n",
        "training_labels = encode.fit_transform(y_train.reshape(-1, 1))\n",
        "validation_labels = encode.transform(y_test.reshape(-1, 1))"
      ]
    },
    {
      "cell_type": "code",
      "execution_count": null,
      "metadata": {
        "id": "rtGmDLtaOs0K"
      },
      "outputs": [],
      "source": [
        "#encode.categories_"
      ]
    },
    {
      "cell_type": "code",
      "execution_count": null,
      "metadata": {
        "id": "Tzq2vm2zOnMr"
      },
      "outputs": [],
      "source": [
        "#res = encode.inverse_transform(training_labels[112].reshape(1, -1))"
      ]
    },
    {
      "cell_type": "markdown",
      "metadata": {
        "id": "oWpdwhMNNcil"
      },
      "source": [
        "### Check the same of the data"
      ]
    },
    {
      "cell_type": "code",
      "execution_count": null,
      "metadata": {
        "colab": {
          "base_uri": "https://localhost:8080/"
        },
        "id": "sCuWQ8AtmxYz",
        "outputId": "847c8ab8-d122-4012-e896-5070ed56a41e"
      },
      "outputs": [
        {
          "output_type": "stream",
          "name": "stdout",
          "text": [
            "(170999, 500)\n",
            "(19000, 10)\n",
            "(19000, 500)\n",
            "(170999, 10)\n",
            "<class 'numpy.ndarray'>\n",
            "<class 'numpy.ndarray'>\n",
            "<class 'scipy.sparse.csr.csr_matrix'>\n",
            "<class 'scipy.sparse.csr.csr_matrix'>\n"
          ]
        }
      ],
      "source": [
        "print(train_padded.shape)\n",
        "print(validation_labels.shape)\n",
        "print(validation_padded.shape)\n",
        "print(training_labels.shape)\n",
        "print(type(train_padded))\n",
        "print(type(validation_padded))\n",
        "print(type(training_labels))\n",
        "print(type(validation_labels))"
      ]
    },
    {
      "cell_type": "code",
      "execution_count": null,
      "metadata": {
        "colab": {
          "base_uri": "https://localhost:8080/"
        },
        "id": "utjbimTRmxbI",
        "outputId": "79b1ca96-370a-4b87-a068-b5362c1cc911"
      },
      "outputs": [
        {
          "output_type": "stream",
          "name": "stdout",
          "text": [
            "<class 'numpy.ndarray'>\n",
            "<class 'numpy.ndarray'>\n"
          ]
        }
      ],
      "source": [
        "# The labels must be converted to arrays\n",
        "# Convert the labels to arrays\n",
        "training_labels = training_labels.toarray()\n",
        "validation_labels = validation_labels.toarray()\n",
        "\n",
        "print(type(training_labels))\n",
        "print(type(validation_labels))"
      ]
    },
    {
      "cell_type": "code",
      "source": [
        "train_padded"
      ],
      "metadata": {
        "colab": {
          "base_uri": "https://localhost:8080/"
        },
        "id": "lXgFP3EgjXV9",
        "outputId": "873969fd-c00e-45fd-add2-322e0bbec84d"
      },
      "execution_count": null,
      "outputs": [
        {
          "output_type": "execute_result",
          "data": {
            "text/plain": [
              "array([[  740,   218,  5650, ...,     0,     0,     0],\n",
              "       [  772,   796,   382, ...,     0,     0,     0],\n",
              "       [    9,  8015, 35216, ...,     0,     0,     0],\n",
              "       ...,\n",
              "       [  647,   414,    27, ...,     0,     0,     0],\n",
              "       [11356,    21,    44, ...,     0,     0,     0],\n",
              "       [  222,   600,    57, ...,     0,     0,     0]], dtype=int32)"
            ]
          },
          "metadata": {},
          "execution_count": 15
        }
      ]
    },
    {
      "cell_type": "code",
      "source": [
        "#train_padded[0]"
      ],
      "metadata": {
        "id": "J75GyVIBlUVH"
      },
      "execution_count": null,
      "outputs": []
    },
    {
      "cell_type": "markdown",
      "metadata": {
        "id": "QS6J0TbXNku9"
      },
      "source": [
        "### Build the Model"
      ]
    },
    {
      "cell_type": "code",
      "execution_count": null,
      "metadata": {
        "colab": {
          "base_uri": "https://localhost:8080/",
          "height": 122
        },
        "id": "q2D2XDFtmxdu",
        "outputId": "08fa1277-9980-49e2-d0f5-62d63d469366"
      },
      "outputs": [
        {
          "output_type": "execute_result",
          "data": {
            "text/plain": [
              "'\\nembedding_dim = 300\\nlabels_len = 10  # number of classes\\nmodel = Sequential()\\nmodel.add(Embedding(vocab_size, embedding_dim, input_length=train_padded.shape[1]))\\n\\nmodel.add(Conv1D(32, 3, padding=\"valid\", activation=\"relu\", strides=1))\\nmodel.add(BatchNormalization())\\nmodel.add(MaxPooling1D(pool_size=2))\\n\\nmodel.add(Conv1D(64, 3, padding=\"valid\", activation=\"relu\", strides=1))\\nmodel.add(BatchNormalization())\\nmodel.add(MaxPooling1D(pool_size=2))\\nmodel.add(Dropout(0.5))\\n\\nmodel.add(Conv1D(64, 3, padding=\"valid\", activation=\"relu\", strides=1))\\nmodel.add(BatchNormalization())\\nmodel.add(MaxPooling1D(pool_size=2))\\nmodel.add(Dropout(0.5))\\n\\nmodel.add(Flatten())\\n\\nmodel.add(Dense(128, activation=\\'relu\\'))\\nmodel.add(Dropout(0.5))          \\nmodel.add(Dense(labels_len, activation=\\'softmax\\'))\\n\\nmodel.summary()\\n'"
            ],
            "application/vnd.google.colaboratory.intrinsic+json": {
              "type": "string"
            }
          },
          "metadata": {},
          "execution_count": 17
        }
      ],
      "source": [
        "'''\n",
        "embedding_dim = 300\n",
        "labels_len = 10  # number of classes\n",
        "model = Sequential()\n",
        "model.add(Embedding(vocab_size, embedding_dim, input_length=train_padded.shape[1]))\n",
        "\n",
        "model.add(Conv1D(32, 3, padding=\"valid\", activation=\"relu\", strides=1))\n",
        "model.add(BatchNormalization())\n",
        "model.add(MaxPooling1D(pool_size=2))\n",
        "\n",
        "model.add(Conv1D(64, 3, padding=\"valid\", activation=\"relu\", strides=1))\n",
        "model.add(BatchNormalization())\n",
        "model.add(MaxPooling1D(pool_size=2))\n",
        "model.add(Dropout(0.5))\n",
        "\n",
        "model.add(Conv1D(64, 3, padding=\"valid\", activation=\"relu\", strides=1))\n",
        "model.add(BatchNormalization())\n",
        "model.add(MaxPooling1D(pool_size=2))\n",
        "model.add(Dropout(0.5))\n",
        "\n",
        "model.add(Flatten())\n",
        "\n",
        "model.add(Dense(128, activation='relu'))\n",
        "model.add(Dropout(0.5))          \n",
        "model.add(Dense(labels_len, activation='softmax'))\n",
        "\n",
        "model.summary()\n",
        "'''"
      ]
    },
    {
      "cell_type": "code",
      "execution_count": null,
      "metadata": {
        "colab": {
          "base_uri": "https://localhost:8080/",
          "height": 70
        },
        "id": "d30xF9CXfUZf",
        "outputId": "a61989db-8ff1-4355-89f8-07bc006bd91b"
      },
      "outputs": [
        {
          "data": {
            "application/vnd.google.colaboratory.intrinsic+json": {
              "type": "string"
            },
            "text/plain": [
              "\"\\nlabels_len = 10  # number of classes\\n\\nmodel = Sequential()\\nmodel.add(Embedding(vocab_size, embedding_dim, input_length=train_padded.shape[1]))\\n\\nmodel.add(Conv1D(48, 5, activation='relu', padding='valid'))\\nmodel.add(GlobalMaxPooling1D())\\nmodel.add(Dropout(0.5))\\n\\nmodel.add(Flatten())\\nmodel.add(Dropout(0.5))\\n\\nmodel.add(Dense(10, activation='softmax'))\\n\\nmodel.summary()\\n\""
            ]
          },
          "execution_count": 186,
          "metadata": {},
          "output_type": "execute_result"
        }
      ],
      "source": [
        "'''\n",
        "labels_len = 10  # number of classes\n",
        "\n",
        "model = Sequential()\n",
        "model.add(Embedding(vocab_size, embedding_dim, input_length=train_padded.shape[1]))\n",
        "\n",
        "model.add(Conv1D(48, 5, activation='relu', padding='valid'))\n",
        "model.add(GlobalMaxPooling1D())\n",
        "model.add(Dropout(0.5))\n",
        "\n",
        "model.add(Flatten())\n",
        "model.add(Dropout(0.5))\n",
        "\n",
        "model.add(Dense(10, activation='softmax'))\n",
        "\n",
        "model.summary()\n",
        "'''"
      ]
    },
    {
      "cell_type": "code",
      "source": [
        "'''\n",
        "embedding_dim = 300\n",
        "labels_len = 10  # number of classes\n",
        "model = Sequential()\n",
        "model.add(Embedding(vocab_size, embedding_dim, input_length=train_padded.shape[1]))\n",
        "######model.add(Dropout(0.5))   #\n",
        "\n",
        "model.add(Conv1D(16, 3, padding=\"valid\", activation=\"relu\", strides=1))\n",
        "model.add(BatchNormalization())\n",
        "model.add(MaxPooling1D(pool_size=2))\n",
        "model.add(Dropout(0.5))\n",
        "\n",
        "model.add(Conv1D(32, 3, padding=\"valid\", activation=\"relu\", strides=1))\n",
        "model.add(BatchNormalization())\n",
        "model.add(MaxPooling1D(pool_size=2))\n",
        "model.add(Dropout(0.5))\n",
        "\n",
        "model.add(Flatten())\n",
        "\n",
        "######model.add(Dropout(0.5))   #\n",
        "\n",
        "model.add(Dense(128, activation='relu'))\n",
        "model.add(Dropout(0.5))          \n",
        "model.add(Dense(labels_len, activation='softmax'))\n",
        "\n",
        "model.summary()\n",
        "'''"
      ],
      "metadata": {
        "colab": {
          "base_uri": "https://localhost:8080/",
          "height": 105
        },
        "id": "BdU8nl4p8zSE",
        "outputId": "7714b66b-f025-4259-a258-410b0035089c"
      },
      "execution_count": null,
      "outputs": [
        {
          "output_type": "execute_result",
          "data": {
            "text/plain": [
              "'\\nembedding_dim = 300\\nlabels_len = 10  # number of classes\\nmodel = Sequential()\\nmodel.add(Embedding(vocab_size, embedding_dim, input_length=train_padded.shape[1]))\\n######model.add(Dropout(0.5))   #\\n\\nmodel.add(Conv1D(16, 3, padding=\"valid\", activation=\"relu\", strides=1))\\nmodel.add(BatchNormalization())\\nmodel.add(MaxPooling1D(pool_size=2))\\nmodel.add(Dropout(0.5))\\n\\nmodel.add(Conv1D(32, 3, padding=\"valid\", activation=\"relu\", strides=1))\\nmodel.add(BatchNormalization())\\nmodel.add(MaxPooling1D(pool_size=2))\\nmodel.add(Dropout(0.5))\\n\\nmodel.add(Flatten())\\n\\n######model.add(Dropout(0.5))   #\\n\\nmodel.add(Dense(128, activation=\\'relu\\'))\\nmodel.add(Dropout(0.5))          \\nmodel.add(Dense(labels_len, activation=\\'softmax\\'))\\n\\nmodel.summary()\\n'"
            ],
            "application/vnd.google.colaboratory.intrinsic+json": {
              "type": "string"
            }
          },
          "metadata": {},
          "execution_count": 17
        }
      ]
    },
    {
      "cell_type": "code",
      "source": [
        "'''\n",
        "embedding_dim = 200\n",
        "labels_len = 10  # number of classes\n",
        "model = Sequential()\n",
        "model.add(Embedding(vocab_size, embedding_dim, input_length=train_padded.shape[1]))\n",
        "######model.add(Dropout(0.5))   #\n",
        "\n",
        "model.add(Conv1D(16, 5, padding=\"valid\", activation=\"relu\", strides=1))\n",
        "model.add(BatchNormalization())\n",
        "model.add(MaxPooling1D(pool_size=2))\n",
        "model.add(Dropout(0.5))\n",
        "\n",
        "model.add(Conv1D(16, 5, padding=\"valid\", activation=\"relu\", strides=1))\n",
        "model.add(BatchNormalization())\n",
        "model.add(MaxPooling1D(pool_size=2))\n",
        "model.add(Dropout(0.5))\n",
        "\n",
        "model.add(Flatten())\n",
        "\n",
        "######model.add(Dropout(0.5))   #\n",
        "\n",
        "model.add(Dense(64, activation='relu'))\n",
        "model.add(Dropout(0.5))          \n",
        "model.add(Dense(labels_len, activation='softmax'))\n",
        "\n",
        "model.summary()\n",
        "'''"
      ],
      "metadata": {
        "colab": {
          "base_uri": "https://localhost:8080/",
          "height": 105
        },
        "id": "_3eNZLHf_-5G",
        "outputId": "0e165174-1ffc-41f6-be83-e6115ba56368"
      },
      "execution_count": null,
      "outputs": [
        {
          "output_type": "execute_result",
          "data": {
            "text/plain": [
              "'\\nembedding_dim = 200\\nlabels_len = 10  # number of classes\\nmodel = Sequential()\\nmodel.add(Embedding(vocab_size, embedding_dim, input_length=train_padded.shape[1]))\\n######model.add(Dropout(0.5))   #\\n\\nmodel.add(Conv1D(16, 5, padding=\"valid\", activation=\"relu\", strides=1))\\nmodel.add(BatchNormalization())\\nmodel.add(MaxPooling1D(pool_size=2))\\nmodel.add(Dropout(0.5))\\n\\nmodel.add(Conv1D(16, 5, padding=\"valid\", activation=\"relu\", strides=1))\\nmodel.add(BatchNormalization())\\nmodel.add(MaxPooling1D(pool_size=2))\\nmodel.add(Dropout(0.5))\\n\\nmodel.add(Flatten())\\n\\n######model.add(Dropout(0.5))   #\\n\\nmodel.add(Dense(64, activation=\\'relu\\'))\\nmodel.add(Dropout(0.5))          \\nmodel.add(Dense(labels_len, activation=\\'softmax\\'))\\n\\nmodel.summary()\\n'"
            ],
            "application/vnd.google.colaboratory.intrinsic+json": {
              "type": "string"
            }
          },
          "metadata": {},
          "execution_count": 24
        }
      ]
    },
    {
      "cell_type": "code",
      "source": [
        "'''\n",
        "embedding_dim = 200\n",
        "labels_len = 10  # number of classes\n",
        "model = Sequential()\n",
        "model.add(Embedding(vocab_size, embedding_dim, input_length=train_padded.shape[1]))\n",
        "######model.add(Dropout(0.5))   #\n",
        "\n",
        "model.add(Conv1D(8, 5, padding=\"valid\", activation=\"relu\", strides=1))\n",
        "model.add(BatchNormalization())\n",
        "model.add(MaxPooling1D(pool_size=2))\n",
        "model.add(Dropout(0.5))\n",
        "\n",
        "model.add(Conv1D(16, 5, padding=\"valid\", activation=\"relu\", strides=1))\n",
        "model.add(BatchNormalization())\n",
        "model.add(MaxPooling1D(pool_size=2))\n",
        "model.add(Dropout(0.5))\n",
        "\n",
        "model.add(Flatten())\n",
        "\n",
        "######model.add(Dropout(0.5))   #\n",
        "\n",
        "model.add(Dense(32, activation='relu'))\n",
        "model.add(Dropout(0.5))          \n",
        "model.add(Dense(labels_len, activation='softmax'))\n",
        "\n",
        "model.summary()\n",
        "'''"
      ],
      "metadata": {
        "colab": {
          "base_uri": "https://localhost:8080/",
          "height": 105
        },
        "id": "FaRMvJfgC5D-",
        "outputId": "9e5b33ab-904f-4c08-bb69-5e8d159df6d4"
      },
      "execution_count": null,
      "outputs": [
        {
          "output_type": "execute_result",
          "data": {
            "text/plain": [
              "'\\nembedding_dim = 200\\nlabels_len = 10  # number of classes\\nmodel = Sequential()\\nmodel.add(Embedding(vocab_size, embedding_dim, input_length=train_padded.shape[1]))\\n######model.add(Dropout(0.5))   #\\n\\nmodel.add(Conv1D(8, 5, padding=\"valid\", activation=\"relu\", strides=1))\\nmodel.add(BatchNormalization())\\nmodel.add(MaxPooling1D(pool_size=2))\\nmodel.add(Dropout(0.5))\\n\\nmodel.add(Conv1D(16, 5, padding=\"valid\", activation=\"relu\", strides=1))\\nmodel.add(BatchNormalization())\\nmodel.add(MaxPooling1D(pool_size=2))\\nmodel.add(Dropout(0.5))\\n\\nmodel.add(Flatten())\\n\\n######model.add(Dropout(0.5))   #\\n\\nmodel.add(Dense(32, activation=\\'relu\\'))\\nmodel.add(Dropout(0.5))          \\nmodel.add(Dense(labels_len, activation=\\'softmax\\'))\\n\\nmodel.summary()\\n'"
            ],
            "application/vnd.google.colaboratory.intrinsic+json": {
              "type": "string"
            }
          },
          "metadata": {},
          "execution_count": 32
        }
      ]
    },
    {
      "cell_type": "code",
      "source": [
        "'''\n",
        "###################################################################################################################\n",
        "from tensorflow.keras.regularizers import l2\n",
        "\n",
        "Regularizer = l2(0.0001)\n",
        "\n",
        "vocab_size = 250000\n",
        "embedding_dim = 200\n",
        "labels_len = 10  # number of classes\n",
        "\n",
        "model = Sequential()\n",
        "model.add(Embedding(vocab_size, embedding_dim, \n",
        "                    input_length=train_padded.shape[1]))\n",
        "\n",
        "model.add(Conv1D(16, 3, activation=\"relu\", strides=1, \n",
        "                 kernel_regularizer=Regularizer,\n",
        "                 bias_regularizer=Regularizer,\n",
        "                 activity_regularizer=Regularizer\n",
        "                 ))\n",
        "model.add(BatchNormalization())\n",
        "model.add(MaxPooling1D(pool_size=2))\n",
        "model.add(Dropout(0.5))\n",
        "\n",
        "model.add(Conv1D(32, 3, activation=\"relu\", strides=1, \n",
        "                 kernel_regularizer=Regularizer,\n",
        "                 bias_regularizer=Regularizer,\n",
        "                 activity_regularizer=Regularizer\n",
        "                 ))\n",
        "model.add(BatchNormalization())\n",
        "model.add(MaxPooling1D(pool_size=2))\n",
        "model.add(Dropout(0.5))\n",
        "\n",
        "model.add(Flatten())\n",
        "model.add(Dense(64, activation='relu',\n",
        "                kernel_regularizer=Regularizer,\n",
        "                bias_regularizer=Regularizer,\n",
        "                activity_regularizer=Regularizer                \n",
        "                ))\n",
        "model.add(Dropout(0.5))          \n",
        "model.add(Dense(labels_len, activation='softmax',\n",
        "                kernel_regularizer=Regularizer,\n",
        "                bias_regularizer=Regularizer,\n",
        "                activity_regularizer=Regularizer\n",
        "                ))\n",
        "\n",
        "model.summary()\n",
        "\n",
        "########################################################################################################################\n",
        "'''"
      ],
      "metadata": {
        "id": "zDT1QAt4Dc4v"
      },
      "execution_count": null,
      "outputs": []
    },
    {
      "cell_type": "code",
      "source": [
        "from tensorflow.keras.regularizers import l2\n",
        "\n",
        "Regularizer = l2(0.0001)\n",
        "\n",
        "vocab_size = 250000\n",
        "embedding_dim = 200\n",
        "labels_len = 10  # number of classes\n",
        "\n",
        "model = Sequential()\n",
        "model.add(Embedding(vocab_size, embedding_dim, \n",
        "                    input_length=train_padded.shape[1]))\n",
        "\n",
        "model.add(Conv1D(16, 3, activation=\"relu\", strides=1, \n",
        "                 kernel_regularizer=Regularizer,\n",
        "                 bias_regularizer=Regularizer,\n",
        "                 activity_regularizer=Regularizer\n",
        "                 ))\n",
        "model.add(BatchNormalization())\n",
        "model.add(MaxPooling1D(pool_size=2))\n",
        "model.add(Dropout(0.5))\n",
        "\n",
        "model.add(Conv1D(32, 3, activation=\"relu\", strides=1, \n",
        "                 kernel_regularizer=Regularizer,\n",
        "                 bias_regularizer=Regularizer,\n",
        "                 activity_regularizer=Regularizer\n",
        "                 ))\n",
        "model.add(BatchNormalization())\n",
        "model.add(MaxPooling1D(pool_size=2))\n",
        "model.add(Dropout(0.5))\n",
        "\n",
        "model.add(Flatten())\n",
        "model.add(Dense(64, activation='relu',\n",
        "                kernel_regularizer=Regularizer,\n",
        "                bias_regularizer=Regularizer,\n",
        "                activity_regularizer=Regularizer                \n",
        "                ))\n",
        "model.add(Dropout(0.5))          \n",
        "model.add(Dense(labels_len, activation='softmax',\n",
        "                kernel_regularizer=Regularizer,\n",
        "                bias_regularizer=Regularizer,\n",
        "                activity_regularizer=Regularizer\n",
        "                ))\n",
        "\n",
        "model.summary()"
      ],
      "metadata": {
        "colab": {
          "base_uri": "https://localhost:8080/"
        },
        "id": "D03xugHIGXcU",
        "outputId": "6deda0f4-318e-4c11-a322-5d4d4eb27af0"
      },
      "execution_count": null,
      "outputs": [
        {
          "output_type": "stream",
          "name": "stdout",
          "text": [
            "Model: \"sequential_4\"\n",
            "_________________________________________________________________\n",
            " Layer (type)                Output Shape              Param #   \n",
            "=================================================================\n",
            " embedding_4 (Embedding)     (None, 500, 200)          50000000  \n",
            "                                                                 \n",
            " conv1d_8 (Conv1D)           (None, 498, 16)           9616      \n",
            "                                                                 \n",
            " batch_normalization_8 (Batc  (None, 498, 16)          64        \n",
            " hNormalization)                                                 \n",
            "                                                                 \n",
            " max_pooling1d_8 (MaxPooling  (None, 249, 16)          0         \n",
            " 1D)                                                             \n",
            "                                                                 \n",
            " dropout_12 (Dropout)        (None, 249, 16)           0         \n",
            "                                                                 \n",
            " conv1d_9 (Conv1D)           (None, 247, 32)           1568      \n",
            "                                                                 \n",
            " batch_normalization_9 (Batc  (None, 247, 32)          128       \n",
            " hNormalization)                                                 \n",
            "                                                                 \n",
            " max_pooling1d_9 (MaxPooling  (None, 123, 32)          0         \n",
            " 1D)                                                             \n",
            "                                                                 \n",
            " dropout_13 (Dropout)        (None, 123, 32)           0         \n",
            "                                                                 \n",
            " flatten_4 (Flatten)         (None, 3936)              0         \n",
            "                                                                 \n",
            " dense_8 (Dense)             (None, 64)                251968    \n",
            "                                                                 \n",
            " dropout_14 (Dropout)        (None, 64)                0         \n",
            "                                                                 \n",
            " dense_9 (Dense)             (None, 10)                650       \n",
            "                                                                 \n",
            "=================================================================\n",
            "Total params: 50,263,994\n",
            "Trainable params: 50,263,898\n",
            "Non-trainable params: 96\n",
            "_________________________________________________________________\n"
          ]
        }
      ]
    },
    {
      "cell_type": "code",
      "execution_count": null,
      "metadata": {
        "id": "WTX554PodCFK"
      },
      "outputs": [],
      "source": [
        "model.compile(loss='categorical_crossentropy', \n",
        "              optimizer='adam', \n",
        "              metrics=['accuracy'])"
      ]
    },
    {
      "cell_type": "code",
      "execution_count": null,
      "metadata": {
        "id": "8PyUocOEQDvU"
      },
      "outputs": [],
      "source": [
        "epochs = 300\n",
        "batch_size = 128"
      ]
    },
    {
      "cell_type": "code",
      "execution_count": null,
      "metadata": {
        "id": "1SQ4t8wk7_rx"
      },
      "outputs": [],
      "source": [
        "# Контрольная точка для сохранения модели с наилучшей производительностью на проверочном наборе\n",
        "file_path = \"/content/drive/MyDrive/best_model/model_best_val.h5\"\n",
        "checkpoint = ModelCheckpoint(file_path, monitor='val_loss', verbose=1, save_best_only=True, mode='min')\n",
        "\n",
        "reduce_model = ReduceLROnPlateau(monitor='val_loss', factor=0.2, patience=2, min_lr=0.0001)\n",
        "early_loss = EarlyStopping(monitor='val_loss', mode='min', patience=5, verbose=1)\n",
        "early_acc = EarlyStopping(monitor='val_accuracy', mode='max', patience=5, verbose=1)\n",
        "\n",
        "callback = [checkpoint, reduce_model, early_loss, early_acc]"
      ]
    },
    {
      "cell_type": "code",
      "execution_count": null,
      "metadata": {
        "colab": {
          "base_uri": "https://localhost:8080/"
        },
        "id": "X-2F96toQEG9",
        "outputId": "cf9dd1bc-b57d-4f2a-b3c9-92e5e34beb26"
      },
      "outputs": [
        {
          "output_type": "stream",
          "name": "stdout",
          "text": [
            "Epoch 1/300\n",
            "935/936 [============================>.] - ETA: 0s - loss: 2.3267 - accuracy: 0.1271\n",
            "Epoch 1: val_loss improved from inf to 2.08986, saving model to /content/drive/MyDrive/best_model/model_best_val.h5\n",
            "936/936 [==============================] - 42s 44ms/step - loss: 2.3267 - accuracy: 0.1271 - val_loss: 2.0899 - val_accuracy: 0.1938 - lr: 0.0010\n",
            "Epoch 2/300\n",
            "935/936 [============================>.] - ETA: 0s - loss: 1.9297 - accuracy: 0.2607\n",
            "Epoch 2: val_loss improved from 2.08986 to 1.49494, saving model to /content/drive/MyDrive/best_model/model_best_val.h5\n",
            "936/936 [==============================] - 41s 44ms/step - loss: 1.9297 - accuracy: 0.2607 - val_loss: 1.4949 - val_accuracy: 0.4956 - lr: 0.0010\n",
            "Epoch 3/300\n",
            "935/936 [============================>.] - ETA: 0s - loss: 1.2566 - accuracy: 0.5768\n",
            "Epoch 3: val_loss improved from 1.49494 to 0.79343, saving model to /content/drive/MyDrive/best_model/model_best_val.h5\n",
            "936/936 [==============================] - 41s 43ms/step - loss: 1.2566 - accuracy: 0.5768 - val_loss: 0.7934 - val_accuracy: 0.7698 - lr: 0.0010\n",
            "Epoch 4/300\n",
            "936/936 [==============================] - ETA: 0s - loss: 0.7781 - accuracy: 0.7812\n",
            "Epoch 4: val_loss improved from 0.79343 to 0.62411, saving model to /content/drive/MyDrive/best_model/model_best_val.h5\n",
            "936/936 [==============================] - 41s 44ms/step - loss: 0.7781 - accuracy: 0.7812 - val_loss: 0.6241 - val_accuracy: 0.8285 - lr: 0.0010\n",
            "Epoch 5/300\n",
            "935/936 [============================>.] - ETA: 0s - loss: 0.5846 - accuracy: 0.8456\n",
            "Epoch 5: val_loss improved from 0.62411 to 0.56000, saving model to /content/drive/MyDrive/best_model/model_best_val.h5\n",
            "936/936 [==============================] - 41s 44ms/step - loss: 0.5847 - accuracy: 0.8456 - val_loss: 0.5600 - val_accuracy: 0.8473 - lr: 0.0010\n",
            "Epoch 6/300\n",
            "935/936 [============================>.] - ETA: 0s - loss: 0.4796 - accuracy: 0.8768\n",
            "Epoch 6: val_loss did not improve from 0.56000\n",
            "936/936 [==============================] - 36s 39ms/step - loss: 0.4795 - accuracy: 0.8768 - val_loss: 0.5813 - val_accuracy: 0.8492 - lr: 0.0010\n",
            "Epoch 7/300\n",
            "935/936 [============================>.] - ETA: 0s - loss: 0.4187 - accuracy: 0.8934\n",
            "Epoch 7: val_loss did not improve from 0.56000\n",
            "936/936 [==============================] - 36s 38ms/step - loss: 0.4187 - accuracy: 0.8934 - val_loss: 0.5719 - val_accuracy: 0.8545 - lr: 0.0010\n",
            "Epoch 8/300\n",
            "935/936 [============================>.] - ETA: 0s - loss: 0.3315 - accuracy: 0.9190\n",
            "Epoch 8: val_loss did not improve from 0.56000\n",
            "936/936 [==============================] - 36s 38ms/step - loss: 0.3315 - accuracy: 0.9190 - val_loss: 0.5601 - val_accuracy: 0.8627 - lr: 2.0000e-04\n",
            "Epoch 9/300\n",
            "935/936 [============================>.] - ETA: 0s - loss: 0.2973 - accuracy: 0.9283\n",
            "Epoch 9: val_loss did not improve from 0.56000\n",
            "936/936 [==============================] - 36s 38ms/step - loss: 0.2973 - accuracy: 0.9283 - val_loss: 0.5713 - val_accuracy: 0.8642 - lr: 2.0000e-04\n",
            "Epoch 10/300\n",
            "935/936 [============================>.] - ETA: 0s - loss: 0.2733 - accuracy: 0.9349\n",
            "Epoch 10: val_loss did not improve from 0.56000\n",
            "936/936 [==============================] - 37s 39ms/step - loss: 0.2733 - accuracy: 0.9349 - val_loss: 0.5769 - val_accuracy: 0.8649 - lr: 1.0000e-04\n",
            "Epoch 10: early stopping\n"
          ]
        }
      ],
      "source": [
        "history = model.fit(train_padded, training_labels, shuffle=True,\n",
        "                    epochs=epochs, batch_size=batch_size, \n",
        "                    validation_split=0.3,\n",
        "                    callbacks=callback)"
      ]
    },
    {
      "cell_type": "code",
      "execution_count": null,
      "metadata": {
        "colab": {
          "base_uri": "https://localhost:8080/",
          "height": 281
        },
        "id": "VJxolC8kmxgQ",
        "outputId": "3a66f838-69e8-490b-bf10-d5bfd9c8f010"
      },
      "outputs": [
        {
          "output_type": "display_data",
          "data": {
            "text/plain": [
              "<Figure size 432x288 with 1 Axes>"
            ],
            "image/png": "[encoded data removed]"
          },
          "metadata": {
            "needs_background": "light"
          }
        }
      ],
      "source": [
        "plt.title('Loss')\n",
        "plt.plot(history.history['loss'], label='train')\n",
        "plt.plot(history.history['val_loss'], label='test')\n",
        "plt.legend()\n",
        "plt.show();"
      ]
    },
    {
      "cell_type": "code",
      "execution_count": null,
      "metadata": {
        "colab": {
          "base_uri": "https://localhost:8080/",
          "height": 281
        },
        "id": "UYj2Dkdtmxiq",
        "outputId": "1f997fb1-2ce2-46e1-aa4f-90a996e5eae8"
      },
      "outputs": [
        {
          "output_type": "display_data",
          "data": {
            "text/plain": [
              "<Figure size 432x288 with 1 Axes>"
            ],
            "image/png": "[encoded data removed]"
          },
          "metadata": {
            "needs_background": "light"
          }
        }
      ],
      "source": [
        "plt.title('Accuracy')\n",
        "plt.plot(history.history['accuracy'], label='train')\n",
        "plt.plot(history.history['val_accuracy'], label='test')\n",
        "plt.legend()\n",
        "plt.show();"
      ]
    },
    {
      "cell_type": "code",
      "execution_count": null,
      "metadata": {
        "id": "XTOO4ND6wLv_"
      },
      "outputs": [],
      "source": [
        "import numpy as np\n",
        "import tensorflow as tf\n",
        "from tensorflow import keras"
      ]
    },
    {
      "cell_type": "code",
      "execution_count": null,
      "metadata": {
        "id": "b-wIhTxHzgXj"
      },
      "outputs": [],
      "source": [
        "file_path2 = \"/content/drive/MyDrive/best_model/model_best_val.h5\"\n",
        "\n",
        "file_path2 = \"/content/drive/MyDrive/best_model/model_best_val.h5\"\n",
        "model.save(file_path)\n",
        "reconstructed_model = keras.models.load_model(file_path)"
      ]
    },
    {
      "cell_type": "code",
      "execution_count": null,
      "metadata": {
        "id": "xPNxNqsGzyTE"
      },
      "outputs": [],
      "source": [
        ""
      ]
    },
    {
      "cell_type": "code",
      "execution_count": null,
      "metadata": {
        "id": "hboHDt6pwEV6"
      },
      "outputs": [],
      "source": [
        "# It can be used to reconstruct the model identically.\n",
        "reconstructed_model = keras.models.load_model(file_path2)"
      ]
    },
    {
      "cell_type": "code",
      "execution_count": null,
      "metadata": {
        "colab": {
          "base_uri": "https://localhost:8080/"
        },
        "id": "4GevFPnzv2Jz",
        "outputId": "1662ea48-76ca-4324-a557-6d26225213da"
      },
      "outputs": [
        {
          "output_type": "execute_result",
          "data": {
            "text/plain": [
              "<keras.engine.sequential.Sequential at 0x7f84c862cc50>"
            ]
          },
          "metadata": {},
          "execution_count": 6
        }
      ],
      "source": [
        "reconstructed_model"
      ]
    },
    {
      "cell_type": "markdown",
      "metadata": {
        "id": "-2aztqXfOHP2"
      },
      "source": [
        "### Evaluating the model and make predictions"
      ]
    },
    {
      "cell_type": "code",
      "execution_count": null,
      "metadata": {
        "id": "5yuGEQg2mxkz"
      },
      "outputs": [],
      "source": [
        "# First we create an evaluation function to output all the needs metrics\n",
        "\n",
        "def evaluate_preds(y_true, y_preds):\n",
        "    \"\"\"\n",
        "    Performs evaluation comparison on y_true labels vs. y_pred labels\n",
        "    on a classification.\n",
        "    \"\"\"\n",
        "    accuracy = accuracy_score(y_true, y_preds)\n",
        "    precision = precision_score(y_true, y_preds, average='micro')\n",
        "    recall = recall_score(y_true, y_preds, average='micro')\n",
        "    f1 = f1_score(y_true, y_preds, average='micro')\n",
        "    metric_dict = {\"accuracy\": round(accuracy, 2),\n",
        "                   \"precision\": round(precision, 2),\n",
        "                   \"recall\": round(recall, 2),\n",
        "                   \"f1\": round(f1, 2)}\n",
        "    print(f\"Acc: {accuracy * 100:.2f}%\")\n",
        "    print(f\"Precision: {precision:.2f}\")\n",
        "    print(f\"Recall: {recall:.2f}\")\n",
        "    print(f\"F1 score: {f1:.2f}\")\n",
        "    \n",
        "    return metric_dict"
      ]
    },
    {
      "cell_type": "code",
      "source": [
        "test_texts = validation_padded\n",
        "test_labels = validation_labels"
      ],
      "metadata": {
        "id": "aAtCfr1VMcub"
      },
      "execution_count": null,
      "outputs": []
    },
    {
      "cell_type": "markdown",
      "metadata": {
        "id": "3eUHY9CGOQKz"
      },
      "source": [
        "### Make Predictions"
      ]
    },
    {
      "cell_type": "code",
      "source": [
        "eval = model.evaluate(test_texts, test_labels)"
      ],
      "metadata": {
        "colab": {
          "base_uri": "https://localhost:8080/"
        },
        "id": "qQnOG3_J-XfJ",
        "outputId": "9b601a36-baab-4171-f981-209a7ac7e779"
      },
      "execution_count": null,
      "outputs": [
        {
          "output_type": "stream",
          "name": "stdout",
          "text": [
            "594/594 [==============================] - 4s 6ms/step - loss: 0.5614 - accuracy: 0.8486\n"
          ]
        }
      ]
    },
    {
      "cell_type": "code",
      "source": [
        "print('Loss: ', eval[0])\n",
        "print('Accuracy: ', eval[1])"
      ],
      "metadata": {
        "colab": {
          "base_uri": "https://localhost:8080/"
        },
        "id": "GwFotZeT-ukn",
        "outputId": "2a7fb61d-1b59-4f7c-fede-2c3dead192cc"
      },
      "execution_count": null,
      "outputs": [
        {
          "output_type": "stream",
          "name": "stdout",
          "text": [
            "Loss:  0.5614392757415771\n",
            "Accuracy:  0.848578929901123\n"
          ]
        }
      ]
    },
    {
      "cell_type": "code",
      "execution_count": null,
      "metadata": {
        "colab": {
          "base_uri": "https://localhost:8080/"
        },
        "id": "557QZXeOmxnP",
        "outputId": "26db3845-b705-4481-ce02-a11f387fc702"
      },
      "outputs": [
        {
          "output_type": "stream",
          "name": "stdout",
          "text": [
            "Acc: 86.38%\n",
            "Precision: 0.86\n",
            "Recall: 0.86\n",
            "F1 score: 0.86\n"
          ]
        },
        {
          "output_type": "execute_result",
          "data": {
            "text/plain": [
              "{'accuracy': 0.86, 'f1': 0.86, 'precision': 0.86, 'recall': 0.86}"
            ]
          },
          "metadata": {},
          "execution_count": 74
        }
      ],
      "source": [
        "# Now we make predictions using the test data to see how the model performs\n",
        "\n",
        "#predicted = reconstructed_model.predict(validation_padded)\n",
        "\n",
        "predicted = model.predict(validation_padded)\n",
        "evaluate_preds(np.argmax(validation_labels, axis=1), np.argmax(predicted, axis=1))"
      ]
    },
    {
      "cell_type": "markdown",
      "metadata": {
        "id": "rgxercSFOha0"
      },
      "source": [
        "### Test Model"
      ]
    },
    {
      "cell_type": "code",
      "execution_count": null,
      "metadata": {
        "id": "fOFWMg4yShMc"
      },
      "outputs": [],
      "source": [
        "import string"
      ]
    },
    {
      "cell_type": "code",
      "execution_count": null,
      "metadata": {
        "id": "DUHp7730ShPq"
      },
      "outputs": [],
      "source": [
        "def clean_text(text, remove_sw=True):\n",
        "    # Text to lower index\n",
        "    text = text.lower()\n",
        "\n",
        "    # Remove punkruation and numbers from the text\n",
        "    remove_punkt_digets = ''\n",
        "    for char in text:\n",
        "        if char not in string.punctuation and not char.isdigit():\n",
        "            remove_punkt_digets += char\n",
        "        else:\n",
        "            remove_punkt_digets += ' '\n",
        "\n",
        "    # Remove multiple spaces from the text\n",
        "    text = re.sub(r'\\s+', ' ', remove_punkt_digets, flags=re.I)\n",
        "\n",
        "    # Remove stopwords from the text (optional)\n",
        "    if remove_sw:\n",
        "        clean_text = ''\n",
        "        tokens = word_tokenize(text)  # tokenize text string\n",
        "        for token in tokens:\n",
        "            if token not in russian_stopwords and token != ' ':\n",
        "                clean_text = clean_text + ' ' + token\n",
        "        text = clean_text.strip()\n",
        "    \n",
        "    return text"
      ]
    },
    {
      "cell_type": "code",
      "execution_count": null,
      "metadata": {
        "id": "VuRD7wU5Sm6U"
      },
      "outputs": [],
      "source": [
        "clean_paper = clean_text(df_res['text'][56373])"
      ]
    },
    {
      "cell_type": "code",
      "execution_count": null,
      "metadata": {
        "colab": {
          "base_uri": "https://localhost:8080/",
          "height": 122
        },
        "id": "XAVHbp1_V4Jt",
        "outputId": "f96576f8-a46d-4a94-a4a2-2811da2106c2"
      },
      "outputs": [
        {
          "output_type": "execute_result",
          "data": {
            "text/plain": [
              "'крупнейший немецкий страховщик allianz ag договорился выкупе миллионов долларов всей доли афк система российском страховщике росно компании сообщили своем пресс релизе allianz владеет примерно процентами акций росно система продолжит свое участие страховщике владея примерно тремя процентами акций стоит отметить ранее сама афк система предлагала приобрести allianz компанию однако германский концерн заявил хотел выкупить долю системы сми также сообщали allianz предлагала контрольный пакет акций росно миллионов долларов однако глава афк система владимир евтушенков посчитал бумаги стоят миллиарда долларов группа росно году собрала страховые премии миллионов долларов росно имеет дочерние компании россии украине основными владельцами росно являются афк система владеет процентами акций немецкий allianz владеет процентами акций'"
            ],
            "application/vnd.google.colaboratory.intrinsic+json": {
              "type": "string"
            }
          },
          "metadata": {},
          "execution_count": 39
        }
      ],
      "source": [
        "clean_paper"
      ]
    },
    {
      "cell_type": "code",
      "execution_count": null,
      "metadata": {
        "colab": {
          "base_uri": "https://localhost:8080/"
        },
        "id": "eF3EZuAumxuk",
        "outputId": "dd24c8a7-ff37-4e66-8b7c-aa6c3764b7cc"
      },
      "outputs": [
        {
          "output_type": "stream",
          "name": "stdout",
          "text": [
            "Product category id: 9\n",
            "Predicted label is: ['Экономика']\n"
          ]
        }
      ],
      "source": [
        "seq = tokenizer.texts_to_sequences([clean_paper])\n",
        "padded = pad_sequences(seq, maxlen=max_length, padding='post', truncating='post')\n",
        "\n",
        "pred = model.predict(padded)\n",
        "\n",
        "predicted_label = encode.inverse_transform(pred) \n",
        "\n",
        "print(f'Product category id: {np.argmax(pred[0])}')\n",
        "print(f'Predicted label is: {predicted_label[0]}')"
      ]
    },
    {
      "cell_type": "code",
      "execution_count": null,
      "metadata": {
        "colab": {
          "base_uri": "https://localhost:8080/"
        },
        "id": "vJToDG4fa611",
        "outputId": "2fce18e6-a154-437c-f573-e7afb68f9e68"
      },
      "outputs": [
        {
          "output_type": "execute_result",
          "data": {
            "text/plain": [
              "[array(['Бывший СССР', 'Из жизни', 'Интернет и СМИ', 'Культура', 'Мир',\n",
              "        'Наука и техника', 'Россия', 'Силовые структуры', 'Спорт',\n",
              "        'Экономика'], dtype=object)]"
            ]
          },
          "metadata": {},
          "execution_count": 43
        }
      ],
      "source": [
        "encode.categories_"
      ]
    },
    {
      "cell_type": "code",
      "execution_count": null,
      "metadata": {
        "colab": {
          "base_uri": "https://localhost:8080/",
          "height": 122
        },
        "id": "H7u6lQdcmx1J",
        "outputId": "9cd9bb6e-ba66-45ab-cb53-1d53ff2c4ff4"
      },
      "outputs": [
        {
          "output_type": "execute_result",
          "data": {
            "text/plain": [
              "'Директор Государственного музея изобразительных искусств имени Пушкина Ирина Антонова названа лауреатом за 2000 год премии имени Шостаковича, учрежденной  Международным благотворительным фондом Юрия Башмета в 1994 году. Премия  вручается раз в год одному человеку за выдающиеся достижения в области искусства на  протяжении всей жизни. До сих пор ее лауреатами становились исключительно музыканты: скрипачи Гидон Кремер и Анна-Софи Муттер, виолончелистка Наталия Гутман, вокалисты  Томас Квастхофф (бас-баритон) и Ольга Бородина (меццо-сопрано), дирижер, художественный руководитель Мариинского театра  Валерий Гергиев. Церемония вручения премии имени Шостаковича Ирине Антоновой состоится 14 мая. Денежное наполнение премии составляет 25 тысяч долларов. Это самая большая из российских \"культурных\" премий.'"
            ],
            "application/vnd.google.colaboratory.intrinsic+json": {
              "type": "string"
            }
          },
          "metadata": {},
          "execution_count": 17
        }
      ],
      "source": [
        "df_res['text'][96373]"
      ]
    },
    {
      "cell_type": "code",
      "execution_count": null,
      "metadata": {
        "colab": {
          "base_uri": "https://localhost:8080/",
          "height": 35
        },
        "id": "JhVJhQivmx3T",
        "outputId": "dd77c657-a068-4993-aeb3-9e0033e7307e"
      },
      "outputs": [
        {
          "output_type": "execute_result",
          "data": {
            "text/plain": [
              "'Культура'"
            ],
            "application/vnd.google.colaboratory.intrinsic+json": {
              "type": "string"
            }
          },
          "metadata": {},
          "execution_count": 16
        }
      ],
      "source": [
        "df_res['topic'][96373]"
      ]
    },
    {
      "cell_type": "code",
      "execution_count": null,
      "metadata": {
        "colab": {
          "base_uri": "https://localhost:8080/",
          "height": 641
        },
        "id": "zMnh4H8pmx5l",
        "outputId": "769d8f37-c4ec-48c1-ec6f-d97052fdf0a6"
      },
      "outputs": [
        {
          "output_type": "execute_result",
          "data": {
            "text/plain": [
              "                                                     text        topic  \\\n",
              "0       Как стало известно агентству Ассошиэйтед Пресс...       Россия   \n",
              "1       В зале игровых автоматов в третьем ярусе подзе...       Россия   \n",
              "2       Япония приняла решение разморозить кредиты Рос...       Россия   \n",
              "3       В понедельник директор департамента внешних св...       Россия   \n",
              "4       С 1 сентября на всей территории России вводитс...       Россия   \n",
              "...                                                   ...          ...   \n",
              "189994  Во временном правительстве Киргизии отвергли п...  Бывший СССР   \n",
              "189995  Младший сын президента Киргизии Максим Бакиев,...  Бывший СССР   \n",
              "189996  Сотрудники украинской газеты \"Экспресс\" перекр...  Бывший СССР   \n",
              "189997  Бывший премьер-министр Украины Юлия Тимошенко ...  Бывший СССР   \n",
              "189998  Президент Киргизии Курманбек Бакиев заявил, чт...  Бывший СССР   \n",
              "\n",
              "                                                text_prep  \\\n",
              "0       как стало известно агентству ассошиэйтед пресс...   \n",
              "1       в зале игровых автоматов в третьем ярусе подзе...   \n",
              "2       япония приняла решение разморозить кредиты рос...   \n",
              "3       в понедельник директор департамента внешних св...   \n",
              "4       с сентября на всей территории россии вводится ...   \n",
              "...                                                   ...   \n",
              "189994  во временном правительстве киргизии отвергли п...   \n",
              "189995  младший сын президента киргизии максим бакиев ...   \n",
              "189996  сотрудники украинской газеты экспресс перекрыл...   \n",
              "189997  бывший премьер министр украины юлия тимошенко ...   \n",
              "189998  президент киргизии курманбек бакиев заявил что...   \n",
              "\n",
              "                                                  text_sw  \\\n",
              "0       стало известно агентству ассошиэйтед пресс эки...   \n",
              "1       зале игровых автоматов третьем ярусе подземног...   \n",
              "2       япония приняла решение разморозить кредиты рос...   \n",
              "3       понедельник директор департамента внешних связ...   \n",
              "4       сентября всей территории россии вводится новая...   \n",
              "...                                                   ...   \n",
              "189994  временном правительстве киргизии отвергли пред...   \n",
              "189995  младший сын президента киргизии максим бакиев ...   \n",
              "189996  сотрудники украинской газеты экспресс перекрыл...   \n",
              "189997  бывший премьер министр украины юлия тимошенко ...   \n",
              "189998  президент киргизии курманбек бакиев заявил про...   \n",
              "\n",
              "                                                text_stem  \n",
              "0       стал известн агентств ассошиэйтед пресс экипаж...  \n",
              "1       зал игров автомат трет ярус подземн комплекс о...  \n",
              "2       япон приня решен размороз кредит росс сумм пол...  \n",
              "3       понедельник директор департамент внешн связ ме...  \n",
              "4       сентябр все территор росс ввод нов форм таможе...  \n",
              "...                                                   ...  \n",
              "189994  времен правительств киргиз отвергл предложен п...  \n",
              "189995  младш сын президент киргиз макс бак котор пере...  \n",
              "189996  сотрудник украинск газет экспресс перекр район...  \n",
              "189997  бывш премьер министр украин юл тимошенк объяв ...  \n",
              "189998  президент киргиз курманбек бак заяв прос полит...  \n",
              "\n",
              "[189999 rows x 5 columns]"
            ],
            "text/html": [
              "\n",
              "  <div id=\"df-08836132-76b1-4977-be0f-dc5c299b487a\">\n",
              "    <div class=\"colab-df-container\">\n",
              "      <div>\n",
              "<style scoped>\n",
              "    .dataframe tbody tr th:only-of-type {\n",
              "        vertical-align: middle;\n",
              "    }\n",
              "\n",
              "    .dataframe tbody tr th {\n",
              "        vertical-align: top;\n",
              "    }\n",
              "\n",
              "    .dataframe thead th {\n",
              "        text-align: right;\n",
              "    }\n",
              "</style>\n",
              "<table border=\"1\" class=\"dataframe\">\n",
              "  <thead>\n",
              "    <tr style=\"text-align: right;\">\n",
              "      <th></th>\n",
              "      <th>text</th>\n",
              "      <th>topic</th>\n",
              "      <th>text_prep</th>\n",
              "      <th>text_sw</th>\n",
              "      <th>text_stem</th>\n",
              "    </tr>\n",
              "  </thead>\n",
              "  <tbody>\n",
              "    <tr>\n",
              "      <th>0</th>\n",
              "      <td>Как стало известно агентству Ассошиэйтед Пресс...</td>\n",
              "      <td>Россия</td>\n",
              "      <td>как стало известно агентству ассошиэйтед пресс...</td>\n",
              "      <td>стало известно агентству ассошиэйтед пресс эки...</td>\n",
              "      <td>стал известн агентств ассошиэйтед пресс экипаж...</td>\n",
              "    </tr>\n",
              "    <tr>\n",
              "      <th>1</th>\n",
              "      <td>В зале игровых автоматов в третьем ярусе подзе...</td>\n",
              "      <td>Россия</td>\n",
              "      <td>в зале игровых автоматов в третьем ярусе подзе...</td>\n",
              "      <td>зале игровых автоматов третьем ярусе подземног...</td>\n",
              "      <td>зал игров автомат трет ярус подземн комплекс о...</td>\n",
              "    </tr>\n",
              "    <tr>\n",
              "      <th>2</th>\n",
              "      <td>Япония приняла решение разморозить кредиты Рос...</td>\n",
              "      <td>Россия</td>\n",
              "      <td>япония приняла решение разморозить кредиты рос...</td>\n",
              "      <td>япония приняла решение разморозить кредиты рос...</td>\n",
              "      <td>япон приня решен размороз кредит росс сумм пол...</td>\n",
              "    </tr>\n",
              "    <tr>\n",
              "      <th>3</th>\n",
              "      <td>В понедельник директор департамента внешних св...</td>\n",
              "      <td>Россия</td>\n",
              "      <td>в понедельник директор департамента внешних св...</td>\n",
              "      <td>понедельник директор департамента внешних связ...</td>\n",
              "      <td>понедельник директор департамент внешн связ ме...</td>\n",
              "    </tr>\n",
              "    <tr>\n",
              "      <th>4</th>\n",
              "      <td>С 1 сентября на всей территории России вводитс...</td>\n",
              "      <td>Россия</td>\n",
              "      <td>с сентября на всей территории россии вводится ...</td>\n",
              "      <td>сентября всей территории россии вводится новая...</td>\n",
              "      <td>сентябр все территор росс ввод нов форм таможе...</td>\n",
              "    </tr>\n",
              "    <tr>\n",
              "      <th>...</th>\n",
              "      <td>...</td>\n",
              "      <td>...</td>\n",
              "      <td>...</td>\n",
              "      <td>...</td>\n",
              "      <td>...</td>\n",
              "    </tr>\n",
              "    <tr>\n",
              "      <th>189994</th>\n",
              "      <td>Во временном правительстве Киргизии отвергли п...</td>\n",
              "      <td>Бывший СССР</td>\n",
              "      <td>во временном правительстве киргизии отвергли п...</td>\n",
              "      <td>временном правительстве киргизии отвергли пред...</td>\n",
              "      <td>времен правительств киргиз отвергл предложен п...</td>\n",
              "    </tr>\n",
              "    <tr>\n",
              "      <th>189995</th>\n",
              "      <td>Младший сын президента Киргизии Максим Бакиев,...</td>\n",
              "      <td>Бывший СССР</td>\n",
              "      <td>младший сын президента киргизии максим бакиев ...</td>\n",
              "      <td>младший сын президента киргизии максим бакиев ...</td>\n",
              "      <td>младш сын президент киргиз макс бак котор пере...</td>\n",
              "    </tr>\n",
              "    <tr>\n",
              "      <th>189996</th>\n",
              "      <td>Сотрудники украинской газеты \"Экспресс\" перекр...</td>\n",
              "      <td>Бывший СССР</td>\n",
              "      <td>сотрудники украинской газеты экспресс перекрыл...</td>\n",
              "      <td>сотрудники украинской газеты экспресс перекрыл...</td>\n",
              "      <td>сотрудник украинск газет экспресс перекр район...</td>\n",
              "    </tr>\n",
              "    <tr>\n",
              "      <th>189997</th>\n",
              "      <td>Бывший премьер-министр Украины Юлия Тимошенко ...</td>\n",
              "      <td>Бывший СССР</td>\n",
              "      <td>бывший премьер министр украины юлия тимошенко ...</td>\n",
              "      <td>бывший премьер министр украины юлия тимошенко ...</td>\n",
              "      <td>бывш премьер министр украин юл тимошенк объяв ...</td>\n",
              "    </tr>\n",
              "    <tr>\n",
              "      <th>189998</th>\n",
              "      <td>Президент Киргизии Курманбек Бакиев заявил, чт...</td>\n",
              "      <td>Бывший СССР</td>\n",
              "      <td>президент киргизии курманбек бакиев заявил что...</td>\n",
              "      <td>президент киргизии курманбек бакиев заявил про...</td>\n",
              "      <td>президент киргиз курманбек бак заяв прос полит...</td>\n",
              "    </tr>\n",
              "  </tbody>\n",
              "</table>\n",
              "<p>189999 rows × 5 columns</p>\n",
              "</div>\n",
              "      <button class=\"colab-df-convert\" onclick=\"convertToInteractive('df-08836132-76b1-4977-be0f-dc5c299b487a')\"\n",
              "              title=\"Convert this dataframe to an interactive table.\"\n",
              "              style=\"display:none;\">\n",
              "        \n",
              "  <svg xmlns=\"http://www.w3.org/2000/svg\" height=\"24px\"viewBox=\"0 0 24 24\"\n",
              "       width=\"24px\">\n",
              "    <path d=\"M0 0h24v24H0V0z\" fill=\"none\"/>\n",
              "    <path d=\"M18.56 5.44l.94 2.06.94-2.06 2.06-.94-2.06-.94-.94-2.06-.94 2.06-2.06.94zm-11 1L8.5 8.5l.94-2.06 2.06-.94-2.06-.94L8.5 2.5l-.94 2.06-2.06.94zm10 10l.94 2.06.94-2.06 2.06-.94-2.06-.94-.94-2.06-.94 2.06-2.06.94z\"/><path d=\"M17.41 7.96l-1.37-1.37c-.4-.4-.92-.59-1.43-.59-.52 0-1.04.2-1.43.59L10.3 9.45l-7.72 7.72c-.78.78-.78 2.05 0 2.83L4 21.41c.39.39.9.59 1.41.59.51 0 1.02-.2 1.41-.59l7.78-7.78 2.81-2.81c.8-.78.8-2.07 0-2.86zM5.41 20L4 18.59l7.72-7.72 1.47 1.35L5.41 20z\"/>\n",
              "  </svg>\n",
              "      </button>\n",
              "      \n",
              "  <style>\n",
              "    .colab-df-container {\n",
              "      display:flex;\n",
              "      flex-wrap:wrap;\n",
              "      gap: 12px;\n",
              "    }\n",
              "\n",
              "    .colab-df-convert {\n",
              "      background-color: #E8F0FE;\n",
              "      border: none;\n",
              "      border-radius: 50%;\n",
              "      cursor: pointer;\n",
              "      display: none;\n",
              "      fill: #1967D2;\n",
              "      height: 32px;\n",
              "      padding: 0 0 0 0;\n",
              "      width: 32px;\n",
              "    }\n",
              "\n",
              "    .colab-df-convert:hover {\n",
              "      background-color: #E2EBFA;\n",
              "      box-shadow: 0px 1px 2px rgba(60, 64, 67, 0.3), 0px 1px 3px 1px rgba(60, 64, 67, 0.15);\n",
              "      fill: #174EA6;\n",
              "    }\n",
              "\n",
              "    [theme=dark] .colab-df-convert {\n",
              "      background-color: #3B4455;\n",
              "      fill: #D2E3FC;\n",
              "    }\n",
              "\n",
              "    [theme=dark] .colab-df-convert:hover {\n",
              "      background-color: #434B5C;\n",
              "      box-shadow: 0px 1px 3px 1px rgba(0, 0, 0, 0.15);\n",
              "      filter: drop-shadow(0px 1px 2px rgba(0, 0, 0, 0.3));\n",
              "      fill: #FFFFFF;\n",
              "    }\n",
              "  </style>\n",
              "\n",
              "      <script>\n",
              "        const buttonEl =\n",
              "          document.querySelector('#df-08836132-76b1-4977-be0f-dc5c299b487a button.colab-df-convert');\n",
              "        buttonEl.style.display =\n",
              "          google.colab.kernel.accessAllowed ? 'block' : 'none';\n",
              "\n",
              "        async function convertToInteractive(key) {\n",
              "          const element = document.querySelector('#df-08836132-76b1-4977-be0f-dc5c299b487a');\n",
              "          const dataTable =\n",
              "            await google.colab.kernel.invokeFunction('convertToInteractive',\n",
              "                                                     [key], {});\n",
              "          if (!dataTable) return;\n",
              "\n",
              "          const docLinkHtml = 'Like what you see? Visit the ' +\n",
              "            '<a target=\"_blank\" href=https://colab.research.google.com/notebooks/data_table.ipynb>data table notebook</a>'\n",
              "            + ' to learn more about interactive tables.';\n",
              "          element.innerHTML = '';\n",
              "          dataTable['output_type'] = 'display_data';\n",
              "          await google.colab.output.renderOutput(dataTable, element);\n",
              "          const docLink = document.createElement('div');\n",
              "          docLink.innerHTML = docLinkHtml;\n",
              "          element.appendChild(docLink);\n",
              "        }\n",
              "      </script>\n",
              "    </div>\n",
              "  </div>\n",
              "  "
            ]
          },
          "metadata": {},
          "execution_count": 6
        }
      ],
      "source": [
        "df_res"
      ]
    },
    {
      "cell_type": "code",
      "execution_count": null,
      "metadata": {
        "id": "OrCJUqC1mx79"
      },
      "outputs": [],
      "source": [
        ""
      ]
    },
    {
      "cell_type": "code",
      "execution_count": null,
      "metadata": {
        "id": "fYdluNcImyC_"
      },
      "outputs": [],
      "source": [
        ""
      ]
    },
    {
      "cell_type": "code",
      "execution_count": null,
      "metadata": {
        "id": "CRi-WZ5_myFA"
      },
      "outputs": [],
      "source": [
        ""
      ]
    },
    {
      "cell_type": "code",
      "execution_count": null,
      "metadata": {
        "id": "oWQOcCjNmyHW"
      },
      "outputs": [],
      "source": [
        ""
      ]
    },
    {
      "cell_type": "code",
      "execution_count": null,
      "metadata": {
        "id": "4TYXZYcYE6F4"
      },
      "outputs": [],
      "source": [
        ""
      ]
    },
    {
      "cell_type": "code",
      "execution_count": null,
      "metadata": {
        "id": "8byR4hBtE6IS"
      },
      "outputs": [],
      "source": [
        ""
      ]
    },
    {
      "cell_type": "code",
      "execution_count": null,
      "metadata": {
        "id": "tSRLiUXKE6Kd"
      },
      "outputs": [],
      "source": [
        ""
      ]
    },
    {
      "cell_type": "code",
      "execution_count": null,
      "metadata": {
        "id": "p8vjQFkpE6Mt"
      },
      "outputs": [],
      "source": [
        ""
      ]
    },
    {
      "cell_type": "code",
      "execution_count": null,
      "metadata": {
        "id": "ZZxm09apE6PB"
      },
      "outputs": [],
      "source": [
        ""
      ]
    }
  ],
  "metadata": {
    "colab": {
      "collapsed_sections": [
        "B0yg9wZZlGYi",
        "4pbh3NdCdi2n"
      ],
      "name": "Diplom.ipynb",
      "provenance": []
    },
    "kernelspec": {
      "display_name": "Python 3",
      "name": "python3"
    },
    "language_info": {
      "name": "python"
    },
    "widgets": {
      "application/vnd.jupyter.widget-state+json": {
        "af6ee3f8317b4aa8b31ed019628afd1e": {
          "model_module": "@jupyter-widgets/controls",
          "model_name": "HBoxModel",
          "model_module_version": "1.5.0",
          "state": {
            "_dom_classes": [],
            "_model_module": "@jupyter-widgets/controls",
            "_model_module_version": "1.5.0",
            "_model_name": "HBoxModel",
            "_view_count": null,
            "_view_module": "@jupyter-widgets/controls",
            "_view_module_version": "1.5.0",
            "_view_name": "HBoxView",
            "box_style": "",
            "children": [
              "IPY_MODEL_14729b73f97a4b419aa29b7cbb7a0548",
              "IPY_MODEL_2f2da6e986a64194893a6be8ce64201f",
              "IPY_MODEL_438e1207fd8b470893836dd9a41018a2"
            ],
            "layout": "IPY_MODEL_f9c2cbe9d6a6418b9c1be30d82ea436f"
          }
        },
        "14729b73f97a4b419aa29b7cbb7a0548": {
          "model_module": "@jupyter-widgets/controls",
          "model_name": "HTMLModel",
          "model_module_version": "1.5.0",
          "state": {
            "_dom_classes": [],
            "_model_module": "@jupyter-widgets/controls",
            "_model_module_version": "1.5.0",
            "_model_name": "HTMLModel",
            "_view_count": null,
            "_view_module": "@jupyter-widgets/controls",
            "_view_module_version": "1.5.0",
            "_view_name": "HTMLView",
            "description": "",
            "description_tooltip": null,
            "layout": "IPY_MODEL_e31f55cd37ab4a499b57f9c9bf78ba77",
            "placeholder": "​",
            "style": "IPY_MODEL_8133be8005294129858c10d0f168c965",
            "value": "100%"
          }
        },
        "2f2da6e986a64194893a6be8ce64201f": {
          "model_module": "@jupyter-widgets/controls",
          "model_name": "FloatProgressModel",
          "model_module_version": "1.5.0",
          "state": {
            "_dom_classes": [],
            "_model_module": "@jupyter-widgets/controls",
            "_model_module_version": "1.5.0",
            "_model_name": "FloatProgressModel",
            "_view_count": null,
            "_view_module": "@jupyter-widgets/controls",
            "_view_module_version": "1.5.0",
            "_view_name": "ProgressView",
            "bar_style": "success",
            "description": "",
            "description_tooltip": null,
            "layout": "IPY_MODEL_4e8e4f0d5a924739aac6c28731fe2540",
            "max": 10,
            "min": 0,
            "orientation": "horizontal",
            "style": "IPY_MODEL_90de67da9dbc48eda0bf6a1160152558",
            "value": 10
          }
        },
        "438e1207fd8b470893836dd9a41018a2": {
          "model_module": "@jupyter-widgets/controls",
          "model_name": "HTMLModel",
          "model_module_version": "1.5.0",
          "state": {
            "_dom_classes": [],
            "_model_module": "@jupyter-widgets/controls",
            "_model_module_version": "1.5.0",
            "_model_name": "HTMLModel",
            "_view_count": null,
            "_view_module": "@jupyter-widgets/controls",
            "_view_module_version": "1.5.0",
            "_view_name": "HTMLView",
            "description": "",
            "description_tooltip": null,
            "layout": "IPY_MODEL_3caf1b3fc82e41cf80f1b35aceb3329f",
            "placeholder": "​",
            "style": "IPY_MODEL_e6661da968d04c0e9678107b0b42da2c",
            "value": " 10/10 [00:01&lt;00:00,  8.30it/s]"
          }
        },
        "f9c2cbe9d6a6418b9c1be30d82ea436f": {
          "model_module": "@jupyter-widgets/base",
          "model_name": "LayoutModel",
          "model_module_version": "1.2.0",
          "state": {
            "_model_module": "@jupyter-widgets/base",
            "_model_module_version": "1.2.0",
            "_model_name": "LayoutModel",
            "_view_count": null,
            "_view_module": "@jupyter-widgets/base",
            "_view_module_version": "1.2.0",
            "_view_name": "LayoutView",
            "align_content": null,
            "align_items": null,
            "align_self": null,
            "border": null,
            "bottom": null,
            "display": null,
            "flex": null,
            "flex_flow": null,
            "grid_area": null,
            "grid_auto_columns": null,
            "grid_auto_flow": null,
            "grid_auto_rows": null,
            "grid_column": null,
            "grid_gap": null,
            "grid_row": null,
            "grid_template_areas": null,
            "grid_template_columns": null,
            "grid_template_rows": null,
            "height": null,
            "justify_content": null,
            "justify_items": null,
            "left": null,
            "margin": null,
            "max_height": null,
            "max_width": null,
            "min_height": null,
            "min_width": null,
            "object_fit": null,
            "object_position": null,
            "order": null,
            "overflow": null,
            "overflow_x": null,
            "overflow_y": null,
            "padding": null,
            "right": null,
            "top": null,
            "visibility": null,
            "width": null
          }
        },
        "e31f55cd37ab4a499b57f9c9bf78ba77": {
          "model_module": "@jupyter-widgets/base",
          "model_name": "LayoutModel",
          "model_module_version": "1.2.0",
          "state": {
            "_model_module": "@jupyter-widgets/base",
            "_model_module_version": "1.2.0",
            "_model_name": "LayoutModel",
            "_view_count": null,
            "_view_module": "@jupyter-widgets/base",
            "_view_module_version": "1.2.0",
            "_view_name": "LayoutView",
            "align_content": null,
            "align_items": null,
            "align_self": null,
            "border": null,
            "bottom": null,
            "display": null,
            "flex": null,
            "flex_flow": null,
            "grid_area": null,
            "grid_auto_columns": null,
            "grid_auto_flow": null,
            "grid_auto_rows": null,
            "grid_column": null,
            "grid_gap": null,
            "grid_row": null,
            "grid_template_areas": null,
            "grid_template_columns": null,
            "grid_template_rows": null,
            "height": null,
            "justify_content": null,
            "justify_items": null,
            "left": null,
            "margin": null,
            "max_height": null,
            "max_width": null,
            "min_height": null,
            "min_width": null,
            "object_fit": null,
            "object_position": null,
            "order": null,
            "overflow": null,
            "overflow_x": null,
            "overflow_y": null,
            "padding": null,
            "right": null,
            "top": null,
            "visibility": null,
            "width": null
          }
        },
        "8133be8005294129858c10d0f168c965": {
          "model_module": "@jupyter-widgets/controls",
          "model_name": "DescriptionStyleModel",
          "model_module_version": "1.5.0",
          "state": {
            "_model_module": "@jupyter-widgets/controls",
            "_model_module_version": "1.5.0",
            "_model_name": "DescriptionStyleModel",
            "_view_count": null,
            "_view_module": "@jupyter-widgets/base",
            "_view_module_version": "1.2.0",
            "_view_name": "StyleView",
            "description_width": ""
          }
        },
        "4e8e4f0d5a924739aac6c28731fe2540": {
          "model_module": "@jupyter-widgets/base",
          "model_name": "LayoutModel",
          "model_module_version": "1.2.0",
          "state": {
            "_model_module": "@jupyter-widgets/base",
            "_model_module_version": "1.2.0",
            "_model_name": "LayoutModel",
            "_view_count": null,
            "_view_module": "@jupyter-widgets/base",
            "_view_module_version": "1.2.0",
            "_view_name": "LayoutView",
            "align_content": null,
            "align_items": null,
            "align_self": null,
            "border": null,
            "bottom": null,
            "display": null,
            "flex": null,
            "flex_flow": null,
            "grid_area": null,
            "grid_auto_columns": null,
            "grid_auto_flow": null,
            "grid_auto_rows": null,
            "grid_column": null,
            "grid_gap": null,
            "grid_row": null,
            "grid_template_areas": null,
            "grid_template_columns": null,
            "grid_template_rows": null,
            "height": null,
            "justify_content": null,
            "justify_items": null,
            "left": null,
            "margin": null,
            "max_height": null,
            "max_width": null,
            "min_height": null,
            "min_width": null,
            "object_fit": null,
            "object_position": null,
            "order": null,
            "overflow": null,
            "overflow_x": null,
            "overflow_y": null,
            "padding": null,
            "right": null,
            "top": null,
            "visibility": null,
            "width": null
          }
        },
        "90de67da9dbc48eda0bf6a1160152558": {
          "model_module": "@jupyter-widgets/controls",
          "model_name": "ProgressStyleModel",
          "model_module_version": "1.5.0",
          "state": {
            "_model_module": "@jupyter-widgets/controls",
            "_model_module_version": "1.5.0",
            "_model_name": "ProgressStyleModel",
            "_view_count": null,
            "_view_module": "@jupyter-widgets/base",
            "_view_module_version": "1.2.0",
            "_view_name": "StyleView",
            "bar_color": null,
            "description_width": ""
          }
        },
        "3caf1b3fc82e41cf80f1b35aceb3329f": {
          "model_module": "@jupyter-widgets/base",
          "model_name": "LayoutModel",
          "model_module_version": "1.2.0",
          "state": {
            "_model_module": "@jupyter-widgets/base",
            "_model_module_version": "1.2.0",
            "_model_name": "LayoutModel",
            "_view_count": null,
            "_view_module": "@jupyter-widgets/base",
            "_view_module_version": "1.2.0",
            "_view_name": "LayoutView",
            "align_content": null,
            "align_items": null,
            "align_self": null,
            "border": null,
            "bottom": null,
            "display": null,
            "flex": null,
            "flex_flow": null,
            "grid_area": null,
            "grid_auto_columns": null,
            "grid_auto_flow": null,
            "grid_auto_rows": null,
            "grid_column": null,
            "grid_gap": null,
            "grid_row": null,
            "grid_template_areas": null,
            "grid_template_columns": null,
            "grid_template_rows": null,
            "height": null,
            "justify_content": null,
            "justify_items": null,
            "left": null,
            "margin": null,
            "max_height": null,
            "max_width": null,
            "min_height": null,
            "min_width": null,
            "object_fit": null,
            "object_position": null,
            "order": null,
            "overflow": null,
            "overflow_x": null,
            "overflow_y": null,
            "padding": null,
            "right": null,
            "top": null,
            "visibility": null,
            "width": null
          }
        },
        "e6661da968d04c0e9678107b0b42da2c": {
          "model_module": "@jupyter-widgets/controls",
          "model_name": "DescriptionStyleModel",
          "model_module_version": "1.5.0",
          "state": {
            "_model_module": "@jupyter-widgets/controls",
            "_model_module_version": "1.5.0",
            "_model_name": "DescriptionStyleModel",
            "_view_count": null,
            "_view_module": "@jupyter-widgets/base",
            "_view_module_version": "1.2.0",
            "_view_name": "StyleView",
            "description_width": ""
          }
        },
        "98a71bdf84ec4b78a1ea820a5dfc9e59": {
          "model_module": "@jupyter-widgets/controls",
          "model_name": "HBoxModel",
          "model_module_version": "1.5.0",
          "state": {
            "_dom_classes": [],
            "_model_module": "@jupyter-widgets/controls",
            "_model_module_version": "1.5.0",
            "_model_name": "HBoxModel",
            "_view_count": null,
            "_view_module": "@jupyter-widgets/controls",
            "_view_module_version": "1.5.0",
            "_view_name": "HBoxView",
            "box_style": "",
            "children": [
              "IPY_MODEL_93728241cb6943179c3caf8a6ef83ae0",
              "IPY_MODEL_7886f1422d974e3b87a9baae18a1c709",
              "IPY_MODEL_78edb55778bd4f16a698476c5de5be40"
            ],
            "layout": "IPY_MODEL_dfe0d68311d644279e316bf62eebb20a"
          }
        },
        "93728241cb6943179c3caf8a6ef83ae0": {
          "model_module": "@jupyter-widgets/controls",
          "model_name": "HTMLModel",
          "model_module_version": "1.5.0",
          "state": {
            "_dom_classes": [],
            "_model_module": "@jupyter-widgets/controls",
            "_model_module_version": "1.5.0",
            "_model_name": "HTMLModel",
            "_view_count": null,
            "_view_module": "@jupyter-widgets/controls",
            "_view_module_version": "1.5.0",
            "_view_name": "HTMLView",
            "description": "",
            "description_tooltip": null,
            "layout": "IPY_MODEL_ac69cacd447d47edba3fc77fe2b0de96",
            "placeholder": "​",
            "style": "IPY_MODEL_4e677bf2cade476086a3610f6a03b9a3",
            "value": "100%"
          }
        },
        "7886f1422d974e3b87a9baae18a1c709": {
          "model_module": "@jupyter-widgets/controls",
          "model_name": "FloatProgressModel",
          "model_module_version": "1.5.0",
          "state": {
            "_dom_classes": [],
            "_model_module": "@jupyter-widgets/controls",
            "_model_module_version": "1.5.0",
            "_model_name": "FloatProgressModel",
            "_view_count": null,
            "_view_module": "@jupyter-widgets/controls",
            "_view_module_version": "1.5.0",
            "_view_name": "ProgressView",
            "bar_style": "success",
            "description": "",
            "description_tooltip": null,
            "layout": "IPY_MODEL_d5b085d0ec004f3ba3a2c5252304e38a",
            "max": 190000,
            "min": 0,
            "orientation": "horizontal",
            "style": "IPY_MODEL_c1bf0db2d24e4b01bb0d2d7efcd9be47",
            "value": 190000
          }
        },
        "78edb55778bd4f16a698476c5de5be40": {
          "model_module": "@jupyter-widgets/controls",
          "model_name": "HTMLModel",
          "model_module_version": "1.5.0",
          "state": {
            "_dom_classes": [],
            "_model_module": "@jupyter-widgets/controls",
            "_model_module_version": "1.5.0",
            "_model_name": "HTMLModel",
            "_view_count": null,
            "_view_module": "@jupyter-widgets/controls",
            "_view_module_version": "1.5.0",
            "_view_name": "HTMLView",
            "description": "",
            "description_tooltip": null,
            "layout": "IPY_MODEL_b2d413af2c65403c955dd9b472da57b6",
            "placeholder": "​",
            "style": "IPY_MODEL_fb483565d3764b569a806230257e86e6",
            "value": " 190000/190000 [03:33&lt;00:00, 489.82it/s]"
          }
        },
        "dfe0d68311d644279e316bf62eebb20a": {
          "model_module": "@jupyter-widgets/base",
          "model_name": "LayoutModel",
          "model_module_version": "1.2.0",
          "state": {
            "_model_module": "@jupyter-widgets/base",
            "_model_module_version": "1.2.0",
            "_model_name": "LayoutModel",
            "_view_count": null,
            "_view_module": "@jupyter-widgets/base",
            "_view_module_version": "1.2.0",
            "_view_name": "LayoutView",
            "align_content": null,
            "align_items": null,
            "align_self": null,
            "border": null,
            "bottom": null,
            "display": null,
            "flex": null,
            "flex_flow": null,
            "grid_area": null,
            "grid_auto_columns": null,
            "grid_auto_flow": null,
            "grid_auto_rows": null,
            "grid_column": null,
            "grid_gap": null,
            "grid_row": null,
            "grid_template_areas": null,
            "grid_template_columns": null,
            "grid_template_rows": null,
            "height": null,
            "justify_content": null,
            "justify_items": null,
            "left": null,
            "margin": null,
            "max_height": null,
            "max_width": null,
            "min_height": null,
            "min_width": null,
            "object_fit": null,
            "object_position": null,
            "order": null,
            "overflow": null,
            "overflow_x": null,
            "overflow_y": null,
            "padding": null,
            "right": null,
            "top": null,
            "visibility": null,
            "width": null
          }
        },
        "ac69cacd447d47edba3fc77fe2b0de96": {
          "model_module": "@jupyter-widgets/base",
          "model_name": "LayoutModel",
          "model_module_version": "1.2.0",
          "state": {
            "_model_module": "@jupyter-widgets/base",
            "_model_module_version": "1.2.0",
            "_model_name": "LayoutModel",
            "_view_count": null,
            "_view_module": "@jupyter-widgets/base",
            "_view_module_version": "1.2.0",
            "_view_name": "LayoutView",
            "align_content": null,
            "align_items": null,
            "align_self": null,
            "border": null,
            "bottom": null,
            "display": null,
            "flex": null,
            "flex_flow": null,
            "grid_area": null,
            "grid_auto_columns": null,
            "grid_auto_flow": null,
            "grid_auto_rows": null,
            "grid_column": null,
            "grid_gap": null,
            "grid_row": null,
            "grid_template_areas": null,
            "grid_template_columns": null,
            "grid_template_rows": null,
            "height": null,
            "justify_content": null,
            "justify_items": null,
            "left": null,
            "margin": null,
            "max_height": null,
            "max_width": null,
            "min_height": null,
            "min_width": null,
            "object_fit": null,
            "object_position": null,
            "order": null,
            "overflow": null,
            "overflow_x": null,
            "overflow_y": null,
            "padding": null,
            "right": null,
            "top": null,
            "visibility": null,
            "width": null
          }
        },
        "4e677bf2cade476086a3610f6a03b9a3": {
          "model_module": "@jupyter-widgets/controls",
          "model_name": "DescriptionStyleModel",
          "model_module_version": "1.5.0",
          "state": {
            "_model_module": "@jupyter-widgets/controls",
            "_model_module_version": "1.5.0",
            "_model_name": "DescriptionStyleModel",
            "_view_count": null,
            "_view_module": "@jupyter-widgets/base",
            "_view_module_version": "1.2.0",
            "_view_name": "StyleView",
            "description_width": ""
          }
        },
        "d5b085d0ec004f3ba3a2c5252304e38a": {
          "model_module": "@jupyter-widgets/base",
          "model_name": "LayoutModel",
          "model_module_version": "1.2.0",
          "state": {
            "_model_module": "@jupyter-widgets/base",
            "_model_module_version": "1.2.0",
            "_model_name": "LayoutModel",
            "_view_count": null,
            "_view_module": "@jupyter-widgets/base",
            "_view_module_version": "1.2.0",
            "_view_name": "LayoutView",
            "align_content": null,
            "align_items": null,
            "align_self": null,
            "border": null,
            "bottom": null,
            "display": null,
            "flex": null,
            "flex_flow": null,
            "grid_area": null,
            "grid_auto_columns": null,
            "grid_auto_flow": null,
            "grid_auto_rows": null,
            "grid_column": null,
            "grid_gap": null,
            "grid_row": null,
            "grid_template_areas": null,
            "grid_template_columns": null,
            "grid_template_rows": null,
            "height": null,
            "justify_content": null,
            "justify_items": null,
            "left": null,
            "margin": null,
            "max_height": null,
            "max_width": null,
            "min_height": null,
            "min_width": null,
            "object_fit": null,
            "object_position": null,
            "order": null,
            "overflow": null,
            "overflow_x": null,
            "overflow_y": null,
            "padding": null,
            "right": null,
            "top": null,
            "visibility": null,
            "width": null
          }
        },
        "c1bf0db2d24e4b01bb0d2d7efcd9be47": {
          "model_module": "@jupyter-widgets/controls",
          "model_name": "ProgressStyleModel",
          "model_module_version": "1.5.0",
          "state": {
            "_model_module": "@jupyter-widgets/controls",
            "_model_module_version": "1.5.0",
            "_model_name": "ProgressStyleModel",
            "_view_count": null,
            "_view_module": "@jupyter-widgets/base",
            "_view_module_version": "1.2.0",
            "_view_name": "StyleView",
            "bar_color": null,
            "description_width": ""
          }
        },
        "b2d413af2c65403c955dd9b472da57b6": {
          "model_module": "@jupyter-widgets/base",
          "model_name": "LayoutModel",
          "model_module_version": "1.2.0",
          "state": {
            "_model_module": "@jupyter-widgets/base",
            "_model_module_version": "1.2.0",
            "_model_name": "LayoutModel",
            "_view_count": null,
            "_view_module": "@jupyter-widgets/base",
            "_view_module_version": "1.2.0",
            "_view_name": "LayoutView",
            "align_content": null,
            "align_items": null,
            "align_self": null,
            "border": null,
            "bottom": null,
            "display": null,
            "flex": null,
            "flex_flow": null,
            "grid_area": null,
            "grid_auto_columns": null,
            "grid_auto_flow": null,
            "grid_auto_rows": null,
            "grid_column": null,
            "grid_gap": null,
            "grid_row": null,
            "grid_template_areas": null,
            "grid_template_columns": null,
            "grid_template_rows": null,
            "height": null,
            "justify_content": null,
            "justify_items": null,
            "left": null,
            "margin": null,
            "max_height": null,
            "max_width": null,
            "min_height": null,
            "min_width": null,
            "object_fit": null,
            "object_position": null,
            "order": null,
            "overflow": null,
            "overflow_x": null,
            "overflow_y": null,
            "padding": null,
            "right": null,
            "top": null,
            "visibility": null,
            "width": null
          }
        },
        "fb483565d3764b569a806230257e86e6": {
          "model_module": "@jupyter-widgets/controls",
          "model_name": "DescriptionStyleModel",
          "model_module_version": "1.5.0",
          "state": {
            "_model_module": "@jupyter-widgets/controls",
            "_model_module_version": "1.5.0",
            "_model_name": "DescriptionStyleModel",
            "_view_count": null,
            "_view_module": "@jupyter-widgets/base",
            "_view_module_version": "1.2.0",
            "_view_name": "StyleView",
            "description_width": ""
          }
        },
        "1df3e48647f842df9f489466f8a30f92": {
          "model_module": "@jupyter-widgets/controls",
          "model_name": "HBoxModel",
          "model_module_version": "1.5.0",
          "state": {
            "_dom_classes": [],
            "_model_module": "@jupyter-widgets/controls",
            "_model_module_version": "1.5.0",
            "_model_name": "HBoxModel",
            "_view_count": null,
            "_view_module": "@jupyter-widgets/controls",
            "_view_module_version": "1.5.0",
            "_view_name": "HBoxView",
            "box_style": "",
            "children": [
              "IPY_MODEL_a3f65eddd4934a76ad74d26cf6f15627",
              "IPY_MODEL_276b04423aad4af7a69a8e091bc2cbae",
              "IPY_MODEL_12b4cd62fe5145409a57058a3401e990"
            ],
            "layout": "IPY_MODEL_9f267dc4da5446649617a4dd1e7d6781"
          }
        },
        "a3f65eddd4934a76ad74d26cf6f15627": {
          "model_module": "@jupyter-widgets/controls",
          "model_name": "HTMLModel",
          "model_module_version": "1.5.0",
          "state": {
            "_dom_classes": [],
            "_model_module": "@jupyter-widgets/controls",
            "_model_module_version": "1.5.0",
            "_model_name": "HTMLModel",
            "_view_count": null,
            "_view_module": "@jupyter-widgets/controls",
            "_view_module_version": "1.5.0",
            "_view_name": "HTMLView",
            "description": "",
            "description_tooltip": null,
            "layout": "IPY_MODEL_507f41004d264075bca6583368f2006f",
            "placeholder": "​",
            "style": "IPY_MODEL_127d52efd41043a8b23f7e7fe18c12b2",
            "value": "100%"
          }
        },
        "276b04423aad4af7a69a8e091bc2cbae": {
          "model_module": "@jupyter-widgets/controls",
          "model_name": "FloatProgressModel",
          "model_module_version": "1.5.0",
          "state": {
            "_dom_classes": [],
            "_model_module": "@jupyter-widgets/controls",
            "_model_module_version": "1.5.0",
            "_model_name": "FloatProgressModel",
            "_view_count": null,
            "_view_module": "@jupyter-widgets/controls",
            "_view_module_version": "1.5.0",
            "_view_name": "ProgressView",
            "bar_style": "success",
            "description": "",
            "description_tooltip": null,
            "layout": "IPY_MODEL_b78c4c1b609e4d0eb1b21c6ecc2514a3",
            "max": 189999,
            "min": 0,
            "orientation": "horizontal",
            "style": "IPY_MODEL_659dcc476b904c12952de7f9cf1a6859",
            "value": 189999
          }
        },
        "12b4cd62fe5145409a57058a3401e990": {
          "model_module": "@jupyter-widgets/controls",
          "model_name": "HTMLModel",
          "model_module_version": "1.5.0",
          "state": {
            "_dom_classes": [],
            "_model_module": "@jupyter-widgets/controls",
            "_model_module_version": "1.5.0",
            "_model_name": "HTMLModel",
            "_view_count": null,
            "_view_module": "@jupyter-widgets/controls",
            "_view_module_version": "1.5.0",
            "_view_name": "HTMLView",
            "description": "",
            "description_tooltip": null,
            "layout": "IPY_MODEL_24e38f7fb6c84337be5fb16bc29a88a1",
            "placeholder": "​",
            "style": "IPY_MODEL_228f6a2421514ab8a8b3515b956130ae",
            "value": " 189999/189999 [24:16&lt;00:00, 68.47it/s]"
          }
        },
        "9f267dc4da5446649617a4dd1e7d6781": {
          "model_module": "@jupyter-widgets/base",
          "model_name": "LayoutModel",
          "model_module_version": "1.2.0",
          "state": {
            "_model_module": "@jupyter-widgets/base",
            "_model_module_version": "1.2.0",
            "_model_name": "LayoutModel",
            "_view_count": null,
            "_view_module": "@jupyter-widgets/base",
            "_view_module_version": "1.2.0",
            "_view_name": "LayoutView",
            "align_content": null,
            "align_items": null,
            "align_self": null,
            "border": null,
            "bottom": null,
            "display": null,
            "flex": null,
            "flex_flow": null,
            "grid_area": null,
            "grid_auto_columns": null,
            "grid_auto_flow": null,
            "grid_auto_rows": null,
            "grid_column": null,
            "grid_gap": null,
            "grid_row": null,
            "grid_template_areas": null,
            "grid_template_columns": null,
            "grid_template_rows": null,
            "height": null,
            "justify_content": null,
            "justify_items": null,
            "left": null,
            "margin": null,
            "max_height": null,
            "max_width": null,
            "min_height": null,
            "min_width": null,
            "object_fit": null,
            "object_position": null,
            "order": null,
            "overflow": null,
            "overflow_x": null,
            "overflow_y": null,
            "padding": null,
            "right": null,
            "top": null,
            "visibility": null,
            "width": null
          }
        },
        "507f41004d264075bca6583368f2006f": {
          "model_module": "@jupyter-widgets/base",
          "model_name": "LayoutModel",
          "model_module_version": "1.2.0",
          "state": {
            "_model_module": "@jupyter-widgets/base",
            "_model_module_version": "1.2.0",
            "_model_name": "LayoutModel",
            "_view_count": null,
            "_view_module": "@jupyter-widgets/base",
            "_view_module_version": "1.2.0",
            "_view_name": "LayoutView",
            "align_content": null,
            "align_items": null,
            "align_self": null,
            "border": null,
            "bottom": null,
            "display": null,
            "flex": null,
            "flex_flow": null,
            "grid_area": null,
            "grid_auto_columns": null,
            "grid_auto_flow": null,
            "grid_auto_rows": null,
            "grid_column": null,
            "grid_gap": null,
            "grid_row": null,
            "grid_template_areas": null,
            "grid_template_columns": null,
            "grid_template_rows": null,
            "height": null,
            "justify_content": null,
            "justify_items": null,
            "left": null,
            "margin": null,
            "max_height": null,
            "max_width": null,
            "min_height": null,
            "min_width": null,
            "object_fit": null,
            "object_position": null,
            "order": null,
            "overflow": null,
            "overflow_x": null,
            "overflow_y": null,
            "padding": null,
            "right": null,
            "top": null,
            "visibility": null,
            "width": null
          }
        },
        "127d52efd41043a8b23f7e7fe18c12b2": {
          "model_module": "@jupyter-widgets/controls",
          "model_name": "DescriptionStyleModel",
          "model_module_version": "1.5.0",
          "state": {
            "_model_module": "@jupyter-widgets/controls",
            "_model_module_version": "1.5.0",
            "_model_name": "DescriptionStyleModel",
            "_view_count": null,
            "_view_module": "@jupyter-widgets/base",
            "_view_module_version": "1.2.0",
            "_view_name": "StyleView",
            "description_width": ""
          }
        },
        "b78c4c1b609e4d0eb1b21c6ecc2514a3": {
          "model_module": "@jupyter-widgets/base",
          "model_name": "LayoutModel",
          "model_module_version": "1.2.0",
          "state": {
            "_model_module": "@jupyter-widgets/base",
            "_model_module_version": "1.2.0",
            "_model_name": "LayoutModel",
            "_view_count": null,
            "_view_module": "@jupyter-widgets/base",
            "_view_module_version": "1.2.0",
            "_view_name": "LayoutView",
            "align_content": null,
            "align_items": null,
            "align_self": null,
            "border": null,
            "bottom": null,
            "display": null,
            "flex": null,
            "flex_flow": null,
            "grid_area": null,
            "grid_auto_columns": null,
            "grid_auto_flow": null,
            "grid_auto_rows": null,
            "grid_column": null,
            "grid_gap": null,
            "grid_row": null,
            "grid_template_areas": null,
            "grid_template_columns": null,
            "grid_template_rows": null,
            "height": null,
            "justify_content": null,
            "justify_items": null,
            "left": null,
            "margin": null,
            "max_height": null,
            "max_width": null,
            "min_height": null,
            "min_width": null,
            "object_fit": null,
            "object_position": null,
            "order": null,
            "overflow": null,
            "overflow_x": null,
            "overflow_y": null,
            "padding": null,
            "right": null,
            "top": null,
            "visibility": null,
            "width": null
          }
        },
        "659dcc476b904c12952de7f9cf1a6859": {
          "model_module": "@jupyter-widgets/controls",
          "model_name": "ProgressStyleModel",
          "model_module_version": "1.5.0",
          "state": {
            "_model_module": "@jupyter-widgets/controls",
            "_model_module_version": "1.5.0",
            "_model_name": "ProgressStyleModel",
            "_view_count": null,
            "_view_module": "@jupyter-widgets/base",
            "_view_module_version": "1.2.0",
            "_view_name": "StyleView",
            "bar_color": null,
            "description_width": ""
          }
        },
        "24e38f7fb6c84337be5fb16bc29a88a1": {
          "model_module": "@jupyter-widgets/base",
          "model_name": "LayoutModel",
          "model_module_version": "1.2.0",
          "state": {
            "_model_module": "@jupyter-widgets/base",
            "_model_module_version": "1.2.0",
            "_model_name": "LayoutModel",
            "_view_count": null,
            "_view_module": "@jupyter-widgets/base",
            "_view_module_version": "1.2.0",
            "_view_name": "LayoutView",
            "align_content": null,
            "align_items": null,
            "align_self": null,
            "border": null,
            "bottom": null,
            "display": null,
            "flex": null,
            "flex_flow": null,
            "grid_area": null,
            "grid_auto_columns": null,
            "grid_auto_flow": null,
            "grid_auto_rows": null,
            "grid_column": null,
            "grid_gap": null,
            "grid_row": null,
            "grid_template_areas": null,
            "grid_template_columns": null,
            "grid_template_rows": null,
            "height": null,
            "justify_content": null,
            "justify_items": null,
            "left": null,
            "margin": null,
            "max_height": null,
            "max_width": null,
            "min_height": null,
            "min_width": null,
            "object_fit": null,
            "object_position": null,
            "order": null,
            "overflow": null,
            "overflow_x": null,
            "overflow_y": null,
            "padding": null,
            "right": null,
            "top": null,
            "visibility": null,
            "width": null
          }
        },
        "228f6a2421514ab8a8b3515b956130ae": {
          "model_module": "@jupyter-widgets/controls",
          "model_name": "DescriptionStyleModel",
          "model_module_version": "1.5.0",
          "state": {
            "_model_module": "@jupyter-widgets/controls",
            "_model_module_version": "1.5.0",
            "_model_name": "DescriptionStyleModel",
            "_view_count": null,
            "_view_module": "@jupyter-widgets/base",
            "_view_module_version": "1.2.0",
            "_view_name": "StyleView",
            "description_width": ""
          }
        }
      }
    },
    "accelerator": "GPU"
  },
  "nbformat": 4,
  "nbformat_minor": 0
}